{
 "cells": [
  {
   "cell_type": "code",
   "execution_count": 1,
   "metadata": {
    "collapsed": true
   },
   "outputs": [],
   "source": [
    "tweet = [\"this\", \"is\", \"not\", \"good\"]\n",
    "\n",
    "def negation(tweet):\n",
    "    keywordSet = {\"don't\", \"never\", \"nothing\", \"nowhere\", \"none\", \"not\", \"hasn't\", \"hadn't\", \"can't\", \"couldn't\",\n",
    "                  \"shouldn't\", \"won't\", \"wouldn't\", \"don't\", \"doesn't\", \"didn't\", \"isn't\", \"aren't\", \"ain't\"}\n",
    "    neg_count = []\n",
    "    for i in range(len(tweet)):\n",
    "        neg_count.append(0)\n",
    "        \n",
    "    for neg in keywordSet:\n",
    "        if neg in tweet:\n",
    "            for i in range(len(tweet)):\n",
    "                if i>= tweet.index(neg):\n",
    "                    neg_count[i] = neg_count[i] + 1\n",
    "                    \n",
    "    \n",
    "    for i in range(len(tweet)):\n",
    "        if neg_count[i] % 2 == 1:\n",
    "            tweet[i] = \"NEG_\" + tweet[i]\n",
    "             \n",
    "    return tweet"
   ]
  },
  {
   "cell_type": "code",
   "execution_count": 3,
   "metadata": {},
   "outputs": [
    {
     "name": "stdout",
     "output_type": "stream",
     "text": [
      "['this', 'is', 'NEG_not', 'NEG_good']\n"
     ]
    }
   ],
   "source": [
    "print negation(tweet)"
   ]
  },
  {
   "cell_type": "code",
   "execution_count": 7,
   "metadata": {},
   "outputs": [
    {
     "name": "stdout",
     "output_type": "stream",
     "text": [
      "['I', \"NEG_don't\", 'NEG_care', 'NEG_about', 'not', 'winning']\n"
     ]
    }
   ],
   "source": [
    "sentence = \"I don't care about not winning\".split()\n",
    "\n",
    "print negation(sentence)"
   ]
  }
 ],
 "metadata": {
  "kernelspec": {
   "display_name": "Python 2",
   "language": "python",
   "name": "python2"
  },
  "language_info": {
   "codemirror_mode": {
    "name": "ipython",
    "version": 2.0
   },
   "file_extension": ".py",
   "mimetype": "text/x-python",
   "name": "python",
   "nbconvert_exporter": "python",
   "pygments_lexer": "ipython2",
   "version": "2.7.6"
  }
 },
 "nbformat": 4,
 "nbformat_minor": 0
}