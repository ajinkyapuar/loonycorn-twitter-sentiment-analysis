{
 "cells": [
  {
   "cell_type": "code",
   "execution_count": 204,
   "metadata": {},
   "outputs": [],
   "source": [
    "import json, ast\n",
    "# from pprint import pprint\n",
    "\n",
    "data = ast.literal_eval(json.dumps(json.load(open('key.json')))) \n",
    "\n",
    "# pprint(data)\n",
    "#print data['consumer_key']"
   ]
  },
  {
   "cell_type": "code",
   "execution_count": 205,
   "metadata": {},
   "outputs": [],
   "source": [
    "import twitter\n",
    "\n",
    "api = twitter.Api(consumer_key=data['consumer_key'], consumer_secret=data['consumer_secret'],access_token_key=data['access_token'], access_token_secret=data['access_secret'])"
   ]
  },
  {
   "cell_type": "code",
   "execution_count": 206,
   "metadata": {
    "collapsed": false
   },
   "outputs": [
    {
     "name": "stdout",
     "output_type": "stream",
     "text": [
      "ajinkyapuar\n"
     ]
    }
   ],
   "source": [
    "data = api.VerifyCredentials()\n",
    "\n",
    "print data.screen_name"
   ]
  },
  {
   "cell_type": "code",
   "execution_count": 207,
   "metadata": {},
   "outputs": [],
   "source": [
    "# Step 1 : Accept a search term and download 100 tweets\n",
    "def create_test_data(search_string):\n",
    "    # print search_string\n",
    "    try:\n",
    "        tweets = api.GetSearch(search_string, count=100)\n",
    "        # print len(tweets)\n",
    "        return [{\"text\": tweet.text, \"label\": None} for tweet in tweets]\n",
    "    except:\n",
    "        print \"Exception!!!\"\n",
    "        return None"
   ]
  },
  {
   "cell_type": "code",
   "execution_count": 208,
   "metadata": {},
   "outputs": [
    {
     "name": "stdout",
     "output_type": "stream",
     "text": [
      "73\n"
     ]
    }
   ],
   "source": [
    "# user_input=raw_input(\"Enter keyword to search: \")\n",
    "\n",
    "testData = create_test_data(\"#Apple\")\n",
    "print len(testData)"
   ]
  },
  {
   "cell_type": "code",
   "execution_count": 209,
   "metadata": {},
   "outputs": [
    {
     "name": "stdout",
     "output_type": "stream",
     "text": [
      "{'text': u'\\u30a2\\u30c3\\u30d7\\u30eb\\u6e0b\\u8c37\\u304c\\u672c\\u65e5\\u3092\\u3082\\u3063\\u3066\\u9589\\u5e97\\u3002\\u30b9\\u30c8\\u30a2\\u306e\\u524d\\u306b\\u306f\\u55b6\\u696d\\u7d42\\u4e86\\u306e\\u77ac\\u9593\\u3092\\u898b\\u5c4a\\u3051\\u308b\\u305f\\u3081\\u306b\\u591a\\u304f\\u306e\\u4eba\\u304c\\u96c6\\u307e\\u308a\\u307e\\u3057\\u305f\\nhttps://t.co/NW4LxOjvx7\\n#Apple #\\u6e0b\\u8c37 https://t.co/ScFxRj4ll5', 'label': None}\n{'text': u'iPhone X\\u306e\\u9854\\u8a8d\\u8a3c\\u306f\\u3060\\u307e\\u305b\\u308b\\u304b\\uff1f \\u5b9f\\u6a5f\\u3067\\u691c\\u8a3c \\n\\u4e00\\u5375\\u6027\\u4e09\\u3064\\u5b50\\u306b\\u3082\\u5354\\u529b\\u3057\\u3066\\u3082\\u3089\\u3044\\u3001\\u305d\\u306e\\u7cbe\\u5ea6\\u3092\\u8a66\\u3057\\u3066\\u307f\\u305f\\u3002\\u679c\\u305f\\u3057\\u3066\\u7d50\\u679c\\u306f\\uff1f\\n#iPhone #Apple\\nhttps://t.co/TZkPj6nNne https://t.co/TljD2XhOLi', 'label': None}\n{'text': u\"Video: Everything you need to know about #Apple's #iMac Pro in under 6 minutes https://t.co/7MTXPLDau4 https://t.co/JGer3pbsLz\", 'label': None}\n{'text': u'GarageBand\\u2019de T\\xfcrk Ezgileri Neden Yok? #TeknoBaze #GaragwBand #Apple #Haber #News #Article #Makale #M\\xfczikhttp://www\\u2026 https://t.co/XM9D4QSVU1', 'label': None}\n{'text': u'Best ARKit apps For #iPhone you cannot afford to miss https://t.co/tnKofDZuoP #apple #apps', 'label': None}\n{'text': u'RT @iMatteo_Pau: Ecco il nuovo Spot #Apple sul #FaceID! \\n#iPhoneX https://t.co/4LPQjvy7b5', 'label': None}\n{'text': u'RT @aimee_amos: \"I have done nothing in my life with which to be proud. I am a filth ridden rag.\"\\nMy Name Is Not Saul is on #itunes #apple\\u2026', 'label': None}\n{'text': u'How to access #iOS audio output switcher from #controlcenter with only one tap!\\n\\n#Apple #iPhone #Hacks #DidYouKnow\\u2026 https://t.co/dMWLFddlrX', 'label': None}\n{'text': u'\\u308a\\u3093\\u3054\\u306e\\u304a\\u5e3d\\u5b50\\u88ab\\u3063\\u3066\\u305f\\u3089\\U0001f644\\n\\u516b\\u767e\\u5c4b\\u306e\\u304a\\u3044\\u3061\\u3083\\u3093\\u306b\\u308a\\u3093\\u3054\\u6234\\u3044\\u305f\\U0001f34e\\U0001f5a4\\n\\n\\u308f\\u30fc\\u3044\\u308f\\u30fc\\u3044\\U0001f64c\\u559c\\u3093\\u3067\\u305f\\u3089\\u3082\\u30461\\u500b\\U0001f34e\\U0001f5a4\\n\\u512a\\u3057\\u3044\\u306a\\u3041\\u3002\\u5b09\\u3057\\u3044\\u306a\\u3041\\u3002\\n\\n#apple #kimono #happy #micopa #micoparade #tokyo\\u2026 https://t.co/Xedc4GySNC', 'label': None}\n{'text': u'RT @Toms_BonsPlans: \\u26a0 #BonPlan \\U0001f4f1\\n\\U0001f449 https://t.co/K9OWCP62Xm \\nRemise de 7% sur le #Smartphone #Apple #iPhone 8 64 Go !\\n754\\u20ac95 \\U0001f19a 809\\u20ac95 \\nAvec\\u2026', 'label': None}\n{'text': u'Come on down to the @TeddingtonFarm market at Turing school. Excellent artisan #coffee at @therichcoffeeco and an\\u2026 https://t.co/zA5NzVfnn3', 'label': None}\n{'text': u'I have a theory (conspiracy theory perhaps?!) that #Apple deliberately downgrade products when new ones come out. A\\u2026 https://t.co/F6Ax48r2pI', 'label': None}\n{'text': u'Here are the #Apple Watch Black Friday deals that are worth your time : https://t.co/Du29sUm98s', 'label': None}\n{'text': u'Gallery: The #Apple Cup - The Daily Herald https://t.co/amYVuv7EZY https://t.co/0KJy4Zz3Sd', 'label': None}\n{'text': u'Check out ? #Apple deal from #O2 - Apple iPhone 6s (128GB Silver) at \\xa3179.99 on O2 Refresh 4G (24 Month(s)...\\u2b07https://t.co/Ob7F057Hpc', 'label': None}\n"
     ]
    }
   ],
   "source": [
    "for td in testData[0:15]:\n",
    "    print td"
   ]
  },
  {
   "cell_type": "code",
   "execution_count": 203,
   "metadata": {},
   "outputs": [],
   "source": [
    "# Step 2(a): Download corpus as training data\n",
    "# Niek Sanders Tweet Sentiment Corpus   \n",
    "\n",
    "import csv\n",
    "import time\n",
    "\n",
    "def createTrainingCorpus(corpusFile, tweetDataFile):\n",
    "    corpus = []\n",
    "    with open(corpusFile, 'rb') as csvfile:\n",
    "        print csvfile\n",
    "        linereader = csv.reader(csvfile, delimiter=',', quotechar=\"\\\"\")\n",
    "        for row in linereader:\n",
    "            corpus.append({\"tweet_id\": row[2], \"label\": row[1], \"topic\": row[0]})\n",
    "\n",
    "    rate_limit = 180\n",
    "    sleep_time = 900 / rate_limit\n",
    "\n",
    "    training_data = []\n",
    "    for tweet in corpus:\n",
    "        try:\n",
    "            status = api.GetStatus(tweet[\"tweet_id\"])\n",
    "            print status.text\n",
    "            tweet[\"text\"] = status.text\n",
    "            training_data.append(tweet)\n",
    "            time.sleep(sleep_time)\n",
    "        except:\n",
    "            continue\n",
    "    \n",
    "    with open(tweetDataFile, 'wb')as csvfile:\n",
    "        linewriter = csv.writer(csvfile, delimiter=',', quotechar=\"\\\"\")\n",
    "        for tweet in training_data:\n",
    "            linewriter.writerow([tweet['tweet_id'], tweet['text'], tweet['label'], tweet['topic']])\n",
    "\n",
    "    return training_data"
   ]
  },
  {
   "cell_type": "code",
   "execution_count": 210,
   "metadata": {
    "collapsed": false
   },
   "outputs": [
    {
     "name": "stdout",
     "output_type": "stream",
     "text": [
      "Reading Corpus File\n"
     ]
    },
    {
     "name": "stdout",
     "output_type": "stream",
     "text": [
      "Now all @Apple has to do is get swype on the iphone and it will be crack. Iphone that is\n"
     ]
    },
    {
     "name": "stdout",
     "output_type": "stream",
     "text": [
      "Hilarious @youtube video - guy does a duet with @apple 's Siri. Pretty much sums up the love affair! http://t.co/8ExbnQjY\n"
     ]
    },
    {
     "name": "stdout",
     "output_type": "stream",
     "text": [
      "@RIM you made it too easy for me to switch to @Apple iPhone. See ya!\n"
     ]
    },
    {
     "name": "stdout",
     "output_type": "stream",
     "text": [
      "The 16 strangest things Siri has said so far. I am SOOO glad that @Apple gave Siri a sense of humor! http://t.co/TWAeUDBp via @HappyPlace\n"
     ]
    },
    {
     "name": "stdout",
     "output_type": "stream",
     "text": [
      "Great up close & personal event @Apple tonight in Regent St store!\n"
     ]
    },
    {
     "name": "stdout",
     "output_type": "stream",
     "text": [
      "From which companies do you experience the best customer service aside from @zappos and @apple?\n"
     ]
    },
    {
     "name": "stdout",
     "output_type": "stream",
     "text": [
      "Just apply for a job at @Apple, hope they call me lol\n"
     ]
    },
    {
     "name": "stdout",
     "output_type": "stream",
     "text": [
      "Lmao I think @apple is onto something magical! I am DYING!!! haha. Siri suggested where to find whores and where to hide a body lolol\n"
     ]
    },
    {
     "name": "stdout",
     "output_type": "stream",
     "text": [
      "RT @PhillipRowntree: Just registered as an @apple developer... Here's hoping I can actually do it... Any help, greatly appreciated!\n"
     ]
    },
    {
     "name": "stdout",
     "output_type": "stream",
     "text": [
      "Wow. Great deals on refurbed #iPad (first gen) models. RT: Apple offers great deals on refurbished 1st-gen iPads http://t.co/ukWOKBGd @Apple\n"
     ]
    },
    {
     "name": "stdout",
     "output_type": "stream",
     "text": [
      "Just registered as an @apple developer... Here's hoping I can actually do it... Any help, greatly appreciated!\n"
     ]
    },
    {
     "name": "stdout",
     "output_type": "stream",
     "text": [
      "你好 ! Currently learning Mandarin for my upcoming trip to Hong Kong. I gotta hand it to @Apple iPhones & their uber useful flashcard apps  \n"
     ]
    },
    {
     "name": "stdout",
     "output_type": "stream",
     "text": [
      "Come to the dark side 📱“@gretcheneclark: Hey @apple, if you send me a free iPhone, I will publicly and ceremoniously burn my #BlackBerry.”\n"
     ]
    },
    {
     "name": "stdout",
     "output_type": "stream",
     "text": [
      "Thanks to @Apple Covent Garden #GeniusBar for replacing my MacBook keyboard/cracked wristpad during my lunch break today, out of warranty.\n"
     ]
    },
    {
     "name": "stdout",
     "output_type": "stream",
     "text": [
      "@DailyDealChat @apple Thanks!!\n"
     ]
    },
    {
     "name": "stdout",
     "output_type": "stream",
     "text": [
      "iPads Replace Bound Playbooks on Some N.F.L. Teams http://t.co/2UXAWKwf @apple @nytimes\n"
     ]
    },
    {
     "name": "stdout",
     "output_type": "stream",
     "text": [
      "@apple @siri is efffing amazing!!\n"
     ]
    },
    {
     "name": "stdout",
     "output_type": "stream",
     "text": [
      "RT @TripLingo: We're one of a few \"Featured Education Apps\" on the @Apple **Website** today, sweet! http://t.co/0yWvbe1Z\n"
     ]
    },
    {
     "name": "stdout",
     "output_type": "stream",
     "text": [
      "We're one of a few \"Featured Education Apps\" on the @Apple **Website** today, sweet! http://t.co/0yWvbe1Z\n"
     ]
    },
    {
     "name": "stdout",
     "output_type": "stream",
     "text": [
      "When you want something done right, you do it yourself... or go to @Apple. AT&T you're useless these days. #yourdaysarenumbered\n\n\n"
     ]
    },
    {
     "name": "stdout",
     "output_type": "stream",
     "text": [
      "We did an unexpected workshop for the #iPhone4S at @apple yesterday and we got an awesome amount of info #notjustaboutthephone @gamerchik16\n"
     ]
    },
    {
     "name": "stdout",
     "output_type": "stream",
     "text": [
      "---» RT @Apple No question bro. RT @AintEeenTrippin: Should I get dis iPhone or a EVO 3D?\n"
     ]
    },
    {
     "name": "stdout",
     "output_type": "stream",
     "text": [
      "RT @imightbewrong: I'm OVER people bitching about the #iPhone4S... I think it's the smartest phone I've ever had and I'm very happy.   : ...\n"
     ]
    },
    {
     "name": "stdout",
     "output_type": "stream",
     "text": [
      "I'm OVER people bitching about the #iPhone4S... I think it's the smartest phone I've ever had and I'm very happy.   :)  Way to go @Apple!\n"
     ]
    },
    {
     "name": "stdout",
     "output_type": "stream",
     "text": [
      "@Twitter CEO points to @Apple as 'corporate mentor' as @iOS signups triple http://t.co/GCY8iphN\n"
     ]
    },
    {
     "name": "stdout",
     "output_type": "stream",
     "text": [
      "At the bus with my iPhone ;) thxx @apple\n"
     ]
    },
    {
     "name": "stdout",
     "output_type": "stream",
     "text": [
      "@azee1v1 @apple @umber AppStore is well done, so is iTunes on the mobile devices.  I was talking about desktop app.\n"
     ]
    },
    {
     "name": "stdout",
     "output_type": "stream",
     "text": [
      "NYTimes: Coach Wants to See You. And Bring Your iPad. http://t.co/J2FTiEnG #iPad @apple set red 42 red 42 hut hut @NFL wish I had an #iPad\n"
     ]
    },
    {
     "name": "stdout",
     "output_type": "stream",
     "text": [
      "@apple @jilive @DanielPink: Apple sells 4 million iPhone 4S units in first weekend ... Steve Jobs brilliance lives on for ever! #iphone #RVA\n"
     ]
    },
    {
     "name": "stdout",
     "output_type": "stream",
     "text": [
      "@bkad5161 than apologize to @apple ;)\n"
     ]
    },
    {
     "name": "stdout",
     "output_type": "stream",
     "text": [
      "@Apple downloads of iOS 5 are proving popular with users  -- http://t.co/NSHLfiUX\n"
     ]
    },
    {
     "name": "stdout",
     "output_type": "stream",
     "text": [
      "Lmfao look at the argument I had with Siri !!\n@ijustine @apple http://t.co/D4VjL7SI\n"
     ]
    },
    {
     "name": "stdout",
     "output_type": "stream",
     "text": [
      "Incredible: 4 million iPhone 4Ss in 3 days. 135% better than the iPhone 4 http://t.co/1FMJxTMM @apple #iphone4s\n"
     ]
    },
    {
     "name": "stdout",
     "output_type": "stream",
     "text": [
      "Well @apple fixed my #ios5 battery drain problem with a replacement iPhone 4 -- it's working like a champ now\n"
     ]
    },
    {
     "name": "stdout",
     "output_type": "stream",
     "text": [
      "Currently ordering a BRAND NEW MACBOOK PRO!!! Bahhh... my MacBook is 5 years old. I'll miss it. But it's time. cc: @Apple -\n"
     ]
    },
    {
     "name": "stdout",
     "output_type": "stream",
     "text": [
      "#Siri now knows who my dad, mom, brother and girlfriend is.  Thanks @apple\n"
     ]
    },
    {
     "name": "stdout",
     "output_type": "stream",
     "text": [
      "Well at least the @apple store has amazing call waiting music! #need4s\n"
     ]
    },
    {
     "name": "stdout",
     "output_type": "stream",
     "text": [
      "#sweet... #apple replaced my glass #probono. thank you @apple\n"
     ]
    },
    {
     "name": "stdout",
     "output_type": "stream",
     "text": [
      "Not Bad! @Apple Sells Over 4 Million #IPhones in Debut Weekend - Bloomberg http://t.co/AVSl3ygU - #smartphone #sm RT @VinodRad\n"
     ]
    },
    {
     "name": "stdout",
     "output_type": "stream",
     "text": [
      "loving new technology from @apple iPhone 4s, mac air and iCloud are unreal #technology\n"
     ]
    },
    {
     "name": "stdout",
     "output_type": "stream",
     "text": [
      "I'm loving this new IOS5 update :) @apple\n"
     ]
    },
    {
     "name": "stdout",
     "output_type": "stream",
     "text": [
      "Another mention for Apple Store: http://t.co/fiIOApKt - RT @floridamike Once again getting great customer service from the @apple store ...\n"
     ]
    },
    {
     "name": "stdout",
     "output_type": "stream",
     "text": [
      "Time to go get my iPhone 4s.  Looking forward to sticking it to the man by no longer paying for most texts.  Thanks @apple.\n"
     ]
    },
    {
     "name": "stdout",
     "output_type": "stream",
     "text": [
      "Thank you @apple. My new gf(iphone4s) is great!  She does everything!\n"
     ]
    },
    {
     "name": "stdout",
     "output_type": "stream",
     "text": [
      "#iCloud set up was flawless and works like a champ! To the Cloud @Apple\n"
     ]
    },
    {
     "name": "stdout",
     "output_type": "stream",
     "text": [
      "@Wisconsin_Mommy @Apple I'd totally email the company... I always get great service at our @Apple store!\n"
     ]
    },
    {
     "name": "stdout",
     "output_type": "stream",
     "text": [
      "@apple loving the new IOS5 upgrade for the iPhone!\n"
     ]
    },
    {
     "name": "stdout",
     "output_type": "stream",
     "text": [
      "Once again getting great customer service from the @apple store at millenia mall.\n"
     ]
    },
    {
     "name": "stdout",
     "output_type": "stream",
     "text": [
      "Is it just me or is #iOS5 faster for the iPad? @apple\n"
     ]
    },
    {
     "name": "stdout",
     "output_type": "stream",
     "text": [
      "making the switch from @Android to @Apple #iphone #iphone4S #smartphone #stevejobs (@ Apple Store) http://t.co/kj6pJvkH\n"
     ]
    },
    {
     "name": "stdout",
     "output_type": "stream",
     "text": [
      "RT @cjwallace03: So apparently @apple put MB cap on your SMS with the new update. 25mb storage before it tells you your inbox is full. W ...\n"
     ]
    },
    {
     "name": "stdout",
     "output_type": "stream",
     "text": [
      "RT @Jewelz2611 @mashable @apple, iphones r 2 expensive. Most went w/ htc/galaxy. No customer loyalty w/phone comp..\n"
     ]
    },
    {
     "name": "stdout",
     "output_type": "stream",
     "text": [
      "@mashable @apple, iphones r 2 expensive. Most went w/ htc/galaxy. No customer loyalty w/phone comp..\n"
     ]
    },
    {
     "name": "stdout",
     "output_type": "stream",
     "text": [
      "@apple why my tunes no go on my iPhone? iPhone lonely without them. silly #iOS5\n"
     ]
    },
    {
     "name": "stdout",
     "output_type": "stream",
     "text": [
      "@apple needs to hurry up and release #iTunesMatch\n"
     ]
    },
    {
     "name": "stdout",
     "output_type": "stream",
     "text": [
      "Why is  #Siri always down @apple\n"
     ]
    },
    {
     "name": "stdout",
     "output_type": "stream",
     "text": [
      "I just need to exchange a cord at the apple store why do I have to wait for a genius? @apple\n"
     ]
    },
    {
     "name": "stdout",
     "output_type": "stream",
     "text": [
      "@apple AirDrop #fail - Immediate \"declined your request.\" every time\n"
     ]
    },
    {
     "name": "stdout",
     "output_type": "stream",
     "text": [
      "good article about why @apple fucked it all up with lion and their future. http://t.co/zNDP9Vr6 #fb\n"
     ]
    },
    {
     "name": "stdout",
     "output_type": "stream",
     "text": [
      "Yellowgate? Some iPhone 4S Users Complain of Yellow Tint to Screen http://t.co/uaqrxTNk @apple @iphone4s\n"
     ]
    },
    {
     "name": "stdout",
     "output_type": "stream",
     "text": [
      "The one #iphone feature still missing since @apple first showed it.. Contacts pictures on the contacts list! Simple yet 5 major updates miss\n"
     ]
    },
    {
     "name": "stdout",
     "output_type": "stream",
     "text": [
      "Asked siri is she dreams of electric sleep. Was disappointed that she didn't have a snippy answer.  Missed opportunity @apple\n"
     ]
    },
    {
     "name": "stdout",
     "output_type": "stream",
     "text": [
      "@paulens It surprises me that @Apple throws up an error alert about authorizing, and there's no \"Authorize this computer\" button.\n"
     ]
    },
    {
     "name": "stdout",
     "output_type": "stream",
     "text": [
      "FUCK YOU @apple DIE IN A FUCKING BLAZE INFERNO.\n"
     ]
    },
    {
     "name": "stdout",
     "output_type": "stream",
     "text": [
      "Oh, @apple. Steve obviously had nothing to do with iPhoto, as it's the perfect opposite of 'insanely great'. Get it fixed, please.\n"
     ]
    },
    {
     "name": "stdout",
     "output_type": "stream",
     "text": [
      "@ryanbaldwin @apple So in iTunes I go Store -&gt; Authorise… why doesn't it just auto-authorise it when I sign into iTunes? Grrrr...\n"
     ]
    },
    {
     "name": "stdout",
     "output_type": "stream",
     "text": [
      "Seriously - I have absolutely no offing clue what @Apple means by \"authorization\", nor how to do it.\n"
     ]
    },
    {
     "name": "stdout",
     "output_type": "stream",
     "text": [
      "Boy, could @apple make it any harder to put my purchased music from the cloud on to my new macbook pro? \"You must authorize this computer…\"\n"
     ]
    },
    {
     "name": "stdout",
     "output_type": "stream",
     "text": [
      "shit, shit, shit. IOS5 update ate all my apps, data and media just like @apple said it would. This is going to take some time to rebuild.\n"
     ]
    },
    {
     "name": "stdout",
     "output_type": "stream",
     "text": [
      ". @apple & @AT&T u cannot tell me there isn't at least 1 64GB iPhone 4S in LA or Vegas!! Give me a fucking break!!!!\n"
     ]
    },
    {
     "name": "stdout",
     "output_type": "stream",
     "text": [
      "Love @apple downloads. 4 hours and i-pad now wonky! #ripstevejobs #thenonsensepersists #neednewipadguide #fatfuckingchance\n"
     ]
    },
    {
     "name": "stdout",
     "output_type": "stream",
     "text": [
      "Dear @apple My new Air is now a notbook since your update killed #wifi #bug #destroying #productivity\n"
     ]
    },
    {
     "name": "stdout",
     "output_type": "stream",
     "text": [
      "I am so done with @Att and @apple 's profitering and lack of customer service, so fucking down with both!!!\n"
     ]
    },
    {
     "name": "stdout",
     "output_type": "stream",
     "text": [
      "It would be great If @Apple would send my new phone. #frustrated\n"
     ]
    },
    {
     "name": "stdout",
     "output_type": "stream",
     "text": [
      "@apple thank you for ruining my 3GS with #iOS5. You've just turned my phone into an utterly useless pile of shit.\n"
     ]
    },
    {
     "name": "stdout",
     "output_type": "stream",
     "text": [
      "@rogerweir no but I have the option of a  replacement iPhone 4s ?\nNot sure if I want one after having 2 duff iPhones.\n@O2 @iphone4s @apple\n"
     ]
    },
    {
     "name": "stdout",
     "output_type": "stream",
     "text": [
      "So apparently @apple put MB cap on your SMS with the new update. 25mb storage before it tells you your inbox is full. What is this 2001?\n"
     ]
    },
    {
     "name": "stdout",
     "output_type": "stream",
     "text": [
      "You know @apple It's been almost a week since I paid for iTunes Match, I would really like to use it. Any ETA on a fix?\n"
     ]
    },
    {
     "name": "stdout",
     "output_type": "stream",
     "text": [
      "So @PhoenixSwinger 's iPhone 4 is giving her a hella hard time w/ the iOS5 update @apple\n"
     ]
    },
    {
     "name": "stdout",
     "output_type": "stream",
     "text": [
      "@Apple can't send me an iPhone preordered 1hr after launching but they cans send 5 or 10 to all the jackasses who want to shoot or blend 'em\n"
     ]
    },
    {
     "name": "stdout",
     "output_type": "stream",
     "text": [
      "@bisquiat @Apple the upgrade just slows down my phone so much, it's stuck half the time. uch. thankfully no other damage. sucks for you :(\n"
     ]
    },
    {
     "name": "stdout",
     "output_type": "stream",
     "text": [
      "@Mayati I think @Apple didn't do such a thorough job with the step x steps for upgrade and move to iCloud. Now it's cost me mightily.\n"
     ]
    },
    {
     "name": "stdout",
     "output_type": "stream",
     "text": [
      "Hey @apple now I have iOS5 my iPhone doesn't include songs that are on compilation albums under the artist's name. #whaddupwitdat\n"
     ]
    },
    {
     "name": "stdout",
     "output_type": "stream",
     "text": [
      "@NickTheFNicon He can send but not rcve txts so he has an apt @apple at 4pm.Then he exclaims: And I waited a whole YEAR for this phone!!LMAO\n"
     ]
    },
    {
     "name": "stdout",
     "output_type": "stream",
     "text": [
      "Total chaos at @apple store regent street. Like an Ethiopian feeding station. Can't believe this is same co. that makes all that cool shit.\n"
     ]
    },
    {
     "name": "stdout",
     "output_type": "stream",
     "text": [
      "@FishMama: If you made a purchase, just wait for the @apple survey! hate going b/c of the bad #custserv\n"
     ]
    },
    {
     "name": "stdout",
     "output_type": "stream",
     "text": [
      "Correction: @ Best Buy kudos to Chris @ Alamo Ranch S.A. TX-fixed issues couldn't resolve after 1/2 day w/ @ATT & @Apple. Hero of my day!\n"
     ]
    },
    {
     "name": "stdout",
     "output_type": "stream",
     "text": [
      "@phxguy88 @Apple @BGR That's why all the ppl who stand in line for hrs to get the \"newest\" model are suckers...\n"
     ]
    },
    {
     "name": "stdout",
     "output_type": "stream",
     "text": [
      "Would it kill @apple to put a braille type bump on their earbuds so we know which bud is R and L in the dark.\n"
     ]
    },
    {
     "name": "stdout",
     "output_type": "stream",
     "text": [
      "@APPLE Wow @MOTOROLA Just crushed your dreams....\n"
     ]
    },
    {
     "name": "stdout",
     "output_type": "stream",
     "text": [
      "Time to play a game called wait at the @apple store forever because the tourists are taking forever with their genius appointments.\n"
     ]
    },
    {
     "name": "stdout",
     "output_type": "stream",
     "text": [
      "Oh, just fuck you, @apple. Already?? ---&gt;  iPhone 5 on schedule for summer launch? http://t.co/Ofh9PTaG via @BGR\n"
     ]
    },
    {
     "name": "stdout",
     "output_type": "stream",
     "text": [
      "@apple, \nNo, I won't wait until thursday for an available appointment just so a 'genius' can tell me I'm shit out of luck. #now\n"
     ]
    },
    {
     "name": "stdout",
     "output_type": "stream",
     "text": [
      "@Apple, on the #iPad with #iOS5, why has the Messages Icon been included when it can't be used?\n"
     ]
    },
    {
     "name": "stdout",
     "output_type": "stream",
     "text": [
      "@Steelo254 yea! I pre-order through @apple and they sorry too just like #AT&T\n"
     ]
    },
    {
     "name": "stdout",
     "output_type": "stream",
     "text": [
      "Interesting... @apple now requires you to have a reservation ?         #apple #iphone #4S    :  http://t.co/zZK4fTii\n"
     ]
    },
    {
     "name": "stdout",
     "output_type": "stream",
     "text": [
      "@apple why is my iPhone battery so crappy #fail\n"
     ]
    },
    {
     "name": "stdout",
     "output_type": "stream",
     "text": [
      "My @Apple @macbook keyboard will not type :(\n"
     ]
    },
    {
     "name": "stdout",
     "output_type": "stream",
     "text": [
      "Why doesn't @apple iCloud sync Stickies? They've always been around, just nothing every progressed w/ them!! Why apple why?  @gruber\n"
     ]
    },
    {
     "name": "stdout",
     "output_type": "stream",
     "text": [
      "@apple, your new \"Save a Version\" function in Pages is absolutely the most awful, interrupting, counter-intuitive piece of crap in the world\nTraining Data Fetched\nTweetdata file open\nWrite complete to tweetdata file\nDone\n"
     ]
    }
   ],
   "source": [
    "# Fetching Limited Tweets\n",
    "\n",
    "import csv\n",
    "import time\n",
    "\n",
    "def createLimitedTrainingCorpus(corpusFile, tweetDataFile):\n",
    "    corpus = []\n",
    "    with open(corpusFile, 'rb') as csvfile:\n",
    "        print \"Reading Corpus File\"\n",
    "        linereader = csv.reader(csvfile, delimiter=',', quotechar=\"\\\"\")\n",
    "        for row in linereader:\n",
    "            corpus.append({\"tweet_id\": row[2], \"label\": row[1], \"topic\": row[0]})\n",
    "    \n",
    "    training_data = []\n",
    "    for label in ['positive', 'negative']:\n",
    "        # print label\n",
    "        i = 1\n",
    "        for tweet in corpus:\n",
    "            if tweet['label'] == label and i <= 50:\n",
    "                try:\n",
    "                    status = api.GetStatus(tweet[\"tweet_id\"])\n",
    "                    print status.text\n",
    "                    tweet[\"text\"] = status.text\n",
    "                    training_data.append(tweet)\n",
    "                    i = i + 1\n",
    "                except Exception, e:\n",
    "                    # print e\n",
    "                    # print \"*\"\n",
    "                    continue\n",
    "\n",
    "    print \"Training Data Fetched\"\n",
    "    with open(tweetDataFile, 'wb') as csvfile:\n",
    "        print \"Tweetdata file open\"\n",
    "        linewriter = csv.writer(csvfile, delimiter=',', quotechar=\"\\\"\")\n",
    "        for tweet in training_data:\n",
    "            #print tweet\n",
    "            #print ast.literal_eval(json.dumps(tweet))['tweet_id']\n",
    "            t = ast.literal_eval(json.dumps(tweet))\n",
    "            try:\n",
    "                linewriter.writerow([t['tweet_id'], t['text'], t['label'], t['topic']])\n",
    "            except Exception, e:\n",
    "                continue\n",
    "\n",
    "    print \"Write complete to tweetdata file\"\n",
    "    return training_data\n",
    "\n",
    "corpusFile = 'corpus.csv'\n",
    "tweetDataFile = 'tweetData.csv'\n",
    "\n",
    "trainingData = createLimitedTrainingCorpus(corpusFile, tweetDataFile)\n",
    "#print trainingData\n",
    "\n",
    "print \"Done\""
   ]
  },
  {
   "cell_type": "code",
   "execution_count": 211,
   "metadata": {},
   "outputs": [
    {
     "name": "stdout",
     "output_type": "stream",
     "text": [
      "[([u'get', u'swype', u'iphone', u'crack', u'iphone'], 'positive'), ([u'hilarious', u'video', u'guy', u'duet', u\"'s\", u'siri', u'pretty', u'much', u'sums', u'love', u'affair'], 'positive'), ([u'made', u'easy', u'switch', u'iphone', u'see', u'ya'], 'positive'), ([u'16', u'strangest', u'things', u'siri', u'said', u'far', u'sooo', u'glad', u'gave', u'siri', u'sense', u'humor', u'via'], 'positive'), ([u'great', u'close', u'personal', u'event', u'tonight', u'regent', u'st', u'store'], 'positive')]\n[([u'\\u30a2\\u30c3\\u30d7\\u30eb\\u6e0b\\u8c37\\u304c\\u672c\\u65e5\\u3092\\u3082\\u3063\\u3066\\u9589\\u5e97\\u3002\\u30b9\\u30c8\\u30a2\\u306e\\u524d\\u306b\\u306f\\u55b6\\u696d\\u7d42\\u4e86\\u306e\\u77ac\\u9593\\u3092\\u898b\\u5c4a\\u3051\\u308b\\u305f\\u3081\\u306b\\u591a\\u304f\\u306e\\u4eba\\u304c\\u96c6\\u307e\\u308a\\u307e\\u3057\\u305f', u'https', u'//t.co/nw4lxojvx7', u'apple', u'\\u6e0b\\u8c37URL'], None), ([u'iphone', u'x\\u306e\\u9854\\u8a8d\\u8a3c\\u306f\\u3060\\u307e\\u305b\\u308b\\u304b\\uff1f', u'\\u5b9f\\u6a5f\\u3067\\u691c\\u8a3c', u'\\u4e00\\u5375\\u6027\\u4e09\\u3064\\u5b50\\u306b\\u3082\\u5354\\u529b\\u3057\\u3066\\u3082\\u3089\\u3044\\u3001\\u305d\\u306e\\u7cbe\\u5ea6\\u3092\\u8a66\\u3057\\u3066\\u307f\\u305f\\u3002\\u679c\\u305f\\u3057\\u3066\\u7d50\\u679c\\u306f\\uff1f', u'iphone', u'apple', u'https', u'//t.co/tzkpj6nnneURL'], None), ([u'video', u'everything', u'need', u'know', u'apple', u\"'s\", u'imac', u'pro', u'6', u'minutesURLURL'], None), ([u'garageband', u'\\u2019', u'de', u't\\xfcrk', u'ezgileri', u'neden', u'yok', u'teknobaze', u'garagwband', u'apple', u'haber', u'news', u'article', u'makale', u'm\\xfczikhttp', u'//www\\u2026URL'], None), ([u'best', u'arkit', u'apps', u'iphone', u'afford', u'missURL', u'apple', u'apps'], None)]\n"
     ]
    }
   ],
   "source": [
    "# Step 2(b): Class to pre-process all tweets, both training & testing\n",
    "\n",
    "import re\n",
    "from nltk.tokenize import word_tokenize\n",
    "from string import punctuation\n",
    "from nltk.corpus import stopwords\n",
    "\n",
    "class PreProcessTweets: \n",
    "    def __init__(self):\n",
    "         self._stopwords = set(stopwords.words('english') + list(punctuation ) + ['AT_USER', 'URL'])\n",
    "         \n",
    "    def processTweets(self, list_of_tweets):\n",
    "        processedTweets = []\n",
    "        for tweet in list_of_tweets:\n",
    "            processedTweets.append((self._processTweet(tweet['text']), tweet['label']))\n",
    "        return processedTweets\n",
    "    \n",
    "    def _processTweet(self, tweet):\n",
    "        tweet = tweet.lower()\n",
    "        tweet = re.sub('((www\\.[^\\s]+) | (https?://[^\\s]+))', 'URL', tweet) # Regex for URL\n",
    "        tweet = re.sub('@[^\\s]+', 'AT_USER', tweet) # Regex for AT_USER\n",
    "        tweet = re.sub(r'#([^\\s]+)', r'\\1', tweet) # Regex for #\n",
    "        tweet = word_tokenize(tweet)\n",
    "        return [word for word in tweet if word not in self._stopwords]\n",
    "    \n",
    "    \n",
    "tweetProcessor = PreProcessTweets()\n",
    "\n",
    "ppTrainingData = tweetProcessor.processTweets(trainingData)\n",
    "ppTestData = tweetProcessor.processTweets(testData)\n",
    "\n",
    "print ppTrainingData[:5]\n",
    "\n",
    "print ppTestData[:5]"
   ]
  },
  {
   "cell_type": "code",
   "execution_count": 212,
   "metadata": {},
   "outputs": [
    {
     "data": {
      "text/plain": [
       "SVC(C=1.0, cache_size=200, class_weight=None, coef0=0.0,\n  decision_function_shape=None, degree=3, gamma='auto', kernel='rbf',\n  max_iter=-1, probability=False, random_state=None, shrinking=True,\n  tol=0.001, verbose=False)"
      ]
     },
     "execution_count": 212,
     "metadata": {},
     "output_type": "execute_result"
    }
   ],
   "source": [
    "# Step 2(c): Extract feature and training the classifier\n",
    "import nltk\n",
    "\n",
    "# 1. Naive Bayes Classifier\n",
    " \n",
    "def buildVocabulary(ppTrainingData):\n",
    "    all_words = []\n",
    "    for (words, sentiment) in ppTrainingData:\n",
    "        all_words.extend(words)\n",
    "    \n",
    "    wordlist = nltk.FreqDist(all_words)\n",
    "    # print wordlist\n",
    "    word_features = wordlist.keys()\n",
    "    # print word_features\n",
    "    return word_features\n",
    "\n",
    "def extract_features(tweet):\n",
    "    tweet_words = set(tweet)\n",
    "    features = {}\n",
    "    for word in word_features:\n",
    "        features['contains(%s)' % word ] = (word in tweet_words)\n",
    "        \n",
    "    return features\n",
    "\n",
    "word_features = buildVocabulary(ppTrainingData)\n",
    "trainingFeatures = nltk.classify.apply_features(extract_features, ppTrainingData)\n",
    "\n",
    "NBClassifier = nltk.NaiveBayesClassifier.train(trainingFeatures)\n",
    "\n",
    "############################################################################################################################\n",
    "\n",
    "# 2. Support Vector Machines\n",
    "from nltk.corpus import sentiwordnet as swn\n",
    "import numpy as np\n",
    "from sklearn.feature_extraction.text import CountVectorizer\n",
    "\n",
    "svmTrainingData = [' '.join(tweet[0]) for tweet in ppTrainingData]\n",
    "\n",
    "vectorizer = CountVectorizer(min_df=1)\n",
    "X = vectorizer.fit_transform(svmTrainingData).toarray()\n",
    "vocabulary = vectorizer.get_feature_names()\n",
    "\n",
    "swn_weights = []\n",
    "\n",
    "for word in vocabulary:\n",
    "    try:\n",
    "        synset = list(swn.senti_synsets(word))\n",
    "        common_meaning = synset[0]\n",
    "        if common_meaning.pos_score() > common_meaning.neg_score():\n",
    "            weight = common_meaning.pos_score()\n",
    "        elif common_meaning.pos_score < common_meaning.neg_score():\n",
    "            weight = common_meaning.neg_score()\n",
    "        else:\n",
    "            weight = 0\n",
    "    except:\n",
    "        weight = 0\n",
    "    swn_weights.append(weight)\n",
    "    \n",
    "swn_X = []\n",
    "\n",
    "for row in X:\n",
    "    swn_X.append(np.multiply(row, np.array(swn_weights))) \n",
    "    \n",
    "swn_X = np.vstack(swn_X)\n",
    "\n",
    "labels_to_array = {\"positive\":1,\"negative\":2}\n",
    "\n",
    "labels = [labels_to_array[tweet[1]] for tweet in ppTrainingData]\n",
    "\n",
    "Y = np.array(labels)\n",
    "\n",
    "from sklearn.svm import SVC\n",
    "\n",
    "SVMClassifier = SVC()\n",
    "\n",
    "SVMClassifier.fit(swn_X, Y)"
   ]
  },
  {
   "cell_type": "code",
   "execution_count": 215,
   "metadata": {},
   "outputs": [],
   "source": [
    "# Step 2(d): Run classifier on the 100 downloaded tweets\n",
    "\n",
    "# 1. Naive Bayes Classifier\n",
    "\n",
    "NBResultLabels = [NBClassifier.classify(extract_features(tweet[0])) for tweet in ppTestData]\n",
    "\n",
    "############################################################################################################################\n",
    "\n",
    "# 2. Support Vector Machines\n",
    "\n",
    "SVMResultLabels = []\n",
    "\n",
    "for tweet in ppTestData:\n",
    "    tweet_sentence = ' '.join(tweet[0])\n",
    "    svmFeatures = np.multiply(vectorizer.transform([tweet_sentence]).toarray(), np.array(swn_weights ))\n",
    "    # print svmFeatures[0]\n",
    "    SVMResultLabels.append(SVMClassifier.predict(svmFeatures)[0])"
   ]
  },
  {
   "cell_type": "code",
   "execution_count": 216,
   "metadata": {},
   "outputs": [
    {
     "name": "stdout",
     "output_type": "stream",
     "text": [
      "['positive', 'positive', 'positive', 'positive', 'positive', 'positive', 'negative', 'positive', 'positive', 'positive', 'positive', 'positive', 'positive', 'positive', 'positive', 'positive', 'positive', 'negative', 'positive', 'positive', 'positive', 'positive', 'positive', 'positive', 'positive', 'positive', 'positive', 'positive', 'negative', 'positive', 'positive', 'positive', 'positive', 'negative', 'negative', 'positive', 'positive', 'positive', 'positive', 'positive', 'positive', 'positive', 'positive', 'positive', 'positive', 'positive', 'positive', 'positive', 'positive', 'positive', 'positive', 'positive', 'positive', 'positive', 'positive', 'positive', 'negative', 'positive', 'positive', 'positive', 'positive', 'negative', 'positive', 'positive', 'positive', 'positive', 'positive', 'positive', 'positive', 'negative', 'positive', 'positive', 'positive']\n"
     ]
    }
   ],
   "source": [
    "print NBResultLabels"
   ]
  },
  {
   "cell_type": "code",
   "execution_count": 217,
   "metadata": {},
   "outputs": [
    {
     "name": "stdout",
     "output_type": "stream",
     "text": [
      "[2, 2, 2, 2, 2, 2, 2, 2, 1, 2, 2, 2, 2, 2, 2, 2, 2, 2, 2, 2, 2, 2, 2, 2, 2, 2, 2, 2, 2, 2, 2, 2, 2, 2, 2, 2, 2, 2, 1, 2, 1, 1, 2, 2, 2, 2, 1, 2, 2, 2, 2, 2, 2, 2, 2, 2, 2, 2, 2, 2, 2, 2, 2, 2, 2, 2, 2, 2, 2, 2, 2, 2, 2]\n"
     ]
    }
   ],
   "source": [
    "print SVMResultLabels"
   ]
  },
  {
   "cell_type": "code",
   "execution_count": 218,
   "metadata": {},
   "outputs": [
    {
     "name": "stdout",
     "output_type": "stream",
     "text": [
      "NB Result Positive Sentiment 89%\n"
     ]
    }
   ],
   "source": [
    "if NBResultLabels.count('positive') >  NBResultLabels.count('negative'):\n",
    "    print \"NB Result Positive Sentiment \" + str(100 * NBResultLabels.count('positive') / len(NBResultLabels)) + \"%\"\n",
    "else:\n",
    "    print \"NB Result Negative Sentiment \" + str(100 * NBResultLabels.count('negative') / len(NBResultLabels)) + \"%\""
   ]
  },
  {
   "cell_type": "code",
   "execution_count": 219,
   "metadata": {},
   "outputs": [
    {
     "name": "stdout",
     "output_type": "stream",
     "text": [
      "SVM Result Negative Sentiment 93%\n"
     ]
    }
   ],
   "source": [
    "if SVMResultLabels.count(1) >  SVMResultLabels.count(2):\n",
    "    print \"SVM Result Positive Sentiment \" + str(100 * SVMResultLabels.count(1) / len(SVMResultLabels)) + \"%\"\n",
    "else:\n",
    "    print \"SVM Result Negative Sentiment \" + str(100 * SVMResultLabels.count(2) / len(SVMResultLabels)) + \"%\""
   ]
  },
  {
   "cell_type": "code",
   "execution_count": null,
   "metadata": {},
   "outputs": [],
   "source": [
    "# FIXES\n",
    "# Remove all neutral words according to sentiwordnet from vocabulary\n",
    "# Look at things like ALL CAPS & Emoticons etc\n",
    "# Get a corpus with more varied tweets \n",
    " "
   ]
  },
  {
   "cell_type": "code",
   "execution_count": null,
   "metadata": {},
   "outputs": [],
   "source": [
    ""
   ]
  }
 ],
 "metadata": {
  "kernelspec": {
   "display_name": "Python 2",
   "language": "python",
   "name": "python2"
  },
  "language_info": {
   "codemirror_mode": {
    "name": "ipython",
    "version": 2.0
   },
   "file_extension": ".py",
   "mimetype": "text/x-python",
   "name": "python",
   "nbconvert_exporter": "python",
   "pygments_lexer": "ipython2",
   "version": "2.7.6"
  }
 },
 "nbformat": 4,
 "nbformat_minor": 0
}