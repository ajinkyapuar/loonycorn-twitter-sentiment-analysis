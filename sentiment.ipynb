{
 "cells": [
  {
   "cell_type": "code",
   "execution_count": 7,
   "metadata": {},
   "outputs": [],
   "source": [
    "import json, ast\n",
    "# from pprint import pprint\n",
    "\n",
    "data = ast.literal_eval(json.dumps(json.load(open('key.json')))) \n",
    "\n",
    "# pprint(data)\n",
    "#print data['consumer_key']"
   ]
  },
  {
   "cell_type": "code",
   "execution_count": 8,
   "metadata": {},
   "outputs": [],
   "source": [
    "import twitter\n",
    "\n",
    "api = twitter.Api(consumer_key=data['consumer_key'], consumer_secret=data['consumer_secret'],access_token_key=data['access_token'], access_token_secret=data['access_secret'])"
   ]
  },
  {
   "cell_type": "code",
   "execution_count": 9,
   "metadata": {
    "collapsed": false
   },
   "outputs": [
    {
     "name": "stdout",
     "output_type": "stream",
     "text": [
      "ajinkyapuar\n"
     ]
    }
   ],
   "source": [
    "data = api.VerifyCredentials()\n",
    "\n",
    "print data.screen_name"
   ]
  },
  {
   "cell_type": "code",
   "execution_count": 19,
   "metadata": {},
   "outputs": [],
   "source": [
    "def create_test_data(search_string):\n",
    "    # print search_string\n",
    "    try:\n",
    "        tweets = api.GetSearch(search_string, count=100)\n",
    "    except:\n",
    "        print \"Exception!!!\"\n",
    "        return None\n",
    "    # print len(tweets)\n",
    "    return [{\"text\": tweet.text, \"label\": None} for tweet in tweets]"
   ]
  },
  {
   "cell_type": "code",
   "execution_count": 20,
   "metadata": {},
   "outputs": [
    {
     "name": "stdout",
     "output_type": "stream",
     "text": [
      "[{'text': u'They say that there\\'s no such thing as *perfect* but who are \"they\" and did they see @BTS_twt\\'s #AMAs performance b\\u2026 https://t.co/SfUeHV0FW3', 'label': None}, {'text': u'The #AMAs wowed with @BTS_twt in their first-ever American television performance: https://t.co/o5TKEUBdMh\\u2026 https://t.co/WCaawb3zoA', 'label': None}, {'text': u'BREAKING: Charles Manson dead at 83, California prison officials confirm. https://t.co/O0pXTKDQ3y https://t.co/WJMhkXWPfZ', 'label': None}, {'text': u\"@ABCPolitics @ABC Since the GOP wanted to be all up Hillary's ass about #Benghazi, are they even gonna do anything\\u2026 https://t.co/iHSrmWN4qX\", 'label': None}, {'text': u'RT @_ju1_: Madrid. Marcha falangista con saludos nazis y gritos favorables al fascismo espa\\xf1ol, previamente convocados por ABC y EL MUNDO p\\u2026', 'label': None}, {'text': u'El Spartak se deja dos puntos ante el Maribor (1-1) #SevillaFC https://t.co/izYoHzNPuM en @Orgullo_Nervion', 'label': None}, {'text': u'RT @JWils2994: @ABC Any chance @MeekMill gets a holiday leave?', 'label': None}, {'text': u'RT @komfukmuginatu: \\u3053\\u3093\\u3070\\u3093\\u306f\\u3002\\n\\u30d6\\u30ed\\u30b0\\u3092\\u66f4\\u65b0\\u3044\\u305f\\u3057\\u307e\\u3057\\u305f\\u3002\\n\\u300c\\u7c8b\\u7518\\u76f4\\u524d\\u3068\\u3002ABC\\u30e9\\u30b8\\u30aa\\u796d\\u308a2017\\u300d\\nhttps://t.co/09wXcjRYC4\\n\\n\\u65e5\\u66dc\\u306f\\u4e07\\u535a\\u306b\\u3066\\nABC\\u30e9\\u30b8\\u30aa\\u796d\\u308a\\u3067\\u3057\\u305f\\u3002\\n\\n\\u5bd2\\u3044\\u4e2d\\n\\u305f\\u30fc\\u304f\\u3055\\u3093\\u306e\\u65b9\\u306b\\u304a\\u8d8a\\u3057\\u9802\\u304d\\n\\u304a\\u58f0\\u304c\\u3051\\u9802\\u304d\\u3001\\n\\u5143\\u6c17\\u3092\\u305f\\u2026', 'label': None}, {'text': u'RT @ABC: BREAKING: Charles Manson dead at 83, California prison officials confirm. https://t.co/O0pXTKDQ3y https://t.co/WJMhkXWPfZ', 'label': None}, {'text': u'RT @JoseGatsby: @ABC These turkeys are being treated better than most citizens. https://t.co/yEDYfJROkc', 'label': None}, {'text': u\"RT @headlineplanet: Pitbull &amp; Fifth Harmony performed #PorFavor on Monday's Dancing With The Stars (photos by Eric McCandless/ABC). @FifthH\\u2026\", 'label': None}, {'text': u'15:51 en Puente Alto 10-1-1 H4 Camilo Henriquez y San Jose de La Estrella https://t.co/MbSbEfMvsd', 'label': None}, {'text': u'@NavarraSup @Seb19854 @Sup_Policia @Albert_Rivera @CiudadanosCs @MGutierrezCs @elmundoes @abc_es @publico_es\\u2026 https://t.co/0eK6TBNZA8', 'label': None}, {'text': u'RT @ABC: JUST IN: Remains of U.S. Army Sgt. La David Johnson found on November 12 at site in Niger where his body was recovered, U.S. offic\\u2026', 'label': None}, {'text': u'RT @ABCDigital: \\xbfD\\xf3nde est\\xe1n las reliquias? \\nhttps://t.co/8xeTKayBJQ https://t.co/rbHaNTY5MB', 'label': None}, {'text': u'RT @Namics: Event \"Das neue digitale ABC: #AI, #Bots, #Contracts\"- Unser Head of #businessdevelopment @markusgroiss mit Vortrag \"Business M\\u2026', 'label': None}, {'text': u'RT @radran10: \\u300c\\u4eca\\u65e5 \\u6687\\uff1f\\u300d\\u3058\\u3083\\u306a\\u304f\\u3066\\u300c\\u4f55\\u6642\\u306b\\u4f55\\u3092\\u3059\\u308b\\u306e\\u304b\\u300d\\u3092\\u6559\\u3048\\u3066\\u6b32\\u3057\\u3044\\u3002\\n\\u5f8c\\u3001\\u6b32\\u3092\\u8a00\\u3048\\u3070\\u300c\\u8ab0\\u304c\\u6765\\u308b\\u306e\\u304b\\u300d\\u3082\\u3057\\u3063\\u304b\\u308a\\u6559\\u3048\\u3066\\u6b32\\u3057\\u3044\\u2026', 'label': None}, {'text': u'AGGGG \\nWTF is my steering wheel doing on the wrong side of the car? https://t.co/5emrkiVHAI', 'label': None}, {'text': u'RT @Albert_Rivera: PSOE, Podemos y separatistas rechazan el proyecto de ley de Cs para desarrollar la Alta Inspecci\\xf3n educativa.  https://t\\u2026', 'label': None}, {'text': u'RT @kylegriffin1: Ex-Trump campaign adviser Carter Page held high-level foreign policy meetings with Hungarian officials ahead of the 2016\\u2026', 'label': None}, {'text': u'RT @Albert_Rivera: PSOE, Podemos y separatistas rechazan el proyecto de ley de Cs para desarrollar la Alta Inspecci\\xf3n educativa.  https://t\\u2026', 'label': None}, {'text': u'Imaginate la emoci\\xf3n de aprobar que le regal\\xe9 un cuaderno abc ENTERO a la profesora.', 'label': None}, {'text': u'La importancia de proteger a nuestros hijos en los colegios @esBritish @carlotafominaya  https://t.co/N3GhQr5kXQ v\\xeda @abc_es', 'label': None}, {'text': u'Yo just cut ur losses nd give him the whip at that point https://t.co/P1OSoT6gNk', 'label': None}, {'text': u'RT @ABC: Community effort: Indiana family hangs warm clothing on \\'blessing fence\\' for anyone in need to take. \"It started as just an idea.\"\\u2026', 'label': None}, {'text': u'RT @abc_es: Un juez manda a la Guardia Civil a por una pintura aragonesa que iba a subastarse en Barcelona https://t.co/u4rpeXRNuW', 'label': None}, {'text': u'RT @voxnoticias_es: \\U0001f4f0 Asalto a nuestra seguridad nacional: La inmigraci\\xf3n argelina sobrepasa Murcia y se triplica en la provincia de Alican\\u2026', 'label': None}, {'text': u'RT @ABCPolitics: JUST IN: Remains of U.S. Army Sgt. La David Johnson found on November 12 at site in Niger where his body was recovered, U.\\u2026', 'label': None}, {'text': u'@TheTobster111 @Kaysexton20 @petitchoux3 @ABC She\\u2019s likely a bot.', 'label': None}, {'text': u'RT @ABCPolitics: JUST IN: Remains of U.S. Army Sgt. La David Johnson found on November 12 at site in Niger where his body was recovered, U.\\u2026', 'label': None}, {'text': u'RT @adcascales78: @Sup_Policia @Albert_Rivera @CiudadanosCs @MGutierrezCs @elmundoes @abc_es @publico_es @Vocento @okdiario @larazon_es @Mo\\u2026', 'label': None}, {'text': u'Es un cl\\xe1sico en Catalu\\xf1a, desde Maci\\xe0 y Companys, que los que m\\xe1s dicen obrar en nombre de su amor y m\\xe1s acusan de\\u2026 https://t.co/EEWVqZ1V7a', 'label': None}, {'text': u\"RT @willishl: @ABCPolitics @ABC Also report that his widow, Mrs. Johnson was correct. She said that they didn't let her open the casket and\\u2026\", 'label': None}, {'text': u\"RT @willishl: @ABCPolitics @ABC Also report that his widow, Mrs. Johnson was correct. She said that they didn't let her open the casket and\\u2026\", 'label': None}, {'text': u'RT @Seb19854: @Sup_Policia @Albert_Rivera @CiudadanosCs @MGutierrezCs @elmundoes @abc_es @publico_es @Vocento @okdiario @larazon_es Por fin\\u2026', 'label': None}, {'text': u'Travesty of justice against #Maldives enviornment &amp; the local people perpetrated in broad daylight, destruction of\\u2026 https://t.co/GZTqsDMu9c', 'label': None}, {'text': u'RT @ABC: NEW: FCC Chair Ajit Pai announces proposal to roll back Obama-era net neutrality rules. https://t.co/heFyOH4q45', 'label': None}, {'text': u'Wtf https://t.co/5N9sdWCsSt', 'label': None}, {'text': u'RT @ABCPolitics: JUST IN: Remains of U.S. Army Sgt. La David Johnson found on November 12 at site in Niger where his body was recovered, U.\\u2026', 'label': None}, {'text': u'Greater online reach for newspapers more than physical reach #ABC results #enlightenment lecture #edinburghuniversity', 'label': None}, {'text': u'RT @radran10: \\u304a\\u524d\\u306e\\u4e00\\u6642\\u7684\\u306a\\u300c\\u5bc2\\u3057\\u3055\\u300d\\u3067\\u4eba\\u3068\\u4ed8\\u304d\\u5408\\u3063\\u305f\\u308a\\u3059\\u308b\\u306a\\u3088\\u2026\\n\\u4ed6\\u4eba\\u307e\\u3067\\u4e0d\\u5e78\\u306b\\u3057\\u3066\\u3069\\u3046\\u3059\\u308b\\u3093\\u3060\\u3088', 'label': None}, {'text': u'@ABC \\U0001f644', 'label': None}, {'text': u'RT @ABCDeportes: El invicto de la Nueva Olla: Cerro Porte\\xf1o gan\\xf3 los seis partidos (consecutivos) que jug\\xf3 por el Clausura desde la inaugur\\u2026', 'label': None}, {'text': u'RT @AsiaChloeBrown: So the casket was closed because his corpse was literally not all there.\\n\\nThis is fucking ugly. https://t.co/LdEGBOF9lm', 'label': None}, {'text': u\"RT @MJStarLover: When his widow Myeshia Johnson said for all she knows his remains could still be out there when they wouldn't let her see\\u2026\", 'label': None}, {'text': u\"RT @GoodDoctorABC: Friends come with apples and apologies. \\nWatch last night's #TheGoodDoctor here! https://t.co/HhohOVH5A2 https://t.co/Dy\\u2026\", 'label': None}, {'text': u'@Vicenjn @bieitorubido y Pedro Carre\\xf1o defienden los valores tradicionales del periodismo tambi\\xe9n en la era digital\\u2026 https://t.co/TBq0FpFNfq', 'label': None}, {'text': u'RT @evanmcmurry: JUST IN: Remains of U.S. Army Sgt. La David Johnson found on November 12 at site in Niger where his body was recovered, U.\\u2026', 'label': None}, {'text': u'@Ivanet75 @jaumeoliva_ @afn691 Acabarian diciendo que el original es el de las estaladas abriendo el ABC. Obviament\\u2026 https://t.co/7mbrokT9VW', 'label': None}, {'text': u'RT @evanmcmurry: JUST IN: Remains of U.S. Army Sgt. La David Johnson found on November 12 at site in Niger where his body was recovered, U.\\u2026', 'label': None}, {'text': u\"@1980Dorothy @averagejane34 @WolfspiritNancy @ABC EXACTLY ... im psychic .i can tell she's staying away for a reason\", 'label': None}, {'text': u'White privilege https://t.co/mR1LjvrLTU', 'label': None}, {'text': u'RT @shots: Watch @Alesso, @HaileeSteinfeld, @thisiswatt &amp; @FLAGALine perform \\u201cLet Me Go\\u201d live at the @AMAs! https://t.co/yYnlVofZ0F', 'label': None}, {'text': u'RT @voxnoticias_es: \\U0001f4f0 Asalto a nuestra seguridad nacional: La inmigraci\\xf3n argelina sobrepasa Murcia y se triplica en la provincia de Alican\\u2026', 'label': None}, {'text': u'@ABC That is some rich white male shit right there. #inequality https://t.co/wklyETzE1c', 'label': None}, {'text': u'RT @ABCPolitics: JUST IN: Remains of U.S. Army Sgt. La David Johnson found on November 12 at site in Niger where his body was recovered, U.\\u2026', 'label': None}, {'text': u'RT @Albert_Rivera: PSOE, Podemos y separatistas rechazan el proyecto de ley de Cs para desarrollar la Alta Inspecci\\xf3n educativa.  https://t\\u2026', 'label': None}, {'text': u'@ABC Poor poor Pocahantas @SenWarren https://t.co/1L4yPOYYFg', 'label': None}, {'text': u'RT @ABCPolitics: JUST IN: Remains of U.S. Army Sgt. La David Johnson found on November 12 at site in Niger where his body was recovered, U.\\u2026', 'label': None}, {'text': u'RT @ABC: Driver incredibly calm as she spots a six-legged creature perched above her head while driving. https://t.co/P2882ydMFn https://t.\\u2026', 'label': None}, {'text': u'RT @abc_es: Fernando Savater: \\xabA\\xfan hay idiotas que dicen eso de \\u201ctoda bandera me repugna\\u201d\\xbb https://t.co/V5pJD02G1i Por @brunopardoo', 'label': None}, {'text': u'RT @voxnoticias_es: \\U0001f4f0 Asalto a nuestra seguridad nacional: La inmigraci\\xf3n argelina sobrepasa Murcia y se triplica en la provincia de Alican\\u2026', 'label': None}, {'text': u\"RT @AntoniRK1956: @XavierDomenechs Esteu una mica apurats per construir el relar de l'equidist\\xe0ncia i.no perdre vots per la dreta. Fer cas\\u2026\", 'label': None}, {'text': u'@ABC Watts ?', 'label': None}, {'text': u'RT @ABC: Fire officials surprised when they respond to tractor-trailer fire in Georgia to find three African elephants. https://t.co/AtMwIA\\u2026', 'label': None}, {'text': u\"I remember feeling crushed when La David Johnson's widow said her husband's coffin could be empty for all she knew.\\u2026 https://t.co/HobkmJe6Ge\", 'label': None}, {'text': u'RT @abc_cultura: Fue el artista espa\\xf1ol conmayor presencia internacional en el \\xfaltimo tercio del siglo XIX, un verdadero renovador en todas\\u2026', 'label': None}, {'text': u'@cunadometro @LekaconK @pablocasado_ So\\xf1\\xe9 que le\\xeda su esquela en el abc \\U0001f602\\U0001f602\\U0001f602', 'label': None}, {'text': u'RT @ILoveTeeShirts1: @ABC And that, ladies and gentleman, is a perfect example of white privileged.\\n\\nWhite Money Launderer? Sure, you can h\\u2026', 'label': None}, {'text': u'@SandraD03437332 @ABC Eat them. Duh.', 'label': None}, {'text': u\"I thought it was great. Barron may be very shy. I don't think it's good to put children down though, if you don't l\\u2026 https://t.co/qoQt2H4tmj\", 'label': None}, {'text': u'RT @Freedom4Horses: Trump administration to reverse ban on elephant trophies from Africa  - ABC News - https://t.co/4Jgl9ka6bc via @ABC #an\\u2026', 'label': None}, {'text': u'RT @BB_Inspiracion: Logran, por primera vez, mejorar la memoria humana con un implante cerebral https://t.co/GMh5QRgPAn via @abc_es #Cienci\\u2026', 'label': None}, {'text': u'@PasUnNewYorker @Farahiassaf @ABC I had to look that up.  Lol\\nhttps://t.co/j7IKA02GLN', 'label': None}, {'text': u'Sartre, el estudiante que hac\\xeda novatadas (seg\\xfan Raymond Aron) https://t.co/mmfERJbTvL https://t.co/XJN4KEyLeV', 'label': None}, {'text': u'RT @AMAs: They say that there\\'s no such thing as *perfect* but who are \"they\" and did they see @BTS_twt\\'s #AMAs performance because I think\\u2026', 'label': None}, {'text': u'Elogio y nostalgia de la mesa camilla https://t.co/wmQEej6CUz', 'label': None}, {'text': u\"RT @MJStarLover: When his widow Myeshia Johnson said for all she knows his remains could still be out there when they wouldn't let her see\\u2026\", 'label': None}, {'text': u'RT @AMAs: They say that there\\'s no such thing as *perfect* but who are \"they\" and did they see @BTS_twt\\'s #AMAs performance because I think\\u2026', 'label': None}, {'text': u'RT @ManuHernandez66: @Sup_Policia @Albert_Rivera @CiudadanosCs @MGutierrezCs @elmundoes @abc_es @publico_es @Vocento @okdiario @larazon_es\\u2026', 'label': None}, {'text': u'RT @ABCPolitics: JUST IN: Remains of U.S. Army Sgt. La David Johnson found on November 12 at site in Niger where his body was recovered, U.\\u2026', 'label': None}, {'text': u'RT @rescue81bee: Where is the media- @CNN @MSNBC @ABC @CBS\\nBOOM! Witness Drops Bomb! PROVES Gloria Allred and Accuser Nelson Were Lying - S\\u2026', 'label': None}, {'text': u'RT @ABCPolitics: JUST IN: Remains of U.S. Army Sgt. La David Johnson found on November 12 at site in Niger where his body was recovered, U.\\u2026', 'label': None}, {'text': u'RT @abcdesevilla: La Madrugada de 2018 comienza a ver la luz https://t.co/WYf3ZzFhqO v\\xeda @pasionensevilla #SSanta18 #Sevillahoy', 'label': None}, {'text': u'RT @1980Dorothy: @REMMUSBRADSHAU @averagejane34 @WolfspiritNancy @ABC She certainly doesn\\u2019t seem to be! She seems quite delightful! And ado\\u2026', 'label': None}, {'text': u\"RT @MJStarLover: When his widow Myeshia Johnson said for all she knows his remains could still be out there when they wouldn't let her see\\u2026\", 'label': None}, {'text': u'RT @DumondVince: Trump In Cross-Hairs For Investigation.\\nMuellerSpecial counsel sends wide-ranging request for documents to Justice Departm\\u2026', 'label': None}, {'text': u'RT @ABC: JUST IN: Remains of U.S. Army Sgt. La David Johnson found on November 12 at site in Niger where his body was recovered, U.S. offic\\u2026', 'label': None}, {'text': u'RT @abcdesevilla: La Madrugada de 2018 comienza a ver la luz https://t.co/WYf3ZzFhqO v\\xeda @pasionensevilla #SSanta18 #Sevillahoy', 'label': None}, {'text': u'RT @juanludrime: #equiparacionYA @jusapol @okdiario @A3Noticias @abc_es @tve_tve hasta la EQUIPARACI\\xd3N no paramos!!! Se volver\\xe1 a Madrid si\\u2026', 'label': None}, {'text': u'RT @AMAs: They say that there\\'s no such thing as *perfect* but who are \"they\" and did they see @BTS_twt\\'s #AMAs performance because I think\\u2026', 'label': None}, {'text': u'RT @You_vs_TheWorld: Pro Fantasy Gaming Teams up with National Media Spots before Launching Site! #Google #NBC #ABC #FOX #CNN #KRON4 #KTVU\\u2026', 'label': None}, {'text': u'RT @AMAs: They say that there\\'s no such thing as *perfect* but who are \"they\" and did they see @BTS_twt\\'s #AMAs performance because I think\\u2026', 'label': None}, {'text': u'RT @ABC: JUST IN: Remains of U.S. Army Sgt. La David Johnson found on November 12 at site in Niger where his body was recovered, U.S. offic\\u2026', 'label': None}, {'text': u\"RT @MJStarLover: When his widow Myeshia Johnson said for all she knows his remains could still be out there when they wouldn't let her see\\u2026\", 'label': None}, {'text': u\"RT @MJStarLover: When his widow Myeshia Johnson said for all she knows his remains could still be out there when they wouldn't let her see\\u2026\", 'label': None}, {'text': u\"RT @markberman: CBS lost Daniel Dae Kim, one of the network's stars, over pay disparity, and also passed on a show he developed - which is\\u2026\", 'label': None}, {'text': u'RT @geoff9cow: Pledge of Allegiance w/@GabbyGiffords https://t.co/tubfZp12ll  #p2 #tcot @NRA @GOP @TheDemocrats @CNN @MSNBC @FoxNews @CBSNe\\u2026', 'label': None}, {'text': u'RT @AMAs: They say that there\\'s no such thing as *perfect* but who are \"they\" and did they see @BTS_twt\\'s #AMAs performance because I think\\u2026', 'label': None}, {'text': u'RT @only4arrow: It took CBS 2 days. Why is it taking @TheCW  @warnerbrostv and @GBerlanti so long to #FireKreisberg https://t.co/1bxQJpZjhm', 'label': None}]\n"
     ]
    }
   ],
   "source": [
    "print create_test_data(\"abc\")"
   ]
  },
  {
   "cell_type": "code",
   "execution_count": null,
   "metadata": {},
   "outputs": [],
   "source": [
    ""
   ]
  },
  {
   "cell_type": "code",
   "execution_count": null,
   "metadata": {},
   "outputs": [],
   "source": [
    ""
   ]
  }
 ],
 "metadata": {
  "kernelspec": {
   "display_name": "Python 2",
   "language": "python",
   "name": "python2"
  },
  "language_info": {
   "codemirror_mode": {
    "name": "ipython",
    "version": 2.0
   },
   "file_extension": ".py",
   "mimetype": "text/x-python",
   "name": "python",
   "nbconvert_exporter": "python",
   "pygments_lexer": "ipython2",
   "version": "2.7.6"
  }
 },
 "nbformat": 4,
 "nbformat_minor": 0
}