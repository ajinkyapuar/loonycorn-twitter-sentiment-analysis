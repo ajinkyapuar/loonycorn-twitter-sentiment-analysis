{
 "cells": [
  {
   "cell_type": "code",
   "execution_count": 158,
   "metadata": {},
   "outputs": [],
   "source": [
    "import json, ast\n",
    "# from pprint import pprint\n",
    "\n",
    "data = ast.literal_eval(json.dumps(json.load(open('key.json')))) \n",
    "\n",
    "# pprint(data)\n",
    "#print data['consumer_key']"
   ]
  },
  {
   "cell_type": "code",
   "execution_count": 159,
   "metadata": {},
   "outputs": [],
   "source": [
    "import twitter\n",
    "\n",
    "api = twitter.Api(consumer_key=data['consumer_key'], consumer_secret=data['consumer_secret'],access_token_key=data['access_token'], access_token_secret=data['access_secret'])"
   ]
  },
  {
   "cell_type": "code",
   "execution_count": 160,
   "metadata": {
    "collapsed": false
   },
   "outputs": [
    {
     "name": "stdout",
     "output_type": "stream",
     "text": [
      "ajinkyapuar\n"
     ]
    }
   ],
   "source": [
    "data = api.VerifyCredentials()\n",
    "\n",
    "print data.screen_name"
   ]
  },
  {
   "cell_type": "code",
   "execution_count": 161,
   "metadata": {},
   "outputs": [],
   "source": [
    "# Step 1 : Accept a search term and download 100 tweets\n",
    "def create_test_data(search_string):\n",
    "    # print search_string\n",
    "    try:\n",
    "        tweets = api.GetSearch(search_string, count=100)\n",
    "        # print len(tweets)\n",
    "        return [{\"text\": tweet.text, \"label\": None} for tweet in tweets]\n",
    "    except:\n",
    "        print \"Exception!!!\"\n",
    "        return None"
   ]
  },
  {
   "cell_type": "code",
   "execution_count": 162,
   "metadata": {},
   "outputs": [
    {
     "name": "stdout",
     "output_type": "stream",
     "text": [
      "77\n"
     ]
    }
   ],
   "source": [
    "# user_input=raw_input(\"Enter keyword to search: \")\n",
    "\n",
    "testData = create_test_data(\"#Apple\")\n",
    "print len(testData)"
   ]
  },
  {
   "cell_type": "code",
   "execution_count": 163,
   "metadata": {},
   "outputs": [
    {
     "name": "stdout",
     "output_type": "stream",
     "text": [
      "{'text': u'ESTRENO \\U0001f534 @NachoMolinaFm y @LauraHdezFM ponen por primera vez en Happy FM #INTERACTIVA lo nuevo de @BTS_twt ft\\u2026 https://t.co/BcTGYjNCYy', 'label': None}\n{'text': u'Flash #BlackFriday #Deal: #Apple\\'s 15\" #MacBookPro for $1,599 ($800 off, lowest price ever) https://t.co/ZU6yXkf1Ai https://t.co/EfmTaulzug', 'label': None}\n{'text': u'Cette r\\xe9v\\xe9lation tombe alors que le collectif #iPhoneRevolt a men\\xe9 plusieurs actions pour d\\xe9noncer les agissements\\u2026 https://t.co/QiF5v5ms64', 'label': None}\n{'text': u\"Eve's Pudding - so popular!! #foodie #foodporn #pudding #recipe #bramley #recipe #apple #87RT #PMHT @UKBloggers1\\u2026 https://t.co/OxgqebHhXX\", 'label': None}\n{'text': u'RT @Present_RT_FR: \\u3010iPhoneX \\u767a\\u58f2\\u30ad\\u30e3\\u30f3\\u30da\\u30fc\\u30f3\\u2757\\ufe0f\\u3011\\n\\u3010Apple iPhone X\\u3011\\n\\u304c1\\u540d\\u69d8\\u306b\\u62bd\\u9078\\u3067\\u5f53\\u305f\\u308b\\uff01\\n\\u3010\\u5fdc\\u52df\\u65b9\\u6cd5\\u3011\\n\\u30d5\\u30a9\\u30ed\\u30fc\\u27a1\\ufe0e\\u30ea\\u30c4\\u30a4\\u30fc\\u30c8\\u27a1\\ufe0e\\u7d50\\u679c\\u767a\\u8868\\n\\u203b\\u671f\\u965012\\u67081\\u65e5\\n#\\u30d7\\u30ec\\u30bc\\u30f3\\u30c8\\u4f01\\u753b #\\u61f8\\u8cde #Apple\\n#iPhoneX https:\\u2026', 'label': None}\n{'text': u\"How smart are smart #VirtualAssistants really? (Hint: #Siri &amp; #Alexa don't fare well) And what different generation\\u2026 https://t.co/os2M54rVPi\", 'label': None}\n{'text': u'RT @Present_RT_FR: \\u3010iPhoneX \\u767a\\u58f2\\u30ad\\u30e3\\u30f3\\u30da\\u30fc\\u30f3\\u2757\\ufe0f\\u3011\\n\\u3010Apple iPhone X\\u3011\\n\\u304c1\\u540d\\u69d8\\u306b\\u62bd\\u9078\\u3067\\u5f53\\u305f\\u308b\\uff01\\n\\u3010\\u5fdc\\u52df\\u65b9\\u6cd5\\u3011\\n\\u30d5\\u30a9\\u30ed\\u30fc\\u27a1\\ufe0e\\u30ea\\u30c4\\u30a4\\u30fc\\u30c8\\u27a1\\ufe0e\\u7d50\\u679c\\u767a\\u8868\\n\\u203b\\u671f\\u965012\\u67081\\u65e5\\n#\\u30d7\\u30ec\\u30bc\\u30f3\\u30c8\\u4f01\\u753b #\\u61f8\\u8cde #Apple\\n#iPhoneX https:\\u2026', 'label': None}\n{'text': u'#IphoneX : #Apple aurait r\\xe9solu les probl\\xe8mes de production https://t.co/tW7eVtlF8U', 'label': None}\n{'text': u'RT @Present_RT_FR: \\u3010\\u79cb\\u306e\\u30d3\\u30c3\\u30af\\u30ad\\u30e3\\u30f3\\u30da\\u30fc\\u30f3\\u2757\\ufe0f\\u3011\\n\\u3010Apple Watch Series 3\\u3011\\n\\u304c4\\u540d\\u69d8\\u306b\\u62bd\\u9078\\u3067\\u5f53\\u305f\\u308b\\uff01\\n\\u3010\\u5fdc\\u52df\\u65b9\\u6cd5\\u3011\\n\\u30d5\\u30a9\\u30ed\\u30fc\\u27a1\\ufe0e\\u30ea\\u30c4\\u30a4\\u30fc\\u30c8\\u27a1\\ufe0e\\u7d50\\u679c\\u767a\\u8868\\n\\u203b\\u671f\\u965011\\u670830\\u65e5\\n#\\u30d7\\u30ec\\u30bc\\u30f3\\u30c8\\u4f01\\u753b #\\u61f8\\u8cde #Apple \\n#iphone #\\u8155\\u6642\\u8a08\\u2026', 'label': None}\n{'text': u'RT @Present_RT_FR: \\u3010\\u79cb\\u306e\\u30d3\\u30c3\\u30af\\u30ad\\u30e3\\u30f3\\u30da\\u30fc\\u30f3\\u2757\\ufe0f\\u3011\\n\\u3010Apple Watch Series 3\\u3011\\n\\u304c4\\u540d\\u69d8\\u306b\\u62bd\\u9078\\u3067\\u5f53\\u305f\\u308b\\uff01\\n\\u3010\\u5fdc\\u52df\\u65b9\\u6cd5\\u3011\\n\\u30d5\\u30a9\\u30ed\\u30fc\\u27a1\\ufe0e\\u30ea\\u30c4\\u30a4\\u30fc\\u30c8\\u27a1\\ufe0e\\u7d50\\u679c\\u767a\\u8868\\n\\u203b\\u671f\\u965011\\u670830\\u65e5\\n#\\u30d7\\u30ec\\u30bc\\u30f3\\u30c8\\u4f01\\u753b #\\u61f8\\u8cde #Apple \\n#iphone #\\u8155\\u6642\\u8a08\\u2026', 'label': None}\n{'text': u'Check out ? #Apple deal from #O2 - Apple iPhone SE (64GB Rose Gold) at \\xa339.99 on O2 Refresh 4G (24 Month(s...\\u2b07https://t.co/7UsSdkGwbO', 'label': None}\n{'text': u'RT @Present_RT_FR: \\u3010iPhoneX \\u767a\\u58f2\\u30ad\\u30e3\\u30f3\\u30da\\u30fc\\u30f3\\u2757\\ufe0f\\u3011\\n\\u3010Apple iPhone X\\u3011\\n\\u304c1\\u540d\\u69d8\\u306b\\u62bd\\u9078\\u3067\\u5f53\\u305f\\u308b\\uff01\\n\\u3010\\u5fdc\\u52df\\u65b9\\u6cd5\\u3011\\n\\u30d5\\u30a9\\u30ed\\u30fc\\u27a1\\ufe0e\\u30ea\\u30c4\\u30a4\\u30fc\\u30c8\\u27a1\\ufe0e\\u7d50\\u679c\\u767a\\u8868\\n\\u203b\\u671f\\u965012\\u67081\\u65e5\\n#\\u30d7\\u30ec\\u30bc\\u30f3\\u30c8\\u4f01\\u753b #\\u61f8\\u8cde #Apple\\n#iPhoneX https:\\u2026', 'label': None}\n{'text': u'iPhoneX\\u306e\\u4e88\\u7d04\\u72b6\\u6cc1\\u3001\\u5165\\u8377\\u72b6\\u6cc1\\u306e\\u78ba\\u8a8d\\u3002\\u5728\\u5eab\\u72b6\\u6cc1\\u3092Apple\\u3001\\u30bd\\u30d5\\u30c8\\u30d0\\u30f3\\u30af\\u3001au\\u3001\\u30c9\\u30b3\\u30e2\\u3002\\u30e8\\u30c9\\u30d0\\u30b7\\u3001\\u30d3\\u30c3\\u30af\\u30ab\\u30e1\\u30e9\\u3001\\u30e4\\u30de\\u30c0\\u96fb\\u6a5f\\u306a\\u3069\\u304b\\u3089\\u3002iPhone8\\u306e\\u5728\\u5eab\\u72b6\\u6cc1\\u306a\\u3069\\u3082 https://t.co/fo7j9JPaAU\\u2026 https://t.co/aLbmfhgPBd', 'label': None}\n{'text': u'Las mejores apps para seguir tus series favoritas en tu iPhone o iPad https://t.co/cRP7exlNeB #Apple #iPhone https://t.co/xNd9qxD4gd', 'label': None}\n{'text': u'RT @applelianos: \\U0001f534 EN VIVO  MovimientoGeek @gabrielcar23  &amp; Applelianos @applelianos  | Especial #FaceID #iPhoneX #Apple | \\u27a1\\ufe0f https://t.co/\\u2026', 'label': None}\n"
     ]
    }
   ],
   "source": [
    "for td in testData[0:15]:\n",
    "    print td"
   ]
  },
  {
   "cell_type": "code",
   "execution_count": 143,
   "metadata": {},
   "outputs": [],
   "source": [
    "# Step 2(a): Download corpus as training data\n",
    "# Niek Sanders Tweet Sentiment Corpus   \n",
    "\n",
    "import csv\n",
    "import time\n",
    "\n",
    "def createTrainingCorpus(corpusFile, tweetDataFile):\n",
    "    corpus = []\n",
    "    with open(corpusFile, 'rb') as csvfile:\n",
    "        print csvfile\n",
    "        linereader = csv.reader(csvfile, delimiter=',', quotechar=\"\\\"\")\n",
    "        for row in linereader:\n",
    "            corpus.append({\"tweet_id\": row[2], \"label\": row[1], \"topic\": row[0]})\n",
    "\n",
    "    rate_limit = 180\n",
    "    sleep_time = 900 / rate_limit\n",
    "\n",
    "    training_data = []\n",
    "    for tweet in corpus:\n",
    "        try:\n",
    "            status = api.GetStatus(tweet[\"tweet_id\"])\n",
    "            print status.text\n",
    "            tweet[\"text\"] = status.text\n",
    "            training_data.append(tweet)\n",
    "            time.sleep(sleep_time)\n",
    "        except:\n",
    "            continue\n",
    "    \n",
    "    with open(tweetDataFile, 'wb')as csvfile:\n",
    "        linewriter = csv.writer(csvfile, delimiter=',', quotechar=\"\\\"\")\n",
    "        for tweet in training_data:\n",
    "            linewriter.writerow([tweet['tweet_id'], tweet['text'], tweet['label'], tweet['topic']])\n",
    "\n",
    "    return training_data"
   ]
  },
  {
   "cell_type": "code",
   "execution_count": 164,
   "metadata": {
    "collapsed": false
   },
   "outputs": [
    {
     "name": "stdout",
     "output_type": "stream",
     "text": [
      "Reading Corpus File\n"
     ]
    },
    {
     "name": "stdout",
     "output_type": "stream",
     "text": [
      "Now all @Apple has to do is get swype on the iphone and it will be crack. Iphone that is\n"
     ]
    },
    {
     "name": "stdout",
     "output_type": "stream",
     "text": [
      "Hilarious @youtube video - guy does a duet with @apple 's Siri. Pretty much sums up the love affair! http://t.co/8ExbnQjY\n"
     ]
    },
    {
     "name": "stdout",
     "output_type": "stream",
     "text": [
      "@RIM you made it too easy for me to switch to @Apple iPhone. See ya!\n"
     ]
    },
    {
     "name": "stdout",
     "output_type": "stream",
     "text": [
      "The 16 strangest things Siri has said so far. I am SOOO glad that @Apple gave Siri a sense of humor! http://t.co/TWAeUDBp via @HappyPlace\n"
     ]
    },
    {
     "name": "stdout",
     "output_type": "stream",
     "text": [
      "Great up close & personal event @Apple tonight in Regent St store!\n"
     ]
    },
    {
     "name": "stdout",
     "output_type": "stream",
     "text": [
      "From which companies do you experience the best customer service aside from @zappos and @apple?\n"
     ]
    },
    {
     "name": "stdout",
     "output_type": "stream",
     "text": [
      "Just apply for a job at @Apple, hope they call me lol\n"
     ]
    },
    {
     "name": "stdout",
     "output_type": "stream",
     "text": [
      "Lmao I think @apple is onto something magical! I am DYING!!! haha. Siri suggested where to find whores and where to hide a body lolol\n"
     ]
    },
    {
     "name": "stdout",
     "output_type": "stream",
     "text": [
      "RT @PhillipRowntree: Just registered as an @apple developer... Here's hoping I can actually do it... Any help, greatly appreciated!\n"
     ]
    },
    {
     "name": "stdout",
     "output_type": "stream",
     "text": [
      "Wow. Great deals on refurbed #iPad (first gen) models. RT: Apple offers great deals on refurbished 1st-gen iPads http://t.co/ukWOKBGd @Apple\n"
     ]
    },
    {
     "name": "stdout",
     "output_type": "stream",
     "text": [
      "Just registered as an @apple developer... Here's hoping I can actually do it... Any help, greatly appreciated!\n"
     ]
    },
    {
     "name": "stdout",
     "output_type": "stream",
     "text": [
      "你好 ! Currently learning Mandarin for my upcoming trip to Hong Kong. I gotta hand it to @Apple iPhones & their uber useful flashcard apps  \n"
     ]
    },
    {
     "name": "stdout",
     "output_type": "stream",
     "text": [
      "Come to the dark side 📱“@gretcheneclark: Hey @apple, if you send me a free iPhone, I will publicly and ceremoniously burn my #BlackBerry.”\n"
     ]
    },
    {
     "name": "stdout",
     "output_type": "stream",
     "text": [
      "Thanks to @Apple Covent Garden #GeniusBar for replacing my MacBook keyboard/cracked wristpad during my lunch break today, out of warranty.\n"
     ]
    },
    {
     "name": "stdout",
     "output_type": "stream",
     "text": [
      "@DailyDealChat @apple Thanks!!\n"
     ]
    },
    {
     "name": "stdout",
     "output_type": "stream",
     "text": [
      "iPads Replace Bound Playbooks on Some N.F.L. Teams http://t.co/2UXAWKwf @apple @nytimes\n"
     ]
    },
    {
     "name": "stdout",
     "output_type": "stream",
     "text": [
      "@apple @siri is efffing amazing!!\n"
     ]
    },
    {
     "name": "stdout",
     "output_type": "stream",
     "text": [
      "RT @TripLingo: We're one of a few \"Featured Education Apps\" on the @Apple **Website** today, sweet! http://t.co/0yWvbe1Z\n"
     ]
    },
    {
     "name": "stdout",
     "output_type": "stream",
     "text": [
      "We're one of a few \"Featured Education Apps\" on the @Apple **Website** today, sweet! http://t.co/0yWvbe1Z\n"
     ]
    },
    {
     "name": "stdout",
     "output_type": "stream",
     "text": [
      "When you want something done right, you do it yourself... or go to @Apple. AT&T you're useless these days. #yourdaysarenumbered\n\n\n"
     ]
    },
    {
     "name": "stdout",
     "output_type": "stream",
     "text": [
      "We did an unexpected workshop for the #iPhone4S at @apple yesterday and we got an awesome amount of info #notjustaboutthephone @gamerchik16\n"
     ]
    },
    {
     "name": "stdout",
     "output_type": "stream",
     "text": [
      "---» RT @Apple No question bro. RT @AintEeenTrippin: Should I get dis iPhone or a EVO 3D?\n"
     ]
    },
    {
     "name": "stdout",
     "output_type": "stream",
     "text": [
      "RT @imightbewrong: I'm OVER people bitching about the #iPhone4S... I think it's the smartest phone I've ever had and I'm very happy.   : ...\n"
     ]
    },
    {
     "name": "stdout",
     "output_type": "stream",
     "text": [
      "I'm OVER people bitching about the #iPhone4S... I think it's the smartest phone I've ever had and I'm very happy.   :)  Way to go @Apple!\n"
     ]
    },
    {
     "name": "stdout",
     "output_type": "stream",
     "text": [
      "@Twitter CEO points to @Apple as 'corporate mentor' as @iOS signups triple http://t.co/GCY8iphN\n"
     ]
    },
    {
     "name": "stdout",
     "output_type": "stream",
     "text": [
      "At the bus with my iPhone ;) thxx @apple\n"
     ]
    },
    {
     "name": "stdout",
     "output_type": "stream",
     "text": [
      "@azee1v1 @apple @umber AppStore is well done, so is iTunes on the mobile devices.  I was talking about desktop app.\n"
     ]
    },
    {
     "name": "stdout",
     "output_type": "stream",
     "text": [
      "NYTimes: Coach Wants to See You. And Bring Your iPad. http://t.co/J2FTiEnG #iPad @apple set red 42 red 42 hut hut @NFL wish I had an #iPad\n"
     ]
    },
    {
     "name": "stdout",
     "output_type": "stream",
     "text": [
      "@apple @jilive @DanielPink: Apple sells 4 million iPhone 4S units in first weekend ... Steve Jobs brilliance lives on for ever! #iphone #RVA\n"
     ]
    },
    {
     "name": "stdout",
     "output_type": "stream",
     "text": [
      "@bkad5161 than apologize to @apple ;)\n"
     ]
    },
    {
     "name": "stdout",
     "output_type": "stream",
     "text": [
      "@Apple downloads of iOS 5 are proving popular with users  -- http://t.co/NSHLfiUX\n"
     ]
    },
    {
     "name": "stdout",
     "output_type": "stream",
     "text": [
      "Lmfao look at the argument I had with Siri !!\n@ijustine @apple http://t.co/D4VjL7SI\n"
     ]
    },
    {
     "name": "stdout",
     "output_type": "stream",
     "text": [
      "Incredible: 4 million iPhone 4Ss in 3 days. 135% better than the iPhone 4 http://t.co/1FMJxTMM @apple #iphone4s\n"
     ]
    },
    {
     "name": "stdout",
     "output_type": "stream",
     "text": [
      "Well @apple fixed my #ios5 battery drain problem with a replacement iPhone 4 -- it's working like a champ now\n"
     ]
    },
    {
     "name": "stdout",
     "output_type": "stream",
     "text": [
      "Currently ordering a BRAND NEW MACBOOK PRO!!! Bahhh... my MacBook is 5 years old. I'll miss it. But it's time. cc: @Apple -\n"
     ]
    },
    {
     "name": "stdout",
     "output_type": "stream",
     "text": [
      "#Siri now knows who my dad, mom, brother and girlfriend is.  Thanks @apple\n"
     ]
    },
    {
     "name": "stdout",
     "output_type": "stream",
     "text": [
      "Well at least the @apple store has amazing call waiting music! #need4s\n"
     ]
    },
    {
     "name": "stdout",
     "output_type": "stream",
     "text": [
      "#sweet... #apple replaced my glass #probono. thank you @apple\n"
     ]
    },
    {
     "name": "stdout",
     "output_type": "stream",
     "text": [
      "Not Bad! @Apple Sells Over 4 Million #IPhones in Debut Weekend - Bloomberg http://t.co/AVSl3ygU - #smartphone #sm RT @VinodRad\n"
     ]
    },
    {
     "name": "stdout",
     "output_type": "stream",
     "text": [
      "loving new technology from @apple iPhone 4s, mac air and iCloud are unreal #technology\n"
     ]
    },
    {
     "name": "stdout",
     "output_type": "stream",
     "text": [
      "I'm loving this new IOS5 update :) @apple\n"
     ]
    },
    {
     "name": "stdout",
     "output_type": "stream",
     "text": [
      "Another mention for Apple Store: http://t.co/fiIOApKt - RT @floridamike Once again getting great customer service from the @apple store ...\n"
     ]
    },
    {
     "name": "stdout",
     "output_type": "stream",
     "text": [
      "Time to go get my iPhone 4s.  Looking forward to sticking it to the man by no longer paying for most texts.  Thanks @apple.\n"
     ]
    },
    {
     "name": "stdout",
     "output_type": "stream",
     "text": [
      "Thank you @apple. My new gf(iphone4s) is great!  She does everything!\n"
     ]
    },
    {
     "name": "stdout",
     "output_type": "stream",
     "text": [
      "#iCloud set up was flawless and works like a champ! To the Cloud @Apple\n"
     ]
    },
    {
     "name": "stdout",
     "output_type": "stream",
     "text": [
      "@Wisconsin_Mommy @Apple I'd totally email the company... I always get great service at our @Apple store!\n"
     ]
    },
    {
     "name": "stdout",
     "output_type": "stream",
     "text": [
      "@apple loving the new IOS5 upgrade for the iPhone!\n"
     ]
    },
    {
     "name": "stdout",
     "output_type": "stream",
     "text": [
      "Once again getting great customer service from the @apple store at millenia mall.\n"
     ]
    },
    {
     "name": "stdout",
     "output_type": "stream",
     "text": [
      "Is it just me or is #iOS5 faster for the iPad? @apple\n"
     ]
    },
    {
     "name": "stdout",
     "output_type": "stream",
     "text": [
      "making the switch from @Android to @Apple #iphone #iphone4S #smartphone #stevejobs (@ Apple Store) http://t.co/kj6pJvkH\n"
     ]
    },
    {
     "name": "stdout",
     "output_type": "stream",
     "text": [
      "RT @cjwallace03: So apparently @apple put MB cap on your SMS with the new update. 25mb storage before it tells you your inbox is full. W ...\n"
     ]
    },
    {
     "name": "stdout",
     "output_type": "stream",
     "text": [
      "RT @Jewelz2611 @mashable @apple, iphones r 2 expensive. Most went w/ htc/galaxy. No customer loyalty w/phone comp..\n"
     ]
    },
    {
     "name": "stdout",
     "output_type": "stream",
     "text": [
      "@mashable @apple, iphones r 2 expensive. Most went w/ htc/galaxy. No customer loyalty w/phone comp..\n"
     ]
    },
    {
     "name": "stdout",
     "output_type": "stream",
     "text": [
      "@apple why my tunes no go on my iPhone? iPhone lonely without them. silly #iOS5\n"
     ]
    },
    {
     "name": "stdout",
     "output_type": "stream",
     "text": [
      "@apple needs to hurry up and release #iTunesMatch\n"
     ]
    },
    {
     "name": "stdout",
     "output_type": "stream",
     "text": [
      "Why is  #Siri always down @apple\n"
     ]
    },
    {
     "name": "stdout",
     "output_type": "stream",
     "text": [
      "I just need to exchange a cord at the apple store why do I have to wait for a genius? @apple\n"
     ]
    },
    {
     "name": "stdout",
     "output_type": "stream",
     "text": [
      "@apple AirDrop #fail - Immediate \"declined your request.\" every time\n"
     ]
    },
    {
     "name": "stdout",
     "output_type": "stream",
     "text": [
      "good article about why @apple fucked it all up with lion and their future. http://t.co/zNDP9Vr6 #fb\n"
     ]
    },
    {
     "name": "stdout",
     "output_type": "stream",
     "text": [
      "Yellowgate? Some iPhone 4S Users Complain of Yellow Tint to Screen http://t.co/uaqrxTNk @apple @iphone4s\n"
     ]
    },
    {
     "name": "stdout",
     "output_type": "stream",
     "text": [
      "The one #iphone feature still missing since @apple first showed it.. Contacts pictures on the contacts list! Simple yet 5 major updates miss\n"
     ]
    },
    {
     "name": "stdout",
     "output_type": "stream",
     "text": [
      "Asked siri is she dreams of electric sleep. Was disappointed that she didn't have a snippy answer.  Missed opportunity @apple\n"
     ]
    },
    {
     "name": "stdout",
     "output_type": "stream",
     "text": [
      "@paulens It surprises me that @Apple throws up an error alert about authorizing, and there's no \"Authorize this computer\" button.\n"
     ]
    },
    {
     "name": "stdout",
     "output_type": "stream",
     "text": [
      "FUCK YOU @apple DIE IN A FUCKING BLAZE INFERNO.\n"
     ]
    },
    {
     "name": "stdout",
     "output_type": "stream",
     "text": [
      "Oh, @apple. Steve obviously had nothing to do with iPhoto, as it's the perfect opposite of 'insanely great'. Get it fixed, please.\n"
     ]
    },
    {
     "name": "stdout",
     "output_type": "stream",
     "text": [
      "@ryanbaldwin @apple So in iTunes I go Store -&gt; Authorise… why doesn't it just auto-authorise it when I sign into iTunes? Grrrr...\n"
     ]
    },
    {
     "name": "stdout",
     "output_type": "stream",
     "text": [
      "Seriously - I have absolutely no offing clue what @Apple means by \"authorization\", nor how to do it.\n"
     ]
    },
    {
     "name": "stdout",
     "output_type": "stream",
     "text": [
      "Boy, could @apple make it any harder to put my purchased music from the cloud on to my new macbook pro? \"You must authorize this computer…\"\n"
     ]
    },
    {
     "name": "stdout",
     "output_type": "stream",
     "text": [
      "shit, shit, shit. IOS5 update ate all my apps, data and media just like @apple said it would. This is going to take some time to rebuild.\n"
     ]
    },
    {
     "name": "stdout",
     "output_type": "stream",
     "text": [
      ". @apple & @AT&T u cannot tell me there isn't at least 1 64GB iPhone 4S in LA or Vegas!! Give me a fucking break!!!!\n"
     ]
    },
    {
     "name": "stdout",
     "output_type": "stream",
     "text": [
      "Love @apple downloads. 4 hours and i-pad now wonky! #ripstevejobs #thenonsensepersists #neednewipadguide #fatfuckingchance\n"
     ]
    },
    {
     "name": "stdout",
     "output_type": "stream",
     "text": [
      "Dear @apple My new Air is now a notbook since your update killed #wifi #bug #destroying #productivity\n"
     ]
    },
    {
     "name": "stdout",
     "output_type": "stream",
     "text": [
      "I am so done with @Att and @apple 's profitering and lack of customer service, so fucking down with both!!!\n"
     ]
    },
    {
     "name": "stdout",
     "output_type": "stream",
     "text": [
      "It would be great If @Apple would send my new phone. #frustrated\n"
     ]
    },
    {
     "name": "stdout",
     "output_type": "stream",
     "text": [
      "@apple thank you for ruining my 3GS with #iOS5. You've just turned my phone into an utterly useless pile of shit.\n"
     ]
    },
    {
     "name": "stdout",
     "output_type": "stream",
     "text": [
      "@rogerweir no but I have the option of a  replacement iPhone 4s ?\nNot sure if I want one after having 2 duff iPhones.\n@O2 @iphone4s @apple\n"
     ]
    },
    {
     "name": "stdout",
     "output_type": "stream",
     "text": [
      "So apparently @apple put MB cap on your SMS with the new update. 25mb storage before it tells you your inbox is full. What is this 2001?\n"
     ]
    },
    {
     "name": "stdout",
     "output_type": "stream",
     "text": [
      "You know @apple It's been almost a week since I paid for iTunes Match, I would really like to use it. Any ETA on a fix?\n"
     ]
    },
    {
     "name": "stdout",
     "output_type": "stream",
     "text": [
      "So @PhoenixSwinger 's iPhone 4 is giving her a hella hard time w/ the iOS5 update @apple\n"
     ]
    },
    {
     "name": "stdout",
     "output_type": "stream",
     "text": [
      "@Apple can't send me an iPhone preordered 1hr after launching but they cans send 5 or 10 to all the jackasses who want to shoot or blend 'em\n"
     ]
    },
    {
     "name": "stdout",
     "output_type": "stream",
     "text": [
      "@bisquiat @Apple the upgrade just slows down my phone so much, it's stuck half the time. uch. thankfully no other damage. sucks for you :(\n"
     ]
    },
    {
     "name": "stdout",
     "output_type": "stream",
     "text": [
      "@Mayati I think @Apple didn't do such a thorough job with the step x steps for upgrade and move to iCloud. Now it's cost me mightily.\n"
     ]
    },
    {
     "name": "stdout",
     "output_type": "stream",
     "text": [
      "Hey @apple now I have iOS5 my iPhone doesn't include songs that are on compilation albums under the artist's name. #whaddupwitdat\n"
     ]
    },
    {
     "name": "stdout",
     "output_type": "stream",
     "text": [
      "@NickTheFNicon He can send but not rcve txts so he has an apt @apple at 4pm.Then he exclaims: And I waited a whole YEAR for this phone!!LMAO\n"
     ]
    },
    {
     "name": "stdout",
     "output_type": "stream",
     "text": [
      "Total chaos at @apple store regent street. Like an Ethiopian feeding station. Can't believe this is same co. that makes all that cool shit.\n"
     ]
    },
    {
     "name": "stdout",
     "output_type": "stream",
     "text": [
      "@FishMama: If you made a purchase, just wait for the @apple survey! hate going b/c of the bad #custserv\n"
     ]
    },
    {
     "name": "stdout",
     "output_type": "stream",
     "text": [
      "Correction: @ Best Buy kudos to Chris @ Alamo Ranch S.A. TX-fixed issues couldn't resolve after 1/2 day w/ @ATT & @Apple. Hero of my day!\n"
     ]
    },
    {
     "name": "stdout",
     "output_type": "stream",
     "text": [
      "@phxguy88 @Apple @BGR That's why all the ppl who stand in line for hrs to get the \"newest\" model are suckers...\n"
     ]
    },
    {
     "name": "stdout",
     "output_type": "stream",
     "text": [
      "Would it kill @apple to put a braille type bump on their earbuds so we know which bud is R and L in the dark.\n"
     ]
    },
    {
     "name": "stdout",
     "output_type": "stream",
     "text": [
      "@APPLE Wow @MOTOROLA Just crushed your dreams....\n"
     ]
    },
    {
     "name": "stdout",
     "output_type": "stream",
     "text": [
      "Time to play a game called wait at the @apple store forever because the tourists are taking forever with their genius appointments.\n"
     ]
    },
    {
     "name": "stdout",
     "output_type": "stream",
     "text": [
      "Oh, just fuck you, @apple. Already?? ---&gt;  iPhone 5 on schedule for summer launch? http://t.co/Ofh9PTaG via @BGR\n"
     ]
    },
    {
     "name": "stdout",
     "output_type": "stream",
     "text": [
      "@apple, \nNo, I won't wait until thursday for an available appointment just so a 'genius' can tell me I'm shit out of luck. #now\n"
     ]
    },
    {
     "name": "stdout",
     "output_type": "stream",
     "text": [
      "@Apple, on the #iPad with #iOS5, why has the Messages Icon been included when it can't be used?\n"
     ]
    },
    {
     "name": "stdout",
     "output_type": "stream",
     "text": [
      "@Steelo254 yea! I pre-order through @apple and they sorry too just like #AT&T\n"
     ]
    },
    {
     "name": "stdout",
     "output_type": "stream",
     "text": [
      "Interesting... @apple now requires you to have a reservation ?         #apple #iphone #4S    :  http://t.co/zZK4fTii\n"
     ]
    },
    {
     "name": "stdout",
     "output_type": "stream",
     "text": [
      "@apple why is my iPhone battery so crappy #fail\n"
     ]
    },
    {
     "name": "stdout",
     "output_type": "stream",
     "text": [
      "My @Apple @macbook keyboard will not type :(\n"
     ]
    },
    {
     "name": "stdout",
     "output_type": "stream",
     "text": [
      "Why doesn't @apple iCloud sync Stickies? They've always been around, just nothing every progressed w/ them!! Why apple why?  @gruber\n"
     ]
    },
    {
     "name": "stdout",
     "output_type": "stream",
     "text": [
      "@apple, your new \"Save a Version\" function in Pages is absolutely the most awful, interrupting, counter-intuitive piece of crap in the world\nTraining Data Fetched\nTweetdata file open\nWrite complete to tweetdata file\nDone\n"
     ]
    }
   ],
   "source": [
    "# Fetching Limited Tweets\n",
    "\n",
    "import csv\n",
    "import time\n",
    "\n",
    "def createLimitedTrainingCorpus(corpusFile, tweetDataFile):\n",
    "    corpus = []\n",
    "    with open(corpusFile, 'rb') as csvfile:\n",
    "        print \"Reading Corpus File\"\n",
    "        linereader = csv.reader(csvfile, delimiter=',', quotechar=\"\\\"\")\n",
    "        for row in linereader:\n",
    "            corpus.append({\"tweet_id\": row[2], \"label\": row[1], \"topic\": row[0]})\n",
    "    \n",
    "    training_data = []\n",
    "    for label in ['positive', 'negative']:\n",
    "        # print label\n",
    "        i = 1\n",
    "        for tweet in corpus:\n",
    "            if tweet['label'] == label and i <= 50:\n",
    "                try:\n",
    "                    status = api.GetStatus(tweet[\"tweet_id\"])\n",
    "                    print status.text\n",
    "                    tweet[\"text\"] = status.text\n",
    "                    training_data.append(tweet)\n",
    "                    i = i + 1\n",
    "                except Exception, e:\n",
    "                    # print e\n",
    "                    # print \"*\"\n",
    "                    continue\n",
    "\n",
    "    print \"Training Data Fetched\"\n",
    "    with open(tweetDataFile, 'wb') as csvfile:\n",
    "        print \"Tweetdata file open\"\n",
    "        linewriter = csv.writer(csvfile, delimiter=',', quotechar=\"\\\"\")\n",
    "        for tweet in training_data:\n",
    "            #print tweet\n",
    "            #print ast.literal_eval(json.dumps(tweet))['tweet_id']\n",
    "            t = ast.literal_eval(json.dumps(tweet))\n",
    "            try:\n",
    "                linewriter.writerow([t['tweet_id'], t['text'], t['label'], t['topic']])\n",
    "            except Exception, e:\n",
    "                continue\n",
    "\n",
    "    print \"Write complete to tweetdata file\"\n",
    "    return training_data\n",
    "\n",
    "corpusFile = 'corpus.csv'\n",
    "tweetDataFile = 'tweetData.csv'\n",
    "\n",
    "trainingData = createLimitedTrainingCorpus(corpusFile, tweetDataFile)\n",
    "#print trainingData\n",
    "\n",
    "print \"Done\""
   ]
  },
  {
   "cell_type": "code",
   "execution_count": 166,
   "metadata": {},
   "outputs": [
    {
     "name": "stdout",
     "output_type": "stream",
     "text": [
      "[([u'get', u'swype', u'iphone', u'crack', u'iphone'], 'positive'), ([u'hilarious', u'video', u'guy', u'duet', u\"'s\", u'siri', u'pretty', u'much', u'sums', u'love', u'affair'], 'positive'), ([u'made', u'easy', u'switch', u'iphone', u'see', u'ya'], 'positive'), ([u'16', u'strangest', u'things', u'siri', u'said', u'far', u'sooo', u'glad', u'gave', u'siri', u'sense', u'humor', u'via'], 'positive'), ([u'great', u'close', u'personal', u'event', u'tonight', u'regent', u'st', u'store'], 'positive')]\n[([u'estreno', u'\\U0001f534', u'ponen', u'por', u'primera', u'vez', u'en', u'happy', u'fm', u'interactiva', u'lo', u'nuevo', u'de', u'ft\\u2026URL'], None), ([u'flash', u'blackfriday', u'deal', u'apple', u\"'s\", u'15', u\"''\", u'macbookpro', u'1,599', u'800', u'lowest', u'price', u'ever', u'URLURL'], None), ([u'cette', u'r\\xe9v\\xe9lation', u'tombe', u'alors', u'que', u'le', u'collectif', u'iphonerevolt', u'men\\xe9', u'plusieurs', u'actions', u'pour', u'd\\xe9noncer', u'les', u'agissements\\u2026URL'], None), ([u'eve', u\"'s\", u'pudding', u'popular', u'foodie', u'foodporn', u'pudding', u'recipe', u'bramley', u'recipe', u'apple', u'87rt', u'pmht'], None), ([u'rt', u'\\u3010iphonex', u'\\u767a\\u58f2\\u30ad\\u30e3\\u30f3\\u30da\\u30fc\\u30f3\\u2757\\ufe0f\\u3011', u'\\u3010apple', u'iphone', u'x\\u3011', u'\\u304c1\\u540d\\u69d8\\u306b\\u62bd\\u9078\\u3067\\u5f53\\u305f\\u308b\\uff01', u'\\u3010\\u5fdc\\u52df\\u65b9\\u6cd5\\u3011', u'\\u30d5\\u30a9\\u30ed\\u30fc\\u27a1\\ufe0e\\u30ea\\u30c4\\u30a4\\u30fc\\u30c8\\u27a1\\ufe0e\\u7d50\\u679c\\u767a\\u8868', u'\\u203b\\u671f\\u965012\\u67081\\u65e5', u'\\u30d7\\u30ec\\u30bc\\u30f3\\u30c8\\u4f01\\u753b', u'\\u61f8\\u8cde', u'apple', u'iphonex', u'https', u'\\u2026'], None)]\n"
     ]
    }
   ],
   "source": [
    "# Step 2(b): Class to pre-process all tweets, both training & testing\n",
    "\n",
    "import re\n",
    "from nltk.tokenize import word_tokenize\n",
    "from string import punctuation\n",
    "from nltk.corpus import stopwords\n",
    "\n",
    "class PreProcessTweets: \n",
    "    def __init__(self):\n",
    "         self._stopwords = set(stopwords.words('english') + list(punctuation ) + ['AT_USER', 'URL'])\n",
    "         \n",
    "    def processTweets(self, list_of_tweets):\n",
    "        processedTweets = []\n",
    "        for tweet in list_of_tweets:\n",
    "            processedTweets.append((self._processTweet(tweet['text']), tweet['label']))\n",
    "        return processedTweets\n",
    "    \n",
    "    def _processTweet(self, tweet):\n",
    "        tweet = tweet.lower()\n",
    "        tweet = re.sub('((www\\.[^\\s]+) | (https?://[^\\s]+))', 'URL', tweet) # Regex for URL\n",
    "        tweet = re.sub('@[^\\s]+', 'AT_USER', tweet) # Regex for AT_USER\n",
    "        tweet = re.sub(r'#([^\\s]+)', r'\\1', tweet) # Regex for #\n",
    "        tweet = word_tokenize(tweet)\n",
    "        return [word for word in tweet if word not in self._stopwords]\n",
    "    \n",
    "    \n",
    "tweetProcessor = PreProcessTweets()\n",
    "\n",
    "ppTrainingData = tweetProcessor.processTweets(trainingData)\n",
    "ppTestData = tweetProcessor.processTweets(testData)\n",
    "\n",
    "print ppTrainingData[:5]\n",
    "\n",
    "print ppTestData[:5]"
   ]
  },
  {
   "cell_type": "code",
   "execution_count": 172,
   "metadata": {},
   "outputs": [
    {
     "data": {
      "text/plain": [
       "SVC(C=1.0, cache_size=200, class_weight=None, coef0=0.0,\n  decision_function_shape=None, degree=3, gamma='auto', kernel='rbf',\n  max_iter=-1, probability=False, random_state=None, shrinking=True,\n  tol=0.001, verbose=False)"
      ]
     },
     "execution_count": 172,
     "metadata": {},
     "output_type": "execute_result"
    }
   ],
   "source": [
    "# Step 2(c): Extract feature and training the classifier\n",
    "import nltk\n",
    "\n",
    "# 1. Naive Bayes Classifier\n",
    " \n",
    "def buildVocabulary(ppTrainingData):\n",
    "    all_words = []\n",
    "    for (words, sentiment) in ppTrainingData:\n",
    "        all_words.extend(words)\n",
    "    \n",
    "    wordlist = nltk.FreqDist(all_words)\n",
    "    # print wordlist\n",
    "    word_features = wordlist.keys()\n",
    "    # print word_features\n",
    "    return word_features\n",
    "\n",
    "def extract_features(tweet):\n",
    "    tweet_words = set(tweet)\n",
    "    features = {}\n",
    "    for word in word_features:\n",
    "        features['contains(%s)' % word ] = (word in tweet_words)\n",
    "        \n",
    "    return features\n",
    "\n",
    "word_features = buildVocabulary(ppTrainingData)\n",
    "trainingFeatures = nltk.classify.apply_features(extract_features, ppTrainingData)\n",
    "\n",
    "NBClassifier = nltk.NaiveBayesClassifier.train(trainingFeatures)\n",
    "\n",
    "############################################################################################################################\n",
    "\n",
    "# 2. Support Vector Machines\n",
    "from nltk.corpus import sentiwordnet as swn\n",
    "import numpy as np\n",
    "from sklearn.feature_extraction.text import CountVectorizer\n",
    "\n",
    "svmTrainingData = [' '.join(tweet[0]) for tweet in ppTrainingData]\n",
    "\n",
    "vectorizer = CountVectorizer(min_df=1)\n",
    "X = vectorizer.fit_transform(svmTrainingData).toarray()\n",
    "vocabulary = vectorizer.get_feature_names()\n",
    "\n",
    "swn_weights = []\n",
    "\n",
    "for word in vocabulary:\n",
    "    try:\n",
    "        synset = list(swn.senti_synsets(word))\n",
    "        common_meaning = synset[0]\n",
    "        if common_meaning.pos_score() > common_meaning.neg_score():\n",
    "            weight = common_meaning.pos_score()\n",
    "        elif common_meaning.pos_score < common_meaning.neg_score():\n",
    "            weight = common_meaning.neg_score()\n",
    "        else:\n",
    "            weight = 0\n",
    "    except:\n",
    "        weight = 0\n",
    "    swn_weights.append(weight)\n",
    "    \n",
    "swn_X = []\n",
    "\n",
    "for row in X:\n",
    "    swn_X.append(np.multiply(row, np.array(swn_weights))) \n",
    "    \n",
    "swn_X = np.vstack(swn_X)\n",
    "\n",
    "labels_to_array = {\"positive\":1,\"negative\":2}\n",
    "\n",
    "labels = [labels_to_array[tweet[1]] for tweet in ppTrainingData]\n",
    "\n",
    "Y = np.array(labels)\n",
    "\n",
    "from sklearn.svm import SVC\n",
    "\n",
    "SVMClassifier = SVC()\n",
    "\n",
    "SVMClassifier.fit(swn_X, Y)"
   ]
  },
  {
   "cell_type": "code",
   "execution_count": 183,
   "metadata": {},
   "outputs": [],
   "source": [
    "# Step 2(d): Run classifier on the 100 downloaded tweets\n",
    "\n",
    "# 1. Naive Bayes Classifier\n",
    "\n",
    "NBResultLabels = [NBClassifier.classify(extract_features(tweet[0])) for tweet in ppTestData]\n",
    "\n",
    "############################################################################################################################\n",
    "\n",
    "# 2. Support Vector Machines\n",
    "\n",
    "SVMResultLabels = []\n",
    "\n",
    "for tweet in ppTestData:\n",
    "    tweet_sentence = ' '.join(tweet[0])\n",
    "    svmFeatures = np.multiply(vectorizer.transform([tweet_sentence]).toarray(), np.array(swn_weights ))\n",
    "    # print svmFeatures[0]\n",
    "    SVMResultLabels.append(SVMClassifier.predict(svmFeatures)[0])"
   ]
  },
  {
   "cell_type": "code",
   "execution_count": 184,
   "metadata": {},
   "outputs": [
    {
     "name": "stdout",
     "output_type": "stream",
     "text": [
      "['positive', 'positive', 'positive', 'positive', 'positive', 'negative', 'positive', 'positive', 'positive', 'positive', 'positive', 'positive', 'positive', 'positive', 'positive', 'positive', 'positive', 'positive', 'positive', 'positive', 'positive', 'positive', 'positive', 'positive', 'positive', 'positive', 'positive', 'positive', 'positive', 'positive', 'positive', 'positive', 'positive', 'positive', 'positive', 'positive', 'positive', 'negative', 'positive', 'positive', 'negative', 'positive', 'positive', 'positive', 'positive', 'positive', 'positive', 'positive', 'positive', 'positive', 'positive', 'positive', 'positive', 'positive', 'positive', 'positive', 'positive', 'positive', 'positive', 'positive', 'positive', 'positive', 'positive', 'positive', 'positive', 'positive', 'positive', 'positive', 'positive', 'positive', 'positive', 'positive', 'positive', 'positive', 'positive', 'positive', 'positive']\n"
     ]
    }
   ],
   "source": [
    "print NBResultLabels"
   ]
  },
  {
   "cell_type": "code",
   "execution_count": 185,
   "metadata": {},
   "outputs": [
    {
     "name": "stdout",
     "output_type": "stream",
     "text": [
      "[1, 2, 2, 2, 2, 2, 2, 2, 2, 2, 2, 2, 2, 2, 2, 2, 2, 2, 2, 2, 2, 2, 2, 2, 2, 2, 2, 2, 2, 2, 2, 2, 2, 2, 2, 2, 2, 2, 2, 2, 2, 2, 2, 2, 2, 2, 2, 2, 2, 2, 2, 2, 2, 2, 2, 2, 2, 2, 2, 2, 2, 2, 2, 2, 2, 2, 2, 2, 2, 1, 2, 2, 2, 2, 2, 2, 2]\n"
     ]
    }
   ],
   "source": [
    "print SVMResultLabels"
   ]
  }
 ],
 "metadata": {
  "kernelspec": {
   "display_name": "Python 2",
   "language": "python",
   "name": "python2"
  },
  "language_info": {
   "codemirror_mode": {
    "name": "ipython",
    "version": 2.0
   },
   "file_extension": ".py",
   "mimetype": "text/x-python",
   "name": "python",
   "nbconvert_exporter": "python",
   "pygments_lexer": "ipython2",
   "version": "2.7.6"
  }
 },
 "nbformat": 4,
 "nbformat_minor": 0
}