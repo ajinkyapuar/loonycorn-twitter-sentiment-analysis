{
 "cells": [
  {
   "cell_type": "code",
   "execution_count": 7,
   "metadata": {},
   "outputs": [],
   "source": [
    "import json, ast\n",
    "# from pprint import pprint\n",
    "\n",
    "data = ast.literal_eval(json.dumps(json.load(open('key.json')))) \n",
    "\n",
    "# pprint(data)\n",
    "#print data['consumer_key']"
   ]
  },
  {
   "cell_type": "code",
   "execution_count": 8,
   "metadata": {},
   "outputs": [],
   "source": [
    "import twitter\n",
    "\n",
    "api = twitter.Api(consumer_key=data['consumer_key'], consumer_secret=data['consumer_secret'],access_token_key=data['access_token'], access_token_secret=data['access_secret'])"
   ]
  },
  {
   "cell_type": "code",
   "execution_count": 9,
   "metadata": {
    "collapsed": false
   },
   "outputs": [
    {
     "name": "stdout",
     "output_type": "stream",
     "text": [
      "ajinkyapuar\n"
     ]
    }
   ],
   "source": [
    "data = api.VerifyCredentials()\n",
    "\n",
    "print data.screen_name"
   ]
  },
  {
   "cell_type": "code",
   "execution_count": 21,
   "metadata": {},
   "outputs": [],
   "source": [
    "def create_test_data(search_string):\n",
    "    # print search_string\n",
    "    try:\n",
    "        tweets = api.GetSearch(search_string, count=100)\n",
    "        # print len(tweets)\n",
    "        return [{\"text\": tweet.text, \"label\": None} for tweet in tweets]\n",
    "    except:\n",
    "        print \"Exception!!!\"\n",
    "        return None"
   ]
  },
  {
   "cell_type": "code",
   "execution_count": 22,
   "metadata": {},
   "outputs": [
    {
     "name": "stdout",
     "output_type": "stream",
     "text": [
      "[{'text': u'They say that there\\'s no such thing as *perfect* but who are \"they\" and did they see @BTS_twt\\'s #AMAs performance b\\u2026 https://t.co/SfUeHV0FW3', 'label': None}, {'text': u'The #AMAs wowed with @BTS_twt in their first-ever American television performance: https://t.co/o5TKEUBdMh\\u2026 https://t.co/WCaawb3zoA', 'label': None}, {'text': u'BREAKING: Charles Manson dead at 83, California prison officials confirm. https://t.co/O0pXTKDQ3y https://t.co/WJMhkXWPfZ', 'label': None}, {'text': u'RT @ABC: Police are offering $500 reward to catch a woman who brazenly climbed into a McDonalds drive-thru window and made off with food, c\\u2026', 'label': None}, {'text': u'RT @soldierdna: Additional remains of Sgt. La David Johnson found in Niger - ABC News -  via @ABC https://t.co/KpxCIrU5IZ \"THIS IS EXTREMEL\\u2026', 'label': None}, {'text': u'RT @Albert_Rivera: PSOE, Podemos y separatistas rechazan el proyecto de ley de Cs para desarrollar la Alta Inspecci\\xf3n educativa.  https://t\\u2026', 'label': None}, {'text': u'@solidadvice1981 @ABC No he didnt. Stop spreading your BS. How in the world would he know. You drama queens Like to stir up shit.', 'label': None}, {'text': u'@ABC @TheView There is no right or left when sexual assault is involved, the only thing that is important is that t\\u2026 https://t.co/JX3IN2k5kZ', 'label': None}, {'text': u'RT @ABCDigital: \\xbfD\\xf3nde est\\xe1n las reliquias? \\nhttps://t.co/8xeTKayBJQ https://t.co/rbHaNTY5MB', 'label': None}, {'text': u'RT @TAMARA_SUJU: Antonio Ledezma: \\xabMilitares descontentos con el Gobierno venezolano me ayudaron a escapar\\xbb https://t.co/fqjD5xBDRM v\\xeda @ab\\u2026', 'label': None}, {'text': u'RT @WHRIN: Papua New Guinea: Young girl brutally tortured in PNG after accusations of sorcery -... https://t.co/HsgBj9w6is', 'label': None}, {'text': u'RT @bevtgooden: \\u201cI don\\u2019t even know what\\u2019s in that box.\\u201d - Myeshia Johnson https://t.co/E09eQLTa1L', 'label': None}, {'text': u'La nueva forma de comprar Loter\\xeda de Navidad https://t.co/rOQ2eYSuTO', 'label': None}, {'text': u'@Abc_013rr \\u0633\\u0628\\u0647\\u0627\\u0646 \\u0627\\u0644\\u0644\\u0647 \\u0643\\u0644 \\u0645\\u062a\\u0639\\u0648\\u0633 \\u0645\\u0639 \\u0645\\u062a\\u0639\\u0648\\u0633\\u0647 \\u0631\\u0627\\u064a \\u0645\\u0627\\u062d\\u0628\\u0647 \\u0648\\u0627\\u062d\\u062a\\u0631\\u0645 \\u0631\\u0627\\u064a\\u0643 \\u064a\\u0627\\u0648\\u0631\\u062f\\u0647 \\U0001f496\\U0001f339', 'label': None}, {'text': u\"RT @ABC: Forget the players\\u2014this grandma's amazing tambourine skills at a Louisiana football game were what won the crowd. https://t.co/L2v\\u2026\", 'label': None}, {'text': u'Bruh WHAT https://t.co/EL9SLBVwQr', 'label': None}, {'text': u'RT @MOliver_abc: Fallece un motorista tras sufrir un accidente en el t\\xfanel de Sinesio Delgado https://t.co/KSRNF4x36a https://t.co/4ACLer3e\\u2026', 'label': None}, {'text': u'@soldierdna @ABC Dear God , How much more can his poor widow take! Heartbreaking', 'label': None}, {'text': u'RT @Thearst: @ABCPolitics @ABC Wow.  The most horrific, disrespectful way imaginable to treat a deceased soldier.  My God what has happened\\u2026', 'label': None}, {'text': u'RT @ItsMeOnDaBeAt: What a \\u201czara\\u201dshious picture https://t.co/CvGFDbCFP4', 'label': None}, {'text': u'RT @abc_PlayCine: \\xabStar Wars: Los \\xfaltimos Jedi\\xbb se estrena... \\xa1En menos de un mes! Ah\\xed va un aperitivo para los amantes de la saga  https:/\\u2026', 'label': None}, {'text': u'RT @InfoMyT: La vida pudo haber llegado a la Tierra en polvo espacial. #Ciencia ABC: https://t.co/3xu6N7kS9m \\U0001f52c https://t.co/QPAjOcwwwZ', 'label': None}, {'text': u'Las dietas ricas en carbohidratos y grasas trans promueven la p\\xe9rdida de nuestros dientes https://t.co/KvLnAMNyuw', 'label': None}, {'text': u'RT @Albert_Rivera: PSOE, Podemos y separatistas rechazan el proyecto de ley de Cs para desarrollar la Alta Inspecci\\xf3n educativa.  https://t\\u2026', 'label': None}, {'text': u'@ABC  https://t.co/2bYbBhQtA9', 'label': None}, {'text': u'@vanessa_janna @ABC ... corp whistleblowers were allowed 3 to 7 yrs until... Trump sign an exec order 2 remove that\\u2026 https://t.co/GJDwp9H1d3', 'label': None}, {'text': u'RT @KSoltisAnderson: DARK. But honestly, this whole tradition has always felt macabre to me, so I sort of appreciate the candor. https://t.\\u2026', 'label': None}, {'text': u'Tervis Tumbler in 360: A Family Business &amp;#8211; Longform story &amp;#8211; ABC Action News  https://t.co/apiN9jlrtO #3\\u2026 https://t.co/1WRxI95TRA', 'label': None}, {'text': u'#Israeli Army Abducts A Teenage Boy Near #Hebron \\u2013 IMEMC News https://t.co/ASJH8OBxQ6 #FreePalestine \\U0001f1f5\\U0001f1f8 #Palestine\\u2026 https://t.co/rbxNBErwCd', 'label': None}, {'text': u'I\\u2019d kill myself before even attempting to kill this thing https://t.co/ayQwR3wY2L', 'label': None}, {'text': u'RT @ABCDigital: \\xa1Atenci\\xf3n! \\U0001f6a8\\nEstas son las medidas de seguridad a tener en cuenta en los billetes de G. 20.000. https://t.co/sC2uAGrXQV htt\\u2026', 'label': None}, {'text': u'RT @cockspit: if i got into a car accident &amp; then harrison ford showed up to save me i would 100% assume i was dead https://t.co/I9w8HAJwKE', 'label': None}, {'text': u'RT @harleymarketti: @ABCPolitics @ABC Remember this? Can any journalist ask Gen. Mattis about not leaving troops behind? https://t.co/Eu6UX\\u2026', 'label': None}, {'text': u'@abc_es Jajajaja y habr\\xe1 capullos que le den algo jajajaja', 'label': None}, {'text': u'RT @ABC: MORE: CBS fires veteran journalist Charlie Rose, effective immediately, after nearly a dozen women accused him of sexual misconduc\\u2026', 'label': None}, {'text': u'RT @cockspit: if i got into a car accident &amp; then harrison ford showed up to save me i would 100% assume i was dead https://t.co/I9w8HAJwKE', 'label': None}, {'text': u'RT @camundin: RT, please!! C\\xe3o desaparecido desde 18.11, na regi\\xe3o do ABC. Atende pelo nome de Floco. Foi visto pela \\xfaltima vez no dia 19.1\\u2026', 'label': None}, {'text': u'RT @_adam_lawrence: Are you tryna watch abc family Christmas movies with me &amp; drive around to look at lights or nah', 'label': None}, {'text': u'RT @abc_cultura: Fue el artista espa\\xf1ol conmayor presencia internacional en el \\xfaltimo tercio del siglo XIX, un verdadero renovador en todas\\u2026', 'label': None}, {'text': u'RT @bts_bighit: Just wrapped rehearsals for the @AMAs! Make sure to watch us perform \\u201cDNA\\u201d TOMORROW night at 8/7c on ABC! #BTSxAMAs https:/\\u2026', 'label': None}, {'text': u'RT @Alfacebook64: El Gobierno volver\\xe1 a congelar la parte regulada del recibo de la luz por cuarto a\\xf1o consecutivo https://t.co/Vy0zAvvTyB\\u2026', 'label': None}, {'text': u'BREAK..#PBS fires Charlie Rose after CBS severs ties over sexual misconduct allegations..\\u2026 https://t.co/fukEFlPi68', 'label': None}, {'text': u'RT @ABCDigital: \\xbfD\\xf3nde est\\xe1n las reliquias? \\nhttps://t.co/8xeTKayBJQ https://t.co/rbHaNTY5MB', 'label': None}, {'text': u'RT @MrDenmore: If taxpayers are clamouring for anything it\\u2019s not tax cuts but properly funded schools, hospitals, infrastructure and public\\u2026', 'label': None}, {'text': u'RT @ILoveTeeShirts1: @ABC And that, ladies and gentleman, is a perfect example of white privileged.\\n\\nWhite Money Launderer? Sure, you can h\\u2026', 'label': None}, {'text': u'RT @willishl: @BunnehUsagichan @ABCPolitics @ABC This goes to show you that you never know what our government is up too, and more specific\\u2026', 'label': None}, {'text': u'RT @Richie_l0c0: He would\\u2019ve been making them car payments after that because that shit would\\u2019ve been his https://t.co/kQSmigTPsQ', 'label': None}, {'text': u'RT @ABCEspectaculos: [VIDEO] Aram\\xed Ull\\xf3n, una contadora de historias.\\nLa entrevista en #AntesQueArda\\U0001f525 de @ABCTVpy:\\nhttps://t.co/2sKmqx8aDN\\u2026', 'label': None}, {'text': u'@ABC \"Six-legged\"? That is a spider.', 'label': None}, {'text': u'RT @LaCasacaBlog: De la \"A\" a la \"Z\" en 27 camisetas.\\nBy@JuanLopezMoses para Lacasaca.\\nhttps://t.co/xlNgbbKs3a https://t.co/UtZUwS6ria', 'label': None}, {'text': u'RT @ABC: Fire officials surprised when they respond to tractor-trailer fire in Georgia to find three African elephants. https://t.co/AtMwIA\\u2026', 'label': None}, {'text': u'Valverde empieza a cansarse con las dudas sobre Messi La tardanza en oficializar la renovaci\\xf3n de Leo Messi con una\\u2026 https://t.co/IElyQsyBIH', 'label': None}, {'text': u'ENTERTAINMENT: Charlie Rose fired from CBS amid sexual misconduct allegations https://t.co/eLjj1itmIV', 'label': None}, {'text': u'@gregorybrandon6 @ABC It\\u2019s the times we live in now', 'label': None}, {'text': u'RT @voxnoticias_es: \\U0001f4f0 Asalto a nuestra seguridad nacional: La inmigraci\\xf3n argelina sobrepasa Murcia y se triplica en la provincia de Alican\\u2026', 'label': None}, {'text': u'RT @ABCDigital: \\xa1Atenci\\xf3n! \\U0001f6a8\\nEstas son las medidas de seguridad a tener en cuenta en los billetes de G. 20.000. https://t.co/sC2uAGrXQV htt\\u2026', 'label': None}, {'text': u\"Bol Bol, el prometedor hijo de Manute Bol Bol, el hijo mayor de Manute Bol, el recordad\\xedsimo gigante sudan\\xe9s (2'31)\\u2026 https://t.co/jlF8v7HGPS\", 'label': None}, {'text': u'RT @Albert_Rivera: PSOE, Podemos y separatistas rechazan el proyecto de ley de Cs para desarrollar la Alta Inspecci\\xf3n educativa.  https://t\\u2026', 'label': None}, {'text': u'RT @evanmcmurry: JUST IN: Remains of U.S. Army Sgt. La David Johnson found on November 12 at site in Niger where his body was recovered, U.\\u2026', 'label': None}, {'text': u'@atojatojxyz @abc_es Yo s\\xed creo que si fallece tu pareja y era una relaci\\xf3n bien avenida, debe ser muy dif\\xedcil recu\\u2026 https://t.co/v2jy0EVlek', 'label': None}, {'text': u'Heyyyyy! \\n#CNN\\n@CNN\\n#ABC\\n@ABC\\n#NBC\\n@NBC\\n#CBS\\n@CBS\\n#MSNBC\\n@MSNBC \\n#NYTimes \\n@nytimes\\n#Wapo\\n@washingtonpost\\n#MSM\\nwill\\u2026 https://t.co/VVRCRj7jHy', 'label': None}, {'text': u\"Pink slams those who 'created riff between myself' and Christina Aguilera - ABC News https://t.co/fEccoYGnHy\", 'label': None}, {'text': u\"RT @headlineplanet: Pitbull &amp; Fifth Harmony performed #PorFavor on Monday's Dancing With The Stars (photos by Eric McCandless/ABC). @FifthH\\u2026\", 'label': None}, {'text': u'RT @DancingABC: There can only be one champion! Are you ready? The epic #DWTS finale is live TONIGHT at 9|8c on ABC! https://t.co/MvQz796Gng', 'label': None}, {'text': u'RT @MunaAmina: Travesty of justice against #Maldives enviornment &amp; the local people perpetrated in broad daylight, destruction of unique on\\u2026', 'label': None}, {'text': u'@ABC @KOANewsRadio BULLSHT!', 'label': None}, {'text': u\"Pink slams those who 'created riff between myself' and Christina Aguilera - ABC News https://t.co/LOp2I5glRX\", 'label': None}, {'text': u'Tivoli DKR: la \\xabmala bestia\\xbb espa\\xf1ola de SsangYong para el Dakar 2018 https://t.co/ENoQ4g7jPd https://t.co/8lenKStyOu', 'label': None}, {'text': u'Additional remains of Sgt. La David Johnson found in Niger - ABC News https://t.co/qdqyVTy4PU #SmartNews', 'label': None}, {'text': u'@dmparm Me\\U0001f44b somebody stole my turtle bag from the ABC when my back was turned, so i have good reason\\U0001f923\\U0001f923', 'label': None}, {'text': u'@abc_es @isanseba Muchas gracias por el apoyo brindado en esta injusticia. Con el apoyo de todos, lo conseguiremos. #EquiparacionYa.', 'label': None}, {'text': u'State governments urged to sign off on National Energy Guarantee #NEG #dispatchableenergy https://t.co/106Oqil22L via @abcnews', 'label': None}, {'text': u'US airstrike kills over 100 al-Shabaab fighters in Somalia, Pentagon says - ABC News https://t.co/3fVevNTL25', 'label': None}, {'text': u'RT @ABC: Off-duty military policeman takes down alleged armed robbers in a pharmacy while holding his young son in his arms. https://t.co/j\\u2026', 'label': None}, {'text': u'RT @ABCDigital: \\u201cPeluqu\\xedn\\u201d Gonz\\xe1lez Daher puso de rodillas a los cinco del Frente Gua\\u2019u, encabezados por Lugaucho. \\n\\nUna ilustraci\\xf3n de Cal\\u2026', 'label': None}, {'text': u\"RT @headlineplanet: Pitbull &amp; Fifth Harmony performed #PorFavor on Monday's Dancing With The Stars (photos by Eric McCandless/ABC). @FifthH\\u2026\", 'label': None}, {'text': u'Rakitic sobre la continuidad del 10 del Barcelona: \\u201cMessi es parte del escudo\\u201d\\n\\nhttps://t.co/2UxCfNyI6p https://t.co/7KC2UK8Plc', 'label': None}, {'text': u'Mar\\xeda Dolores Jim\\xe9nez, nueva presidenta de los constructores de C\\xf3rdoba https://t.co/OnfZeKneM8 #cordobaEsp', 'label': None}, {'text': u'RT @camundin: RT, please!! C\\xe3o desaparecido desde 18.11, na regi\\xe3o do ABC. Atende pelo nome de Floco. Foi visto pela \\xfaltima vez no dia 19.1\\u2026', 'label': None}, {'text': u\"RT @willishl: @ABCPolitics @ABC Also report that his widow, Mrs. Johnson was correct. She said that they didn't let her open the casket and\\u2026\", 'label': None}, {'text': u'RT @chema_1978: @Sup_Policia @Albert_Rivera @CiudadanosCs @MGutierrezCs @elmundoes @abc_es @publico_es @Vocento @okdiario @larazon_es Graci\\u2026', 'label': None}, {'text': u'RT @Rebecca_Throck2: @SandraD03437332 @phight4freedom @ABC Turkeys are incredibly stupid. But they are incredibly delicious.', 'label': None}, {'text': u'RT @MunaAmina: Travesty of justice against #Maldives enviornment &amp; the local people perpetrated in broad daylight, destruction of unique on\\u2026', 'label': None}, {'text': u'RT @evanmcmurry: JUST IN: Remains of U.S. Army Sgt. La David Johnson found on November 12 at site in Niger where his body was recovered, U.\\u2026', 'label': None}, {'text': u'RT @Richie_l0c0: He would\\u2019ve been making them car payments after that because that shit would\\u2019ve been his https://t.co/kQSmigTPsQ', 'label': None}, {'text': u'HEADLINES: US airstrike kills over 100 al-Shabaab fighters in Somalia, Pentagon says https://t.co/kAAuYgSN5n', 'label': None}, {'text': u'RT @ABC: Ronan Farrow tells @GMA how Harvey Weinstein used elaborate non-disclosure agreements: \"The culture of silence isn\\'t always just a\\u2026', 'label': None}, {'text': u\"RT @GoodDoctorABC: Friends come with apples and apologies. \\nWatch last night's #TheGoodDoctor here! https://t.co/HhohOVH5A2 https://t.co/Dy\\u2026\", 'label': None}, {'text': u\"RT @GoodDoctorABC: Friends come with apples and apologies. \\nWatch last night's #TheGoodDoctor here! https://t.co/HhohOVH5A2 https://t.co/Dy\\u2026\", 'label': None}, {'text': u'@jusapol @abc_es @larazon_es @elpais_espana @elmundoes @20m @elperiodico @LaVanguardia @El_Plural @okdiario\\u2026 https://t.co/rx5ABzIumw', 'label': None}, {'text': u'RT @voxnoticias_es: \\U0001f4f0 Asalto a nuestra seguridad nacional: La inmigraci\\xf3n argelina sobrepasa Murcia y se triplica en la provincia de Alican\\u2026', 'label': None}, {'text': u'RT @ABC: JUST IN: Remains of U.S. Army Sgt. La David Johnson found on November 12 at site in Niger where his body was recovered, U.S. offic\\u2026', 'label': None}, {'text': u'RT @NatalieSuther20: @kylegriffin1 @ChrisStanton @ABC where is the investigation into what went wrong?', 'label': None}, {'text': u'Nah. Wire their ankle bracelets for sound and let them drink. https://t.co/ic5wKoxbr8', 'label': None}, {'text': u'RT @REMMUSBRADSHAU: @ABC https://t.co/6p6QFiN38Q', 'label': None}, {'text': u'@Kaysexton20 @petitchoux3 @ABC You drank too much of the bad koolaide honey https://t.co/Bt0Uq1YkxZ', 'label': None}, {'text': u'I would of just died right there \\U0001f937\\U0001f3fe\\u200d\\u2640\\ufe0f https://t.co/fLZAjkzfse', 'label': None}, {'text': u\"RT @MJStarLover: When his widow Myeshia Johnson said for all she knows his remains could still be out there when they wouldn't let her see\\u2026\", 'label': None}, {'text': u'RT @ABC: Whale watching trip reportedly spots 64 blue whales off the coast of Monterey, California - the most reported in the area in decad\\u2026', 'label': None}, {'text': u'RT @voxnoticias_es: \\U0001f4f0 Asalto a nuestra seguridad nacional: La inmigraci\\xf3n argelina sobrepasa Murcia y se triplica en la provincia de Alican\\u2026', 'label': None}]\n"
     ]
    }
   ],
   "source": [
    "print create_test_data(\"abc\")"
   ]
  },
  {
   "cell_type": "code",
   "execution_count": null,
   "metadata": {},
   "outputs": [],
   "source": [
    ""
   ]
  },
  {
   "cell_type": "code",
   "execution_count": null,
   "metadata": {},
   "outputs": [],
   "source": [
    ""
   ]
  }
 ],
 "metadata": {
  "kernelspec": {
   "display_name": "Python 2",
   "language": "python",
   "name": "python2"
  },
  "language_info": {
   "codemirror_mode": {
    "name": "ipython",
    "version": 2.0
   },
   "file_extension": ".py",
   "mimetype": "text/x-python",
   "name": "python",
   "nbconvert_exporter": "python",
   "pygments_lexer": "ipython2",
   "version": "2.7.6"
  }
 },
 "nbformat": 4,
 "nbformat_minor": 0
}