{
 "cells": [
  {
   "cell_type": "code",
   "execution_count": 29,
   "metadata": {},
   "outputs": [],
   "source": [
    "import json, ast\n",
    "# from pprint import pprint\n",
    "\n",
    "data = ast.literal_eval(json.dumps(json.load(open('key.json')))) \n",
    "\n",
    "# pprint(data)\n",
    "#print data['consumer_key']"
   ]
  },
  {
   "cell_type": "code",
   "execution_count": 30,
   "metadata": {},
   "outputs": [],
   "source": [
    "import twitter\n",
    "\n",
    "api = twitter.Api(consumer_key=data['consumer_key'], consumer_secret=data['consumer_secret'],access_token_key=data['access_token'], access_token_secret=data['access_secret'])"
   ]
  },
  {
   "cell_type": "code",
   "execution_count": 31,
   "metadata": {
    "collapsed": false
   },
   "outputs": [
    {
     "name": "stdout",
     "output_type": "stream",
     "text": [
      "ajinkyapuar\n"
     ]
    }
   ],
   "source": [
    "data = api.VerifyCredentials()\n",
    "\n",
    "print data.screen_name"
   ]
  },
  {
   "cell_type": "code",
   "execution_count": 32,
   "metadata": {},
   "outputs": [],
   "source": [
    "def create_test_data(search_string):\n",
    "    # print search_string\n",
    "    try:\n",
    "        tweets = api.GetSearch(search_string, count=100)\n",
    "        # print len(tweets)\n",
    "        return [{\"text\": tweet.text, \"label\": None} for tweet in tweets]\n",
    "    except:\n",
    "        print \"Exception!!!\"\n",
    "        return None"
   ]
  },
  {
   "cell_type": "code",
   "execution_count": 35,
   "metadata": {},
   "outputs": [
    {
     "name": "stdout",
     "output_type": "stream",
     "text": [
      "91\n"
     ]
    }
   ],
   "source": [
    "# user_input=raw_input(\"Enter keyword to search: \")\n",
    "\n",
    "testData = create_test_data(\"#Apple\")\n",
    "print len(testData)"
   ]
  },
  {
   "cell_type": "code",
   "execution_count": 43,
   "metadata": {},
   "outputs": [
    {
     "name": "stdout",
     "output_type": "stream",
     "text": [
      "{'text': u\"Chinese high school students were 'forced' to work up to 11 hours a day assembling #Apple #iPhoneX https://t.co/OawNiqKAWO\", 'label': None}\n{'text': u'Die irische Regierung weigert sich, 13 Milliarden \\u20ac von #Apple einzuziehen, obwohl sich das Land verschuldete, um B\\u2026 https://t.co/GaMiYbEK59', 'label': None}\n{'text': u'ALERTA: \\xbfQu\\xe9 canci\\xf3n quieres que suba en #LaListaDeHappyFM?\\n\\U0001f501= #Havana - @Camila_Cabello \\n\\u2764\\ufe0f= #DuskTillDawn -\\u2026 https://t.co/eBplNEoeeu', 'label': None}\n{'text': u'Las 4 mejores alternativas a iTunes para Mac OS #apple https://t.co/hOfWQQjSoQ', 'label': None}\n{'text': u'#Apple #appleindia #OnePlus\\nSold #iphone7 for good to buy #OnePlus5T...\\n\\nNow happy to sale #iphone7 within 4months\\u2026 https://t.co/M16j5AOUOG', 'label': None}\n{'text': u'38% discount #sale #blackfriday #iPad #apple Apple iPad mini 4 (128GB, Wi-Fi, Space Gray) https://t.co/RVCYFTVF4w https://t.co/nIIqy4muv6', 'label': None}\n{'text': u'38% discount #sale #blackfriday #iPad #apple Apple iPad mini 4 (128GB, Wi-Fi, Space Gray) https://t.co/MPtAbiWgD0 https://t.co/aPv4XKHeeL', 'label': None}\n{'text': u'38% discount #sale #blackfriday #iPad #apple Apple iPad mini 4 (128GB, Wi-Fi, Space Gray) https://t.co/sMrcJQiyE9 https://t.co/Su7wsXS9Do', 'label': None}\n{'text': u'38% discount #sale #blackfriday #iPad #apple Apple iPad mini 4 (128GB, Wi-Fi, Space Gray) https://t.co/IUNU1MoXKr https://t.co/23tI5puR40', 'label': None}\n{'text': u'13\" 3.1GHz/256GB #Apple #MacBook Pro for $1649 at B&amp;H. $150 off. Free ship, NY &amp; NJ tax only https://t.co/XzY4Fl0guv', 'label': None}\n{'text': u'RT @G8GIST: \\u2026Thus Major Corporations #Apple, Inc  @GoogleNexus @Nokia @SamsungMobile @SonyXperia Each Pay #NEO \\u20ac12 Billion\\u2026{3/3}. http://t.\\u2026', 'label': None}\n{'text': u'#Apple 2015\\u5e74\\u306e\\u590f\\u3042\\u305f\\u308a\\u306b\\u3001ik\\u3068hisae\\u306e2\\u3064\\u306e\\u30a2\\u30ab\\u30a6\\u30f3\\u30c8\\u3084\\u3001hackintosh\\u3060\\u3063\\u305fPC...\\u3053\\u308c\\u306f\\u3055\\u3001\\u5b9f\\u306f\\u3001\\u6628\\u65e5\\u4ea1\\u304f\\u306a\\u3063\\u305f real Mac \\u3092\\u8cb7\\u3046\\u304d\\u3063\\u304b\\u3051\\u3067\\u30012010\\u5e74\\u306b\\u3082\\u3001iPhone3GS\\u3092\\u2026 https://t.co/nATcOezQmi', 'label': None}\n{'text': u\"Varadkar's legal threat to #Apple on \\u20ac13bn #TaxBill  https://t.co/i1aYmrx3B0\", 'label': None}\n{'text': u'9to5Toys Lunch Break: #Apple Watch Series 1 $179, Fantastical 2 for iOS/Mac from $3, Nest Black Friday deals, more\\u2026 https://t.co/AXs3JIxRCa', 'label': None}\n{'text': u'Una m\\xe1scara burla la tecnolog\\xeda de reconocimiento facial del #iPhone X de #Apple\\nhttps://t.co/ycvWcBsaik https://t.co/6mcvxbdYXQ', 'label': None}\n"
     ]
    }
   ],
   "source": [
    "for td in testData[0:15]:\n",
    "    print td"
   ]
  },
  {
   "cell_type": "code",
   "execution_count": null,
   "metadata": {},
   "outputs": [],
   "source": [
    ""
   ]
  }
 ],
 "metadata": {
  "kernelspec": {
   "display_name": "Python 2",
   "language": "python",
   "name": "python2"
  },
  "language_info": {
   "codemirror_mode": {
    "name": "ipython",
    "version": 2.0
   },
   "file_extension": ".py",
   "mimetype": "text/x-python",
   "name": "python",
   "nbconvert_exporter": "python",
   "pygments_lexer": "ipython2",
   "version": "2.7.6"
  }
 },
 "nbformat": 4,
 "nbformat_minor": 0
}