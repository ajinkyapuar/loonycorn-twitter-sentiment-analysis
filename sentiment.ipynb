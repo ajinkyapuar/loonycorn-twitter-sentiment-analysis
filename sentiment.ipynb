{
 "cells": [
  {
   "cell_type": "code",
   "execution_count": 130,
   "metadata": {},
   "outputs": [],
   "source": [
    "import json, ast\n",
    "# from pprint import pprint\n",
    "\n",
    "data = ast.literal_eval(json.dumps(json.load(open('key.json')))) \n",
    "\n",
    "# pprint(data)\n",
    "#print data['consumer_key']"
   ]
  },
  {
   "cell_type": "code",
   "execution_count": 131,
   "metadata": {},
   "outputs": [],
   "source": [
    "import twitter\n",
    "\n",
    "api = twitter.Api(consumer_key=data['consumer_key'], consumer_secret=data['consumer_secret'],access_token_key=data['access_token'], access_token_secret=data['access_secret'])"
   ]
  },
  {
   "cell_type": "code",
   "execution_count": 132,
   "metadata": {
    "collapsed": false
   },
   "outputs": [
    {
     "name": "stdout",
     "output_type": "stream",
     "text": [
      "ajinkyapuar\n"
     ]
    }
   ],
   "source": [
    "data = api.VerifyCredentials()\n",
    "\n",
    "print data.screen_name"
   ]
  },
  {
   "cell_type": "code",
   "execution_count": 133,
   "metadata": {},
   "outputs": [],
   "source": [
    "def create_test_data(search_string):\n",
    "    # print search_string\n",
    "    try:\n",
    "        tweets = api.GetSearch(search_string, count=100)\n",
    "        # print len(tweets)\n",
    "        return [{\"text\": tweet.text, \"label\": None} for tweet in tweets]\n",
    "    except:\n",
    "        print \"Exception!!!\"\n",
    "        return None"
   ]
  },
  {
   "cell_type": "code",
   "execution_count": 141,
   "metadata": {},
   "outputs": [
    {
     "name": "stdout",
     "output_type": "stream",
     "text": [
      "92\n"
     ]
    }
   ],
   "source": [
    "# user_input=raw_input(\"Enter keyword to search: \")\n",
    "\n",
    "testData = create_test_data(\"#Apple\")\n",
    "print len(testData)"
   ]
  },
  {
   "cell_type": "code",
   "execution_count": 142,
   "metadata": {},
   "outputs": [
    {
     "name": "stdout",
     "output_type": "stream",
     "text": [
      "{'text': u'macOS lie\\xdf sich per USB-Stick hacken https://t.co/Gf4N5lhoCl #macOS #Apple', 'label': None}\n{'text': u'Cette r\\xe9v\\xe9lation tombe alors que le collectif #iPhoneRevolt a men\\xe9 plusieurs actions pour d\\xe9noncer les agissements\\u2026 https://t.co/QiF5v5ms64', 'label': None}\n{'text': u'Nuestros compa\\xf1eros de @osiseguridad te ense\\xf1an a configurar las opciones de seguridad de tus cuentas #iCloud en di\\u2026 https://t.co/b9EmoGvcQE', 'label': None}\n{'text': u'Apple bought a Canadian augmented reality headset startup for $30 million #AugmentedReality #Apple https://t.co/OfGathIGan v\\xeda @sai', 'label': None}\n{'text': u'\\u5148\\u3092\\u898b\\u3066\\u70b9\\u3092\\u3064\\u306a\\u3052\\u308b\\u3053\\u3068\\u306f\\u3067\\u304d\\u306a\\u3044\\u3001\\u3067\\u304d\\u308b\\u306e\\u306f\\u3001\\u904e\\u53bb\\u3092\\u632f\\u308a\\u8fd4\\u3063\\u3066\\u70b9\\u3092\\u3064\\u306a\\u3052\\u308b\\u3053\\u3068\\u3060\\u3051\\u3060\\u3002\\n\\nby \\u30b9\\u30c6\\u30a3\\u30fc\\u30d6\\u30fb\\u30b8\\u30e7\\u30d6\\u30ba\\n\\n#apple\\u3000\\n#\\u540d\\u8a00\\n#\\u3044\\u3044\\u306d\\u3057\\u305f\\u4eba\\u5168\\u54e1\\u30d5\\u30a9\\u30ed\\u30fc https://t.co/diFRCoerQf', 'label': None}\n{'text': u'RT @NoticiasDeApple: Apple ingresa la patente de un iPhone plegable https://t.co/X26UDDw568 #Apple', 'label': None}\n{'text': u\"RT @NoticiasDeApple: Apple patenta su propio 'Galaxy X', un m\\xf3vil plegable con pantalla flexible https://t.co/Y7m7BqTVFH #Apple\", 'label': None}\n{'text': u'RT @mars_project_on: MASAKI YODA -Right now heart - on #Apple music https://t.co/cUzintb1Lr #music #listen #Japan #information', 'label': None}\n{'text': u'RT @igeeksblog: #Apple #NEWS Apple handing out gift cards for Black Friday shopping event in US https://t.co/GmNUNvsnQm https://t.co/I8UyGL\\u2026', 'label': None}\n{'text': u'RT @mars_project_on: MASAKI YODA -Twist- on #Apple music https://t.co/jjMwjhIKo6 #music #listen #Japan #information', 'label': None}\n{'text': u'Apple ingresa la patente de un iPhone plegable https://t.co/X26UDDw568 #Apple', 'label': None}\n{'text': u\"Apple patenta su propio 'Galaxy X', un m\\xf3vil plegable con pantalla flexible https://t.co/Y7m7BqTVFH #Apple\", 'label': None}\n{'text': u'MASAKI YODA -Right now heart - on #Apple music https://t.co/cUzintb1Lr #music #listen #Japan #information', 'label': None}\n{'text': u'#Apple #NEWS Apple handing out gift cards for Black Friday shopping event in US https://t.co/GmNUNvsnQm https://t.co/I8UyGLrpyI', 'label': None}\n{'text': u'MASAKI YODA -Twist- on #Apple music https://t.co/jjMwjhIKo6 #music #listen #Japan #information', 'label': None}\n"
     ]
    }
   ],
   "source": [
    "for td in testData[0:15]:\n",
    "    print td"
   ]
  },
  {
   "cell_type": "code",
   "execution_count": 143,
   "metadata": {},
   "outputs": [],
   "source": [
    "# Step 2:\n",
    "# Niek Sanders Tweet Sentiment Corpus   \n",
    "\n",
    "import csv\n",
    "import time\n",
    "\n",
    "def createTrainingCorpus(corpusFile, tweetDataFile):\n",
    "    corpus = []\n",
    "    with open(corpusFile, 'rb') as csvfile:\n",
    "        print csvfile\n",
    "        linereader = csv.reader(csvfile, delimiter=',', quotechar=\"\\\"\")\n",
    "        for row in linereader:\n",
    "            corpus.append({\"tweet_id\": row[2], \"label\": row[1], \"topic\": row[0]})\n",
    "\n",
    "    rate_limit = 180\n",
    "    sleep_time = 900 / rate_limit\n",
    "\n",
    "    training_data = []\n",
    "    for tweet in corpus:\n",
    "        try:\n",
    "            status = api.GetStatus(tweet[\"tweet_id\"])\n",
    "            print status.text\n",
    "            tweet[\"text\"] = status.text\n",
    "            training_data.append(tweet)\n",
    "            time.sleep(sleep_time)\n",
    "        except:\n",
    "            continue\n",
    "    \n",
    "    with open(tweetDataFile, 'wb')as csvfile:\n",
    "        linewriter = csv.writer(csvfile, delimiter=',', quotechar=\"\\\"\")\n",
    "        for tweet in training_data:\n",
    "            linewriter.writerow([tweet['tweet_id'], tweet['text'], tweet['label'], tweet['topic']])\n",
    "\n",
    "    return training_data"
   ]
  },
  {
   "cell_type": "code",
   "execution_count": 153,
   "metadata": {
    "collapsed": false
   },
   "outputs": [
    {
     "name": "stdout",
     "output_type": "stream",
     "text": [
      "Reading Corpus File\n"
     ]
    },
    {
     "name": "stdout",
     "output_type": "stream",
     "text": [
      "Now all @Apple has to do is get swype on the iphone and it will be crack. Iphone that is\n"
     ]
    },
    {
     "name": "stdout",
     "output_type": "stream",
     "text": [
      "Hilarious @youtube video - guy does a duet with @apple 's Siri. Pretty much sums up the love affair! http://t.co/8ExbnQjY\n"
     ]
    },
    {
     "name": "stdout",
     "output_type": "stream",
     "text": [
      "@RIM you made it too easy for me to switch to @Apple iPhone. See ya!\n"
     ]
    },
    {
     "name": "stdout",
     "output_type": "stream",
     "text": [
      "The 16 strangest things Siri has said so far. I am SOOO glad that @Apple gave Siri a sense of humor! http://t.co/TWAeUDBp via @HappyPlace\n"
     ]
    },
    {
     "name": "stdout",
     "output_type": "stream",
     "text": [
      "Great up close & personal event @Apple tonight in Regent St store!\n"
     ]
    },
    {
     "name": "stdout",
     "output_type": "stream",
     "text": [
      "From which companies do you experience the best customer service aside from @zappos and @apple?\n"
     ]
    },
    {
     "name": "stdout",
     "output_type": "stream",
     "text": [
      "Just apply for a job at @Apple, hope they call me lol\n"
     ]
    },
    {
     "name": "stdout",
     "output_type": "stream",
     "text": [
      "Lmao I think @apple is onto something magical! I am DYING!!! haha. Siri suggested where to find whores and where to hide a body lolol\n"
     ]
    },
    {
     "name": "stdout",
     "output_type": "stream",
     "text": [
      "RT @PhillipRowntree: Just registered as an @apple developer... Here's hoping I can actually do it... Any help, greatly appreciated!\n"
     ]
    },
    {
     "name": "stdout",
     "output_type": "stream",
     "text": [
      "Wow. Great deals on refurbed #iPad (first gen) models. RT: Apple offers great deals on refurbished 1st-gen iPads http://t.co/ukWOKBGd @Apple\n"
     ]
    },
    {
     "name": "stdout",
     "output_type": "stream",
     "text": [
      "Just registered as an @apple developer... Here's hoping I can actually do it... Any help, greatly appreciated!\n"
     ]
    },
    {
     "name": "stdout",
     "output_type": "stream",
     "text": [
      "你好 ! Currently learning Mandarin for my upcoming trip to Hong Kong. I gotta hand it to @Apple iPhones & their uber useful flashcard apps  \n"
     ]
    },
    {
     "name": "stdout",
     "output_type": "stream",
     "text": [
      "Come to the dark side 📱“@gretcheneclark: Hey @apple, if you send me a free iPhone, I will publicly and ceremoniously burn my #BlackBerry.”\n"
     ]
    },
    {
     "name": "stdout",
     "output_type": "stream",
     "text": [
      "Thanks to @Apple Covent Garden #GeniusBar for replacing my MacBook keyboard/cracked wristpad during my lunch break today, out of warranty.\n"
     ]
    },
    {
     "name": "stdout",
     "output_type": "stream",
     "text": [
      "@DailyDealChat @apple Thanks!!\n"
     ]
    },
    {
     "name": "stdout",
     "output_type": "stream",
     "text": [
      "iPads Replace Bound Playbooks on Some N.F.L. Teams http://t.co/2UXAWKwf @apple @nytimes\n"
     ]
    },
    {
     "name": "stdout",
     "output_type": "stream",
     "text": [
      "@apple @siri is efffing amazing!!\n"
     ]
    },
    {
     "name": "stdout",
     "output_type": "stream",
     "text": [
      "RT @TripLingo: We're one of a few \"Featured Education Apps\" on the @Apple **Website** today, sweet! http://t.co/0yWvbe1Z\n"
     ]
    },
    {
     "name": "stdout",
     "output_type": "stream",
     "text": [
      "We're one of a few \"Featured Education Apps\" on the @Apple **Website** today, sweet! http://t.co/0yWvbe1Z\n"
     ]
    },
    {
     "name": "stdout",
     "output_type": "stream",
     "text": [
      "When you want something done right, you do it yourself... or go to @Apple. AT&T you're useless these days. #yourdaysarenumbered\n\n\n"
     ]
    },
    {
     "name": "stdout",
     "output_type": "stream",
     "text": [
      "We did an unexpected workshop for the #iPhone4S at @apple yesterday and we got an awesome amount of info #notjustaboutthephone @gamerchik16\n"
     ]
    },
    {
     "name": "stdout",
     "output_type": "stream",
     "text": [
      "---» RT @Apple No question bro. RT @AintEeenTrippin: Should I get dis iPhone or a EVO 3D?\n"
     ]
    },
    {
     "name": "stdout",
     "output_type": "stream",
     "text": [
      "RT @imightbewrong: I'm OVER people bitching about the #iPhone4S... I think it's the smartest phone I've ever had and I'm very happy.   : ...\n"
     ]
    },
    {
     "name": "stdout",
     "output_type": "stream",
     "text": [
      "I'm OVER people bitching about the #iPhone4S... I think it's the smartest phone I've ever had and I'm very happy.   :)  Way to go @Apple!\n"
     ]
    },
    {
     "name": "stdout",
     "output_type": "stream",
     "text": [
      "@Twitter CEO points to @Apple as 'corporate mentor' as @iOS signups triple http://t.co/GCY8iphN\n"
     ]
    },
    {
     "name": "stdout",
     "output_type": "stream",
     "text": [
      "At the bus with my iPhone ;) thxx @apple\n"
     ]
    },
    {
     "name": "stdout",
     "output_type": "stream",
     "text": [
      "@azee1v1 @apple @umber AppStore is well done, so is iTunes on the mobile devices.  I was talking about desktop app.\n"
     ]
    },
    {
     "name": "stdout",
     "output_type": "stream",
     "text": [
      "NYTimes: Coach Wants to See You. And Bring Your iPad. http://t.co/J2FTiEnG #iPad @apple set red 42 red 42 hut hut @NFL wish I had an #iPad\n"
     ]
    },
    {
     "name": "stdout",
     "output_type": "stream",
     "text": [
      "@apple @jilive @DanielPink: Apple sells 4 million iPhone 4S units in first weekend ... Steve Jobs brilliance lives on for ever! #iphone #RVA\n"
     ]
    },
    {
     "name": "stdout",
     "output_type": "stream",
     "text": [
      "@bkad5161 than apologize to @apple ;)\n"
     ]
    },
    {
     "name": "stdout",
     "output_type": "stream",
     "text": [
      "@Apple downloads of iOS 5 are proving popular with users  -- http://t.co/NSHLfiUX\n"
     ]
    },
    {
     "name": "stdout",
     "output_type": "stream",
     "text": [
      "Lmfao look at the argument I had with Siri !!\n@ijustine @apple http://t.co/D4VjL7SI\n"
     ]
    },
    {
     "name": "stdout",
     "output_type": "stream",
     "text": [
      "Incredible: 4 million iPhone 4Ss in 3 days. 135% better than the iPhone 4 http://t.co/1FMJxTMM @apple #iphone4s\n"
     ]
    },
    {
     "name": "stdout",
     "output_type": "stream",
     "text": [
      "Well @apple fixed my #ios5 battery drain problem with a replacement iPhone 4 -- it's working like a champ now\n"
     ]
    },
    {
     "name": "stdout",
     "output_type": "stream",
     "text": [
      "Currently ordering a BRAND NEW MACBOOK PRO!!! Bahhh... my MacBook is 5 years old. I'll miss it. But it's time. cc: @Apple -\n"
     ]
    },
    {
     "name": "stdout",
     "output_type": "stream",
     "text": [
      "#Siri now knows who my dad, mom, brother and girlfriend is.  Thanks @apple\n"
     ]
    },
    {
     "name": "stdout",
     "output_type": "stream",
     "text": [
      "Well at least the @apple store has amazing call waiting music! #need4s\n"
     ]
    },
    {
     "name": "stdout",
     "output_type": "stream",
     "text": [
      "#sweet... #apple replaced my glass #probono. thank you @apple\n"
     ]
    },
    {
     "name": "stdout",
     "output_type": "stream",
     "text": [
      "Not Bad! @Apple Sells Over 4 Million #IPhones in Debut Weekend - Bloomberg http://t.co/AVSl3ygU - #smartphone #sm RT @VinodRad\n"
     ]
    },
    {
     "name": "stdout",
     "output_type": "stream",
     "text": [
      "loving new technology from @apple iPhone 4s, mac air and iCloud are unreal #technology\n"
     ]
    },
    {
     "name": "stdout",
     "output_type": "stream",
     "text": [
      "I'm loving this new IOS5 update :) @apple\n"
     ]
    },
    {
     "name": "stdout",
     "output_type": "stream",
     "text": [
      "Another mention for Apple Store: http://t.co/fiIOApKt - RT @floridamike Once again getting great customer service from the @apple store ...\n"
     ]
    },
    {
     "name": "stdout",
     "output_type": "stream",
     "text": [
      "Time to go get my iPhone 4s.  Looking forward to sticking it to the man by no longer paying for most texts.  Thanks @apple.\n"
     ]
    },
    {
     "name": "stdout",
     "output_type": "stream",
     "text": [
      "Thank you @apple. My new gf(iphone4s) is great!  She does everything!\n"
     ]
    },
    {
     "name": "stdout",
     "output_type": "stream",
     "text": [
      "#iCloud set up was flawless and works like a champ! To the Cloud @Apple\n"
     ]
    },
    {
     "name": "stdout",
     "output_type": "stream",
     "text": [
      "@Wisconsin_Mommy @Apple I'd totally email the company... I always get great service at our @Apple store!\n"
     ]
    },
    {
     "name": "stdout",
     "output_type": "stream",
     "text": [
      "@apple loving the new IOS5 upgrade for the iPhone!\n"
     ]
    },
    {
     "name": "stdout",
     "output_type": "stream",
     "text": [
      "Once again getting great customer service from the @apple store at millenia mall.\n"
     ]
    },
    {
     "name": "stdout",
     "output_type": "stream",
     "text": [
      "Is it just me or is #iOS5 faster for the iPad? @apple\n"
     ]
    },
    {
     "name": "stdout",
     "output_type": "stream",
     "text": [
      "making the switch from @Android to @Apple #iphone #iphone4S #smartphone #stevejobs (@ Apple Store) http://t.co/kj6pJvkH\n"
     ]
    },
    {
     "name": "stdout",
     "output_type": "stream",
     "text": [
      "RT @cjwallace03: So apparently @apple put MB cap on your SMS with the new update. 25mb storage before it tells you your inbox is full. W ...\n"
     ]
    },
    {
     "name": "stdout",
     "output_type": "stream",
     "text": [
      "RT @Jewelz2611 @mashable @apple, iphones r 2 expensive. Most went w/ htc/galaxy. No customer loyalty w/phone comp..\n"
     ]
    },
    {
     "name": "stdout",
     "output_type": "stream",
     "text": [
      "@mashable @apple, iphones r 2 expensive. Most went w/ htc/galaxy. No customer loyalty w/phone comp..\n"
     ]
    },
    {
     "name": "stdout",
     "output_type": "stream",
     "text": [
      "@apple why my tunes no go on my iPhone? iPhone lonely without them. silly #iOS5\n"
     ]
    },
    {
     "name": "stdout",
     "output_type": "stream",
     "text": [
      "@apple needs to hurry up and release #iTunesMatch\n"
     ]
    },
    {
     "name": "stdout",
     "output_type": "stream",
     "text": [
      "Why is  #Siri always down @apple\n"
     ]
    },
    {
     "name": "stdout",
     "output_type": "stream",
     "text": [
      "I just need to exchange a cord at the apple store why do I have to wait for a genius? @apple\n"
     ]
    },
    {
     "name": "stdout",
     "output_type": "stream",
     "text": [
      "@apple AirDrop #fail - Immediate \"declined your request.\" every time\n"
     ]
    },
    {
     "name": "stdout",
     "output_type": "stream",
     "text": [
      "good article about why @apple fucked it all up with lion and their future. http://t.co/zNDP9Vr6 #fb\n"
     ]
    },
    {
     "name": "stdout",
     "output_type": "stream",
     "text": [
      "Yellowgate? Some iPhone 4S Users Complain of Yellow Tint to Screen http://t.co/uaqrxTNk @apple @iphone4s\n"
     ]
    },
    {
     "name": "stdout",
     "output_type": "stream",
     "text": [
      "The one #iphone feature still missing since @apple first showed it.. Contacts pictures on the contacts list! Simple yet 5 major updates miss\n"
     ]
    },
    {
     "name": "stdout",
     "output_type": "stream",
     "text": [
      "Asked siri is she dreams of electric sleep. Was disappointed that she didn't have a snippy answer.  Missed opportunity @apple\n"
     ]
    },
    {
     "name": "stdout",
     "output_type": "stream",
     "text": [
      "@paulens It surprises me that @Apple throws up an error alert about authorizing, and there's no \"Authorize this computer\" button.\n"
     ]
    },
    {
     "name": "stdout",
     "output_type": "stream",
     "text": [
      "FUCK YOU @apple DIE IN A FUCKING BLAZE INFERNO.\n"
     ]
    },
    {
     "name": "stdout",
     "output_type": "stream",
     "text": [
      "Oh, @apple. Steve obviously had nothing to do with iPhoto, as it's the perfect opposite of 'insanely great'. Get it fixed, please.\n"
     ]
    },
    {
     "name": "stdout",
     "output_type": "stream",
     "text": [
      "@ryanbaldwin @apple So in iTunes I go Store -&gt; Authorise… why doesn't it just auto-authorise it when I sign into iTunes? Grrrr...\n"
     ]
    },
    {
     "name": "stdout",
     "output_type": "stream",
     "text": [
      "Seriously - I have absolutely no offing clue what @Apple means by \"authorization\", nor how to do it.\n"
     ]
    },
    {
     "name": "stdout",
     "output_type": "stream",
     "text": [
      "Boy, could @apple make it any harder to put my purchased music from the cloud on to my new macbook pro? \"You must authorize this computer…\"\n"
     ]
    },
    {
     "name": "stdout",
     "output_type": "stream",
     "text": [
      "shit, shit, shit. IOS5 update ate all my apps, data and media just like @apple said it would. This is going to take some time to rebuild.\n"
     ]
    },
    {
     "name": "stdout",
     "output_type": "stream",
     "text": [
      ". @apple & @AT&T u cannot tell me there isn't at least 1 64GB iPhone 4S in LA or Vegas!! Give me a fucking break!!!!\n"
     ]
    },
    {
     "name": "stdout",
     "output_type": "stream",
     "text": [
      "Love @apple downloads. 4 hours and i-pad now wonky! #ripstevejobs #thenonsensepersists #neednewipadguide #fatfuckingchance\n"
     ]
    },
    {
     "name": "stdout",
     "output_type": "stream",
     "text": [
      "Dear @apple My new Air is now a notbook since your update killed #wifi #bug #destroying #productivity\n"
     ]
    },
    {
     "name": "stdout",
     "output_type": "stream",
     "text": [
      "I am so done with @Att and @apple 's profitering and lack of customer service, so fucking down with both!!!\n"
     ]
    },
    {
     "name": "stdout",
     "output_type": "stream",
     "text": [
      "It would be great If @Apple would send my new phone. #frustrated\n"
     ]
    },
    {
     "name": "stdout",
     "output_type": "stream",
     "text": [
      "@apple thank you for ruining my 3GS with #iOS5. You've just turned my phone into an utterly useless pile of shit.\n"
     ]
    },
    {
     "name": "stdout",
     "output_type": "stream",
     "text": [
      "@rogerweir no but I have the option of a  replacement iPhone 4s ?\nNot sure if I want one after having 2 duff iPhones.\n@O2 @iphone4s @apple\n"
     ]
    },
    {
     "name": "stdout",
     "output_type": "stream",
     "text": [
      "So apparently @apple put MB cap on your SMS with the new update. 25mb storage before it tells you your inbox is full. What is this 2001?\n"
     ]
    },
    {
     "name": "stdout",
     "output_type": "stream",
     "text": [
      "You know @apple It's been almost a week since I paid for iTunes Match, I would really like to use it. Any ETA on a fix?\n"
     ]
    },
    {
     "name": "stdout",
     "output_type": "stream",
     "text": [
      "So @PhoenixSwinger 's iPhone 4 is giving her a hella hard time w/ the iOS5 update @apple\n"
     ]
    },
    {
     "name": "stdout",
     "output_type": "stream",
     "text": [
      "@Apple can't send me an iPhone preordered 1hr after launching but they cans send 5 or 10 to all the jackasses who want to shoot or blend 'em\n"
     ]
    },
    {
     "name": "stdout",
     "output_type": "stream",
     "text": [
      "Gotta say the @Apple itouch iphone shuffle etc.. sound quality is AWFUL.. painfully crap. Its been a downgrade from @Sony sound quality wise\n"
     ]
    },
    {
     "name": "stdout",
     "output_type": "stream",
     "text": [
      "@bisquiat @Apple the upgrade just slows down my phone so much, it's stuck half the time. uch. thankfully no other damage. sucks for you :(\n"
     ]
    },
    {
     "name": "stdout",
     "output_type": "stream",
     "text": [
      "@Mayati I think @Apple didn't do such a thorough job with the step x steps for upgrade and move to iCloud. Now it's cost me mightily.\n"
     ]
    },
    {
     "name": "stdout",
     "output_type": "stream",
     "text": [
      "Hey @apple now I have iOS5 my iPhone doesn't include songs that are on compilation albums under the artist's name. #whaddupwitdat\n"
     ]
    },
    {
     "name": "stdout",
     "output_type": "stream",
     "text": [
      "@NickTheFNicon He can send but not rcve txts so he has an apt @apple at 4pm.Then he exclaims: And I waited a whole YEAR for this phone!!LMAO\n"
     ]
    },
    {
     "name": "stdout",
     "output_type": "stream",
     "text": [
      "Total chaos at @apple store regent street. Like an Ethiopian feeding station. Can't believe this is same co. that makes all that cool shit.\n"
     ]
    },
    {
     "name": "stdout",
     "output_type": "stream",
     "text": [
      "@FishMama: If you made a purchase, just wait for the @apple survey! hate going b/c of the bad #custserv\n"
     ]
    },
    {
     "name": "stdout",
     "output_type": "stream",
     "text": [
      "Correction: @ Best Buy kudos to Chris @ Alamo Ranch S.A. TX-fixed issues couldn't resolve after 1/2 day w/ @ATT & @Apple. Hero of my day!\n"
     ]
    },
    {
     "name": "stdout",
     "output_type": "stream",
     "text": [
      "@phxguy88 @Apple @BGR That's why all the ppl who stand in line for hrs to get the \"newest\" model are suckers...\n"
     ]
    },
    {
     "name": "stdout",
     "output_type": "stream",
     "text": [
      "Would it kill @apple to put a braille type bump on their earbuds so we know which bud is R and L in the dark.\n"
     ]
    },
    {
     "name": "stdout",
     "output_type": "stream",
     "text": [
      "@APPLE Wow @MOTOROLA Just crushed your dreams....\n"
     ]
    },
    {
     "name": "stdout",
     "output_type": "stream",
     "text": [
      "Time to play a game called wait at the @apple store forever because the tourists are taking forever with their genius appointments.\n"
     ]
    },
    {
     "name": "stdout",
     "output_type": "stream",
     "text": [
      "Oh, just fuck you, @apple. Already?? ---&gt;  iPhone 5 on schedule for summer launch? http://t.co/Ofh9PTaG via @BGR\n"
     ]
    },
    {
     "name": "stdout",
     "output_type": "stream",
     "text": [
      "@apple, \nNo, I won't wait until thursday for an available appointment just so a 'genius' can tell me I'm shit out of luck. #now\n"
     ]
    },
    {
     "name": "stdout",
     "output_type": "stream",
     "text": [
      "@Apple, on the #iPad with #iOS5, why has the Messages Icon been included when it can't be used?\n"
     ]
    },
    {
     "name": "stdout",
     "output_type": "stream",
     "text": [
      "@Steelo254 yea! I pre-order through @apple and they sorry too just like #AT&T\n"
     ]
    },
    {
     "name": "stdout",
     "output_type": "stream",
     "text": [
      "Interesting... @apple now requires you to have a reservation ?         #apple #iphone #4S    :  http://t.co/zZK4fTii\n"
     ]
    },
    {
     "name": "stdout",
     "output_type": "stream",
     "text": [
      "@apple why is my iPhone battery so crappy #fail\n"
     ]
    },
    {
     "name": "stdout",
     "output_type": "stream",
     "text": [
      "My @Apple @macbook keyboard will not type :(\n"
     ]
    },
    {
     "name": "stdout",
     "output_type": "stream",
     "text": [
      "Why doesn't @apple iCloud sync Stickies? They've always been around, just nothing every progressed w/ them!! Why apple why?  @gruber\nTraining Data Fetched\nTweetdata file open\nWrite complete to tweetdata file\nDone\n"
     ]
    }
   ],
   "source": [
    "# Fetching Limited Tweets\n",
    "\n",
    "import csv\n",
    "import time\n",
    "\n",
    "def createLimitedTrainingCorpus(corpusFile, tweetDataFile):\n",
    "    corpus = []\n",
    "    with open(corpusFile, 'rb') as csvfile:\n",
    "        print \"Reading Corpus File\"\n",
    "        linereader = csv.reader(csvfile, delimiter=',', quotechar=\"\\\"\")\n",
    "        for row in linereader:\n",
    "            corpus.append({\"tweet_id\": row[2], \"label\": row[1], \"topic\": row[0]})\n",
    "    \n",
    "    training_data = []\n",
    "    for label in ['positive', 'negative']:\n",
    "        # print label\n",
    "        i = 1\n",
    "        for tweet in corpus:\n",
    "            if tweet['label'] == label and i <= 50:\n",
    "                try:\n",
    "                    status = api.GetStatus(tweet[\"tweet_id\"])\n",
    "                    print status.text\n",
    "                    tweet[\"text\"] = status.text\n",
    "                    training_data.append(tweet)\n",
    "                    i = i + 1\n",
    "                except Exception, e:\n",
    "                    # print e\n",
    "                    # print \"*\"\n",
    "                    continue\n",
    "\n",
    "    print \"Training Data Fetched\"\n",
    "    with open(tweetDataFile, 'wb') as csvfile:\n",
    "        print \"Tweetdata file open\"\n",
    "        linewriter = csv.writer(csvfile, delimiter=',', quotechar=\"\\\"\")\n",
    "        for tweet in training_data:\n",
    "            #print tweet\n",
    "            #print ast.literal_eval(json.dumps(tweet))['tweet_id']\n",
    "            t = ast.literal_eval(json.dumps(tweet))\n",
    "            try:\n",
    "                linewriter.writerow([t['tweet_id'], t['text'], t['label'], t['topic']])\n",
    "            except Exception, e:\n",
    "                continue\n",
    "\n",
    "    print \"Write complete to tweetdata file\"\n",
    "    return training_data\n",
    "\n",
    "corpusFile = 'corpus.csv'\n",
    "tweetDataFile = 'tweetData.csv'\n",
    "\n",
    "trainingData = createLimitedTrainingCorpus(corpusFile, tweetDataFile)\n",
    "#print trainingData\n",
    "\n",
    "print \"Done\""
   ]
  },
  {
   "cell_type": "code",
   "execution_count": 153,
   "metadata": {},
   "outputs": [],
   "source": [
    ""
   ]
  },
  {
   "cell_type": "code",
   "execution_count": null,
   "metadata": {},
   "outputs": [],
   "source": [
    ""
   ]
  },
  {
   "cell_type": "code",
   "execution_count": null,
   "metadata": {},
   "outputs": [],
   "source": [
    ""
   ]
  },
  {
   "cell_type": "code",
   "execution_count": null,
   "metadata": {},
   "outputs": [],
   "source": [
    ""
   ]
  },
  {
   "cell_type": "code",
   "execution_count": null,
   "metadata": {},
   "outputs": [],
   "source": [
    ""
   ]
  }
 ],
 "metadata": {
  "kernelspec": {
   "display_name": "Python 2",
   "language": "python",
   "name": "python2"
  },
  "language_info": {
   "codemirror_mode": {
    "name": "ipython",
    "version": 2.0
   },
   "file_extension": ".py",
   "mimetype": "text/x-python",
   "name": "python",
   "nbconvert_exporter": "python",
   "pygments_lexer": "ipython2",
   "version": "2.7.6"
  }
 },
 "nbformat": 4,
 "nbformat_minor": 0
}