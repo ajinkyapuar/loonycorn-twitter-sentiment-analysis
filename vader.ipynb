{
 "cells": [
  {
   "cell_type": "code",
   "execution_count": 25,
   "metadata": {
    "collapsed": false
   },
   "outputs": [],
   "source": [
    "import nltk\n",
    "from nltk.sentiment import vader"
   ]
  },
  {
   "cell_type": "code",
   "execution_count": 23,
   "metadata": {},
   "outputs": [],
   "source": [
    "sent = \"I normally hate Michael Bay films, but I liked this one!\""
   ]
  },
  {
   "cell_type": "code",
   "execution_count": 35,
   "metadata": {},
   "outputs": [],
   "source": [
    "sia = vader.SentimentIntensityAnalyzer()"
   ]
  },
  {
   "cell_type": "code",
   "execution_count": 36,
   "metadata": {},
   "outputs": [
    {
     "data": {
      "text/plain": [
       "{'compound': 0.3903, 'neg': 0.176, 'neu': 0.525, 'pos': 0.299}"
      ]
     },
     "execution_count": 36,
     "metadata": {},
     "output_type": "execute_result"
    }
   ],
   "source": [
    "sia.polarity_scores(sent)"
   ]
  },
  {
   "cell_type": "code",
   "execution_count": 37,
   "metadata": {},
   "outputs": [
    {
     "data": {
      "text/plain": [
       "{u'aggression': -1.2,\n u'infuriates': -2.6,\n u'granting': 1.3,\n u'scold': -1.7,\n u'xtc': 0.8,\n u'hacked': -1.7,\n u'whines': -1.8,\n u'stabbed': -1.9,\n u'screaming': -1.6,\n u'worshiper': 1.0,\n u'wisecrackers': 0.1,\n u'disturb': -1.7,\n u'prize': 2.3,\n u'apprehensible': 1.1,\n u'virtuosos': 1.8,\n u'bitchier': -2.0,\n u'succession': 0.8,\n u'bittersweetness': -0.6,\n u'apprehensibly': -0.2,\n u'tired': -1.9,\n u'complainers': -1.3,\n u'elegant': 2.1,\n u'advantaged': 1.4,\n u'jokesters': 0.9,\n u'resignations': -1.2,\n u'loathing': -2.7,\n u'errors': -1.4,\n u'relieving': 1.5,\n u'jocular': 1.2,\n u'bonuses': 2.6,\n u'lowliness': -1.1,\n u'admiral': 1.3,\n u'cherishers': 1.9,\n u'shocks': -1.6,\n u'hero': 2.6,\n u'avert': -0.7,\n u'&:': -0.7,\n u'interrupting': -1.2,\n u'prblms': -2.3,\n u':^*': 2.6,\n u'virtuoso': 2.0,\n u'dork': -1.4,\n u'oversells': 0.3,\n u'revengefully': -1.4,\n u'deferring': -0.7,\n u'oxymoron': -0.5,\n u'unwanted': -0.9,\n u'criticism': -1.9,\n u'attractor': 1.2,\n u'disheartens': -2.2,\n u'criticise': -1.9,\n u'outraging': -2.0,\n u'guiltlessly': 0.7,\n u'beneficiaries': 1.8,\n u'dearie': 2.2,\n u'txs': 1.1,\n u'faultfinder': -0.8,\n u'cherishing': 2.0,\n u'cheating': -2.6,\n u'laughters': 2.2,\n u'insecurity': -1.8,\n u'strike': -0.5,\n u'worrywarts': -1.5,\n u'relax': 1.9,\n u'successful': 2.8,\n u'botherations': -1.3,\n u'hurt': -2.4,\n u'menaced': -1.7,\n u'grimed': -1.2,\n u'battlefront': -1.2,\n u'grimes': -1.0,\n u'boldfaces': 0.1,\n u'devastations': -1.9,\n u'irrationalist': -2.1,\n u'unjust': -2.3,\n u'bitterest': -2.3,\n u'attractants': 1.4,\n u'darlingness': 2.3,\n u'stupidities': -2.0,\n u'dishearteningly': -2.0,\n u'want': 0.3,\n u'boldfaced': -0.1,\n u'cocksucker': -3.1,\n u'heroizing': 1.9,\n u'amazonstone': 1.0,\n u'dignifies': 2.0,\n u'damage': -2.2,\n u'comedians': 1.2,\n u'hesitatingly': -1.5,\n u'(;<': 0.3,\n u'significance': 1.1,\n u'dignified': 2.2,\n u'uselessness': -1.6,\n u'beauty': 2.8,\n u'aches': -1.0,\n u'brutalize': -2.9,\n u'beauts': 1.7,\n u'despondent': -2.1,\n u'wrong': -2.1,\n u'sentencing': -0.6,\n u'effective': 2.1,\n u'wins': 2.7,\n u'attracts': 1.7,\n u'lousier': -2.2,\n u'sickening': -2.4,\n u'restriction': -1.1,\n u'tranquilizing': -0.5,\n u'welcomed': 1.4,\n u'rewarder': 1.6,\n u'rewarded': 2.2,\n u'welcomer': 1.4,\n u'welcomes': 1.7,\n u'admirably': 2.5,\n u'lovingly': 3.2,\n u'fit': 1.5,\n u'charmers': 2.1,\n u'intelligentsia': 1.5,\n u'admirable': 2.6,\n u'easier': 1.8,\n u'glorify': 2.7,\n u'grievous': -2.0,\n u'ached': -1.6,\n u'angerly': -1.9,\n u'mongering': -0.8,\n u'beaut': 1.6,\n u'interrupt': -1.4,\n u'saddened': -2.4,\n u'exhaustible': -1.0,\n u'troublous': -2.1,\n u'pleasantries': 1.3,\n u'dumps': -1.7,\n u'dumpy': -1.7,\n u'loyalties': 1.9,\n u'weirdos': -1.1,\n u'honorers': 1.3,\n u'contradictories': -0.5,\n u'tragicomic': -0.2,\n u'tricked': -0.6,\n u'touts': -0.1,\n u'scrumptiously': 1.5,\n u'neatening': 1.3,\n u'encourage': 2.3,\n u'smh': -1.3,\n u'tricksy': -0.8,\n u'assured': 1.5,\n u'threatened': -2.0,\n u'assurer': 0.9,\n u'assures': 1.3,\n u'redeemed': 1.3,\n u'threatener': -1.4,\n u'romanticists': 1.3,\n u'adversatives': -1.0,\n u'disturber': -1.4,\n u'sickeningly': -2.1,\n u'disturbed': -1.6,\n u'ineffectively': -1.3,\n u'exhausters': -1.3,\n u'popularise': 1.6,\n u'naggy': -1.7,\n u'worriers': -1.7,\n u'playfully': 1.6,\n u'kfy': 2.3,\n u'clarity': 1.7,\n u'whorehouse': -1.1,\n u'lawsuits': -0.6,\n u'engagement': 2.0,\n u'touting': -0.7,\n u'grossness': -1.8,\n u'livelihoods': 0.9,\n u'bitter': -1.8,\n u'terrifying': -2.7,\n u'/^:': -1.0,\n u'rewards': 2.1,\n u'collapse': -2.2,\n u'splendiferous': 2.6,\n u'wisdom': 2.4,\n u'goddamns': -2.1,\n u'freemen': 1.5,\n u'positively': 2.4,\n u'surer': 1.2,\n u'peril': -1.7,\n u'rewardingly': 2.4,\n u'coward': -2.0,\n u'freesias': 0.4,\n u'feeling': 0.5,\n u'screwup': -1.7,\n u'seduced': -1.5,\n u'willingness': 1.1,\n u'shyly': -0.7,\n u'disillusionments': -1.5,\n u'antagonistic': -1.7,\n u'responsible': 1.3,\n u'nagged': -1.7,\n u'eagerly': 1.6,\n u'relaxations': 1.0,\n u'recommended': 0.8,\n u'amusing': 1.6,\n u'nagger': -1.8,\n u'uncontrollability': -1.7,\n u'welly': 0.2,\n u'committing': 0.3,\n u'thrilled': 1.9,\n u'vexing': -2.0,\n u'debonair': 0.8,\n u'disjointed': -1.3,\n u'tensely': -1.2,\n u'confrontationist': -1.0,\n u'sulking': -1.5,\n u'thriller': 0.4,\n u'traumatizations': -2.2,\n u'promiscuously': -1.5,\n u'scream': -1.7,\n u'melancholics': -1.0,\n u'marvel': 1.8,\n u'treasuries': 0.9,\n u'prizers': 0.8,\n u'bomb': -2.2,\n u'fumers': -0.8,\n u'>.<': -1.3,\n u'shamefacedly': -1.9,\n u'worrywart': -1.8,\n u'abandonments': -1.7,\n u'warmongering': -2.5,\n u'confrontationists': -1.2,\n u'assaultive': -2.8,\n u'bliss': 2.7,\n u'rich': 2.6,\n u'foolishly': -1.8,\n u'insulters': -2.0,\n u'irritably': -1.8,\n u'sillibub': -0.1,\n u'champaign': 0.2,\n u'stammered': -0.9,\n u'palatableness': 0.8,\n u'denounce': -1.4,\n u'terrors': -2.6,\n u'terrorising': -3.0,\n u'stammerer': -1.1,\n u'unfortunately': -1.4,\n u'battlewagons': -0.5,\n u'*\\\\0/*': 2.3,\n u'friending': 1.8,\n u'mandatory': 0.3,\n u'disaster': -3.1,\n u'fair': 1.3,\n u'resigner': -1.2,\n u'immoralist': -2.1,\n u'magnificoes': 1.4,\n u'freewheelers': -0.3,\n u'immoralism': -1.6,\n u'fail': -2.5,\n u'resigned': -1.0,\n u'best': 3.2,\n u'clarifies': 0.9,\n u'woesome': -1.2,\n u'stealths': -0.3,\n u'playfulness': 1.2,\n u'pressured': -0.9,\n u'shittier': -2.1,\n u'stealthy': -0.1,\n u'pressures': -1.3,\n u'inspiringly': 2.6,\n u'scorn': -1.7,\n u'blesseder': 2.0,\n u'indecisive': -1.0,\n u'screwball': -0.2,\n u'extend': 0.7,\n u'invigorated': 0.8,\n u'weirdly': -1.2,\n u'wtf': -2.8,\n u'poisoning': -2.8,\n u'wth': -2.4,\n u'debt': -1.5,\n u'invigorates': 2.1,\n u'pity': -1.2,\n u'dazedly': -0.4,\n u'accident': -2.1,\n u'trickster': -0.9,\n u'disdain': -2.1,\n u'adventurer': 1.2,\n u'adventures': 1.4,\n u'demanded': -0.9,\n u'pita': -2.4,\n u'adventured': 1.3,\n u'argue': -1.4,\n u'fearlessly': 1.1,\n u'timider': -1.0,\n u'j/p': 1.4,\n u'bitterweeds': -0.5,\n u'honouring': 2.1,\n u'irresponsible': -1.9,\n u'trickiest': -1.2,\n u'unprotected': -1.5,\n u'threating': -2.0,\n u'startles': -0.5,\n u'startler': -0.8,\n u'trivialities': -1.0,\n u'parley': -0.4,\n u'doomsaying': -1.5,\n u'criticised': -1.8,\n u'dignities': 1.4,\n u'bothers': -0.8,\n u'startled': -0.7,\n u'destructible': -1.5,\n u'privilege': 1.5,\n u'criticises': -1.3,\n u'jackass': -1.8,\n u'reeked': -2.0,\n u'incompetent': -2.1,\n u'freehold': 0.7,\n u'wish': 1.7,\n u'doubts': -1.2,\n u\"(':\": 2.3,\n u'haters': -2.2,\n u'cunt': -2.2,\n u'lowboys': -0.6,\n u'tranquillizer': -0.1,\n u'congratulation': 2.9,\n u'played': 1.4,\n u'truster': 1.9,\n u'delicatessen': 0.4,\n u'weirdness': -0.9,\n u'riskinesses': -1.6,\n u'doomsayer': -0.7,\n u'trusted': 2.1,\n u'trustee': 1.0,\n u'damaged': -1.9,\n u'tranquillized': -0.2,\n u'freebased': 0.8,\n u'rebellion': -0.5,\n u'killdeer': -1.1,\n u'killdees': -0.6,\n u'feuding': -1.6,\n u'damager': -1.9,\n u'harmony': 1.7,\n u'freebases': 0.8,\n u'prickers': -0.2,\n u'freeness': 1.6,\n u'honesties': 1.8,\n u'tops': 2.3,\n u'consents': 1.0,\n u'confusedly': -0.6,\n u'suffering': -2.1,\n u'lonelier': -1.4,\n u'benignity': 1.3,\n u':c)': 2.0,\n u'disguise': -1.0,\n u'divination': 1.7,\n u'amusingly': 0.8,\n u'hak': 1.9,\n u'feudality': -0.5,\n u'ease': 1.5,\n u'innocent': 1.4,\n u'prison': -2.3,\n u'preciously': 2.2,\n u'snobbisms': -0.3,\n u'casually': 0.7,\n u'disagreement': -1.5,\n u'imposed': -0.3,\n u'riskiness': -1.3,\n u'harmoniously': 1.9,\n u'immorally': -2.1,\n u'festivities': 2.1,\n u'tenderloins': 0.4,\n u'divinations': 1.1,\n u'pressurizing': -0.2,\n u'battlefield': -1.6,\n u'beneficial': 1.9,\n u'virtuosas': 1.8,\n u'amoralisms': -0.7,\n u'warring': -1.9,\n u'stealthily': 0.1,\n u'harassment': -2.5,\n u'dynamitic': 0.9,\n u'enemies': -2.2,\n u'brightwork': 1.1,\n u'creative': 1.9,\n u'repression': -1.6,\n u'foe': -1.9,\n u'disheartened': -2.2,\n u'pollutes': -2.2,\n u'polluter': -1.8,\n u'palatable': 1.6,\n u'ungratefulness': -1.6,\n u'defensive': 0.1,\n u'mediocrity': -0.3,\n u'losing': -1.6,\n u'palatably': 1.1,\n u'shaken': -0.3,\n u'boycotts': -1.4,\n u'restlessness': -1.2,\n u'derailed': -1.4,\n u'grievously': -1.7,\n u'cheeriest': 2.2,\n u'excitons': 0.8,\n u'freehearted': 1.5,\n u'despair': -1.3,\n u'disqualified': -1.8,\n u'sob': -1.0,\n u'creatin': 0.1,\n u'kissy': 1.8,\n u'respectably': 1.7,\n u'flirtiest': 0.4,\n u'respectable': 1.9,\n u'problematical': -1.8,\n u'partying': 1.6,\n u'weirdie': -1.3,\n u'despised': -1.7,\n u'obsessives': -0.7,\n u'support': 1.7,\n u'raped': -3.6,\n u'despises': -2.0,\n u'despiser': -1.8,\n u'rapes': -3.5,\n u'raper': -3.4,\n u'happy': 2.7,\n u'underestimated': -1.1,\n u'fascination': 2.2,\n u'unloved': -1.9,\n u'talents': 2.0,\n u'underestimates': -1.1,\n u'safeguard': 1.6,\n u'enjoyers': 2.2,\n u'congratulations': 2.9,\n u'silliness': -0.9,\n u'interruptor': -1.3,\n u'flirtatiously': -0.1,\n u'lonelinesses': -1.5,\n u'(-;|': 2.1,\n u'evilest': -2.5,\n u'doomsters': -1.6,\n u'benignancy': 0.6,\n u'suspiciousness': -1.2,\n u'looms': -0.6,\n u'disgrace': -2.2,\n u'petrification': -0.1,\n u'leet': 1.3,\n u'protested': -0.5,\n u'heartbreakingly': -1.8,\n u'lylas': 2.6,\n u'affectional': 1.9,\n u'teaselers': -1.2,\n u'ambitious': 2.1,\n u'lylab': 2.7,\n u'strongyloidosis': -0.8,\n u'assfucking': -2.5,\n u'idealizers': 1.9,\n u'unmatched': -0.3,\n u'wiseliest': 1.6,\n u'virtuousness': 2.0,\n u'lowdown': -0.8,\n u'warm': 0.9,\n u'troublemaking': -1.8,\n u'enviers': -1.1,\n u':/': -1.4,\n u':(': -1.9,\n u':)': 2.0,\n u':*': 2.5,\n u':$': -0.2,\n u':&': -0.6,\n u':<': -2.1,\n u':>': 2.1,\n u':3': 2.3,\n u'freelance': 1.2,\n u'obsessively': -0.4,\n u'freehanded': 1.4,\n u'retreat': 0.8,\n u':l': -1.7,\n u'fatigues': -1.3,\n u':o': -0.4,\n u'jerk': -1.4,\n u'gloriole': 1.5,\n u':d': 2.3,\n u':c': -2.1,\n u':|': -0.4,\n u':}': 2.1,\n u'gloomy': -0.6,\n u'mourn': -1.8,\n u'fatigued': -1.4,\n u':{': -1.9,\n u'glooms': -0.9,\n u':p': 1.4,\n u'w00t': 2.2,\n u':s': -1.2,\n u'solves': 1.1,\n u':D': 2.3,\n u'teas': 0.3,\n u':@': -2.5,\n u':\\\\': -1.3,\n u':]': 2.2,\n u':[': -2.0,\n u'melancholies': -1.1,\n u'unaware': -0.8,\n u'prevent': 0.1,\n u'easefully': 1.4,\n u'insignificant': -1.4,\n u'sigh': 0.1,\n u'comedically': 2.1,\n u'adorns': 0.5,\n u'O.o': -0.6,\n u'impressments': 0.5,\n u'loneness': -1.1,\n u'jeopardy': -2.1,\n u'celebrated': 2.7,\n u'torturously': -2.2,\n u'freaks': -0.4,\n u'falling': -0.6,\n u'freaky': -1.5,\n u'honour': 2.7,\n u'funeral': -1.5,\n u'persecutes': -1.2,\n u'woot': 1.8,\n u'alone': -1.0,\n u'persecuted': -1.3,\n u'molestation': -1.9,\n u'hurtling': -1.4,\n u'accomplishes': 1.7,\n u'brilliant': 2.8,\n u'ruderals': -0.4,\n u'tranquillities': 0.5,\n u'benevolentness': 1.2,\n u':\\xde': 1.1,\n u'ineffective': -0.5,\n u'assurgent': 1.3,\n u'love': 3.2,\n u'rigidifications': -0.8,\n u'bloody': -1.9,\n u'marvelous': 2.9,\n u'heartbreaks': -1.8,\n u'betraying': -2.5,\n u'heronry': 0.1,\n u'fake': -2.1,\n u'blessers': 1.9,\n u'grimmest': -0.8,\n u'cherisher': 2.2,\n u'cherishes': 2.2,\n u'homesick': -0.7,\n u'positive': 2.6,\n u'angry': -2.3,\n u'cherished': 2.3,\n u'perversenesses': -0.5,\n u'vigoroso': 1.5,\n u'loving': 2.9,\n u'conciliating': 1.3,\n u'hurters': -1.9,\n u'divinest': 2.7,\n u'dumbwaiter': 0.2,\n u'ignorant': -1.1,\n u'degrade': -1.9,\n u'easiest': 1.8,\n u'bastardises': -2.3,\n u'lowercase': 0.3,\n u'valued': 1.9,\n u'pretend': -0.4,\n u'fatalistic': -1.0,\n u'inflamed': -1.4,\n u'harmonious': 2.0,\n u'teaselled': -0.4,\n u'detached': -0.5,\n u'braveries': 2.0,\n u'admired': 2.3,\n u'romanticise': 1.7,\n u'muah': 2.3,\n u'awesome': 3.1,\n u'romanticism': 2.2,\n u'romanticist': 1.9,\n u'admires': 1.5,\n u'admirer': 1.8,\n u'offense': -1.0,\n u's:': -1.1,\n u'dooms': -1.1,\n u'grosser': -0.3,\n u'irrationalism': -1.5,\n u'immune': 1.2,\n u'grossed': -0.4,\n u'optimal': 1.5,\n u'lamellibranch': 0.2,\n u'teaspoonsful': 0.3,\n u'atab': -1.9,\n u'ignorers': -0.7,\n u'convincingly': 1.6,\n u'improving': 1.8,\n u'suck': -1.9,\n u'acceptances': 1.7,\n u'screwlike': 0.1,\n u'murderess': -2.2,\n u'egotistical': -0.9,\n u'disagreeable': -1.7,\n u'stress': -1.8,\n u'natural': 1.5,\n u'unloveliness': -2.0,\n u'freestylers': 0.8,\n u'rejectees': -1.8,\n u'complaining': -0.8,\n u'wiseguys': 0.3,\n u'disagreeably': -1.5,\n u'devilfish': -0.8,\n u'unacceptable': -2.0,\n u'unsurely': -1.3,\n u'bastardize': -2.4,\n u'horrify': -2.5,\n u'boreal': -0.3,\n u'lovelies': 2.2,\n u'thoughtfulness': 1.9,\n u'avid': 1.2,\n u'torn': -1.0,\n u'troubles': -2.0,\n u'stupidity': -1.9,\n u'attraction': 2.0,\n u'rapists': -3.3,\n u'creations': 1.6,\n u'suspicion': -1.6,\n u'numbles': 0.4,\n u'troubled': -2.0,\n u'smarter': 2.0,\n u'victimology': 0.3,\n u'bashful': -0.1,\n u'verdicts': 0.3,\n u'courageously': 2.3,\n u'smartens': 1.5,\n u'singleminded': 1.2,\n u'compelled': 0.2,\n u'awaited': -0.1,\n u'isolations': -0.5,\n u'smarted': 0.7,\n u'appreciatively': 1.8,\n u'engagers': 1.0,\n u'romanticisms': 2.1,\n u'battleships': -0.5,\n u'vitalizations': 0.8,\n u'afu': -2.9,\n u'stalling': -0.8,\n u'vitalises': 1.1,\n u'beloved': 2.3,\n u'vitalised': 0.6,\n u'disasters': -2.6,\n u'giddy': -0.6,\n u\":'(\": -2.2,\n u'jokes': 1.0,\n u'(?:': 2.1,\n u'lowlife': -1.5,\n u'collisions': -1.1,\n u'seriously': -0.7,\n u'trauma': -1.8,\n u'timidness': -1.0,\n u'superiors': 1.0,\n u'complimented': 1.8,\n u'trickishly': -0.7,\n u'dumbfound': -0.1,\n u'uncertainties': -1.4,\n u'ignorantness': -1.1,\n u'incentives': 1.3,\n u'vicious': -1.5,\n u'disrespect': -1.8,\n u'\\\\-:': -1.0,\n u'crazier': -0.1,\n u'glorioles': 1.2,\n u'heroize': 2.1,\n u'disguised': -1.1,\n u'collapsing': -1.2,\n u'spam': -1.5,\n u'disguises': -1.0,\n u'distrustfully': -1.8,\n u'aboard': 0.1,\n u'bothersome': -1.3,\n u'worshipfulness': 1.6,\n u'neglect': -2.0,\n u'insecurely': -1.4,\n u'punishable': -1.9,\n u'securitizing': 0.7,\n u'appreciations': 1.7,\n u'oversimplifies': 0.1,\n u'fantasticality': 1.7,\n u'encourages': 1.9,\n u'stifled': -1.4,\n u'slashes': -0.8,\n u'ridiculous': -1.5,\n u'slashed': -0.9,\n u'fooled': -1.6,\n u'..###:': -1.9,\n u'depressed': -2.3,\n u'favors': 1.0,\n u'stammer': -0.9,\n u'gg': 1.2,\n u'screwworm': -0.4,\n u'damned': -1.6,\n u'lamentableness': -1.3,\n u'depresses': -2.2,\n u'prospect': 1.2,\n u'illness': -1.7,\n u'eviler': -2.1,\n u'nicer': 1.9,\n u'supremacist': 0.5,\n u'argument': -1.5,\n u'jewels': 2.0,\n u'sad': -2.1,\n u'splendiferousness': 1.7,\n u'crudeness': -2.0,\n u'lurking': -0.5,\n u'inhibiting': -0.4,\n u'suprematists': 0.4,\n u'peacekeeping': 2.0,\n u'destroy': -2.5,\n u'creditably': 1.7,\n u'horridly': -1.4,\n u'creditable': 1.8,\n u'lawl': 1.4,\n u'energize': 2.1,\n u'crazyweed': 0.8,\n u'trembles': -0.1,\n u'trembler': -0.6,\n u'defeating': -1.6,\n u'delighting': 1.6,\n u'guiltily': -1.1,\n u'enjoyableness': 1.9,\n u'fascinated': 2.1,\n u'opportunist': 0.2,\n u'infuriate': -2.2,\n u'merit': 1.8,\n u'opportunism': 0.4,\n u'bright': 1.9,\n u'aggressive': -0.6,\n u'weapons': -1.9,\n u'amusable': 0.7,\n u'unkind': -1.6,\n u'neats': 1.1,\n u'trickiness': -1.2,\n u'robs': -2.0,\n u'tranquillest': 0.8,\n u'relaxes': 1.5,\n u'tears': -0.9,\n u'ntmu': 1.4,\n u'outrage': -2.3,\n u'neath': 0.2,\n u'dispute': -1.7,\n u'rejoiced': 2.0,\n u'resenting': -1.2,\n u'freezing': -0.4,\n u'rejoices': 2.1,\n u'lowse': -0.7,\n u'dynamometers': 0.3,\n u'maniacal': -0.3,\n u'keenly': 1.0,\n u'devilishness': -2.3,\n u'worried': -1.2,\n u'overreaction': -0.7,\n u'assurors': 0.7,\n u'worries': -1.8,\n u'worrier': -1.8,\n u'disparage': -2.0,\n u'cheerlead': 1.7,\n u'vision': 1.0,\n u'raged': -2.0,\n u'ragee': -0.4,\n u'gracility': 1.2,\n u'interruptible': -1.3,\n u'triumphalist': 0.5,\n u'impressions': 0.9,\n u'shynesses': -1.2,\n u'lowballing': -0.7,\n u'rages': -2.1,\n u'defensively': -0.6,\n u'humorists': 1.3,\n u'enlightening': 2.3,\n u'alarming': -0.5,\n u'wickedness': -2.1,\n u'victimised': -1.5,\n u'mope': -1.9,\n u'enjoys': 2.3,\n u'pitiless': -1.8,\n u'amort': -2.1,\n u'friended': 1.7,\n u'splendors': 2.0,\n u'gratefully': 2.1,\n u'ywia': 2.5,\n u'jovial': 1.9,\n u'awards': 2.0,\n u'wickedly': -2.1,\n u'spark': 0.9,\n u'jaunty': 1.2,\n u'undermine': -1.2,\n u'deliciously': 1.9,\n u'bwahaha': 0.4,\n u'yeees': 1.7,\n u'nurturers': 0.8,\n u'anti': -1.3,\n u'panics': -1.9,\n u'caring': 2.2,\n u'ruinations': -1.6,\n u'collides': -1.1,\n u'brainwashing': -1.5,\n u'harmonics': 1.5,\n u'sentimentalised': 0.8,\n u'[-;': 0.5,\n u'wilco': 0.9,\n u'colluding': -1.2,\n u'amoralism': -0.7,\n u'lowercased': -0.2,\n u'defeatism': -1.3,\n u'weaken': -1.8,\n u'stupidest': -2.4,\n u'wiseacres': -0.1,\n u'victimhoods': -0.9,\n u'engaged': 1.7,\n u'dubious': -1.5,\n u'delightedness': 2.1,\n u'blah': -0.4,\n u'blam': -0.2,\n u'depressors': -1.7,\n u'graceful': 2.0,\n u'engager': 1.1,\n u'engages': 1.0,\n u'fame': 1.9,\n u'fooleries': -1.8,\n u'misericorde': 0.1,\n u'threatens': -1.6,\n u'helpfully': 2.3,\n u'adventuristic': 1.7,\n u'underestimate': -1.2,\n u'freeboards': 0.7,\n u'trivially': 0.4,\n u'boosted': 1.5,\n u'rotflmao': 2.8,\n u'cheers': 2.1,\n u'cheery': 2.6,\n u'aggressed': -1.4,\n u'peculiarities': 0.1,\n u'blessedness': 1.6,\n u'aggresses': -0.5,\n u'hurrayed': 1.8,\n u'morons': -1.3,\n u'welldoer': 2.5,\n u'agitative': -1.3,\n u'robing': -1.5,\n u'exaggerating': -0.7,\n u'safeguards': 1.4,\n u'deceiving': -1.4,\n u'boreholes': -0.2,\n u'alarmism': -0.3,\n u'joyful': 2.9,\n u'(:': 2.2,\n u'(;': 1.1,\n u'defection': -1.4,\n u'(=': 2.2,\n u'lowing': -0.5,\n u'(*': 1.1,\n u'awol': -1.3,\n u'inferiors': -0.5,\n u'boycotted': -1.7,\n u'vague': -0.4,\n u'bravery': 2.2,\n u'(%': -0.9,\n u'impressibility': 1.2,\n u'discarded': -1.4,\n u'superiority': 1.4,\n u'glamor': 2.1,\n u'offenders': -1.5,\n u'faultiest': -2.1,\n u'pushy': -1.1,\n u'poisonwood': -1.0,\n u';d': 0.8,\n u'diving': 0.3,\n u'divine': 2.6,\n u'scandals': -2.2,\n u'revenger': -2.1,\n u'revenges': -1.9,\n u'noob': -0.2,\n u'bastardies': -1.8,\n u'tragicomedy': 0.2,\n u'revenged': -0.9,\n u'stenchful': -2.4,\n u';D': 0.8,\n u'restoring': 1.2,\n u'unsuccessfully': -1.7,\n u'destroys': -2.6,\n u'biased': -1.1,\n u'exultantly': 1.4,\n u'freeloaded': -1.6,\n u'disparaging': -2.2,\n u'punishes': -2.1,\n u'compassionated': 1.6,\n u'freeloader': -0.7,\n u';)': 0.9,\n u'punishments': -1.8,\n u'amorphousness': 0.3,\n u'joyfully': 2.5,\n u'favorite': 2.0,\n u'champagnes': 0.5,\n u'tumor': -1.6,\n u'frights': -1.1,\n u'masterpieces': 2.5,\n u'nastily': -1.9,\n u'partied': 1.4,\n u'perturbed': -1.4,\n u'smilaxes': 0.3,\n u'pathetical': -1.2,\n u'dynamisms': 1.2,\n u'freaked': -1.2,\n u'lively': 1.9,\n u'partier': 1.4,\n u'parties': 1.7,\n u'jerks': -1.1,\n u'trivialises': -1.1,\n u'woes': -1.9,\n u'reinvigorated': 1.9,\n u'innovates': 2.0,\n u'betrays': -2.5,\n u'reinvigorates': 1.8,\n u'mindless': -1.9,\n u'futile': -1.9,\n u'heh': -0.6,\n u'recommends': 0.9,\n u'mourns': -2.4,\n u'worsened': -1.9,\n u'longings': 0.4,\n u'traumata': -1.7,\n u'irrationals': -1.1,\n u'fascists': -0.8,\n u'handsome': 2.2,\n u'abused': -2.3,\n u'rage': -2.6,\n u'exhaustion': -1.5,\n u'abuser': -2.6,\n u'abuses': -2.6,\n u'flatteringly': 1.0,\n u'agree': 1.5,\n u'trembly': -1.2,\n u'woebegoneness': -1.1,\n u'fright': -1.6,\n u'invigorating': 2.1,\n u'exhausted': -1.5,\n u'certain': 1.1,\n u'tranquil': 0.2,\n u'appalling': -1.5,\n u'tremble': -1.1,\n u'punishability': -1.6,\n u'ideally': 1.8,\n u'<:-|': -1.4,\n u'whiners': -0.6,\n u'damnably': -1.7,\n u'damnable': -1.7,\n u'joyriders': 1.3,\n u'amuser': 1.1,\n u'apprehensiveness': -0.7,\n u'tricky': -0.6,\n u'nagana': -1.7,\n u'prizefights': 0.3,\n u'sobbing': -1.6,\n u'tricks': -0.5,\n u'numbest': -1.0,\n u'fraudulent': -2.2,\n u'restricted': -1.6,\n u'sin': -2.6,\n u'original': 1.3,\n u'discards': -1.0,\n u'friendless': -1.5,\n u'tx': 1.5,\n u'ty': 1.6,\n u'spirit': 0.7,\n u'riots': -2.3,\n u'murderousness': -2.9,\n u'smile': 1.5,\n u'assuror': 0.5,\n u'puzzled': -0.7,\n u'detention': -1.5,\n u'crestfallen': -2.5,\n u'freebee': 1.3,\n u'criticizable': -1.0,\n u'rotfl': 2.6,\n u'misinformation': -1.3,\n u'feudatory': -0.1,\n u'pesky': -1.2,\n u'son-of-a-bitch': -2.7,\n u'intelligibility': 1.5,\n u'methodical': 0.6,\n u'rebelliousness': -1.2,\n u'honourable': 2.1,\n u'toughy': -0.5,\n u'comedown': -0.8,\n u'disruptions': -1.4,\n u'poisonous': -2.7,\n u'fucks': -2.1,\n u'excitatory': 1.1,\n u'undecided': -0.9,\n u'dwells': -0.1,\n u'escaping': 0.2,\n u'heroicomic': 1.0,\n u'indecision': -0.8,\n u'dorks': -0.5,\n u'melancholic': -0.3,\n u'aggressing': -0.6,\n u'melancholia': -0.5,\n u'relaxedly': 1.5,\n u'dehumanizes': -1.5,\n u'brutal': -3.1,\n u'defectors': -1.3,\n u'murdering': -3.3,\n u'moronity': -1.1,\n u'sweetness': 2.2,\n u'dehumanized': -1.9,\n ...}"
      ]
     },
     "execution_count": 37,
     "metadata": {},
     "output_type": "execute_result"
    }
   ],
   "source": [
    "sia.make_lex_dict()"
   ]
  },
  {
   "cell_type": "code",
   "execution_count": 38,
   "metadata": {},
   "outputs": [],
   "source": [
    "def polarity(sentence):\n",
    "    sia = vader.SentimentIntensityAnalyzer()\n",
    "    return sia.polarity_scores(sentence)"
   ]
  },
  {
   "cell_type": "code",
   "execution_count": 39,
   "metadata": {},
   "outputs": [
    {
     "data": {
      "text/plain": [
       "{'compound': 0.3903, 'neg': 0.176, 'neu': 0.525, 'pos': 0.299}"
      ]
     },
     "execution_count": 39,
     "metadata": {},
     "output_type": "execute_result"
    }
   ],
   "source": [
    "polarity(sent)"
   ]
  },
  {
   "cell_type": "code",
   "execution_count": 40,
   "metadata": {},
   "outputs": [
    {
     "data": {
      "text/plain": [
       "{'compound': 0.4404, 'neg': 0.0, 'neu': 0.508, 'pos': 0.492}"
      ]
     },
     "execution_count": 40,
     "metadata": {},
     "output_type": "execute_result"
    }
   ],
   "source": [
    "polarity(\"The book was good\")"
   ]
  },
  {
   "cell_type": "code",
   "execution_count": 41,
   "metadata": {},
   "outputs": [
    {
     "data": {
      "text/plain": [
       "{'compound': 0.5622, 'neg': 0.0, 'neu': 0.452, 'pos': 0.548}"
      ]
     },
     "execution_count": 41,
     "metadata": {},
     "output_type": "execute_result"
    }
   ],
   "source": [
    "polarity(\"The book was GOOD\")"
   ]
  },
  {
   "cell_type": "code",
   "execution_count": 42,
   "metadata": {},
   "outputs": [
    {
     "data": {
      "text/plain": [
       "{'compound': 0.6027, 'neg': 0.0, 'neu': 0.433, 'pos': 0.567}"
      ]
     },
     "execution_count": 42,
     "metadata": {},
     "output_type": "execute_result"
    }
   ],
   "source": [
    "polarity(\"The book was GOOD!\")"
   ]
  },
  {
   "cell_type": "code",
   "execution_count": 45,
   "metadata": {},
   "outputs": [
    {
     "data": {
      "text/plain": [
       "{'compound': 0.6714, 'neg': 0.0, 'neu': 0.4, 'pos': 0.6}"
      ]
     },
     "execution_count": 45,
     "metadata": {},
     "output_type": "execute_result"
    }
   ],
   "source": [
    "polarity(\"The book was GOOD!!!\")"
   ]
  },
  {
   "cell_type": "code",
   "execution_count": 51,
   "metadata": {},
   "outputs": [
    {
     "name": "stdout",
     "output_type": "stream",
     "text": [
      "#########################################################\n"
     ]
    }
   ],
   "source": [
    "print \"#########################################################\""
   ]
  },
  {
   "cell_type": "code",
   "execution_count": 47,
   "metadata": {},
   "outputs": [
    {
     "data": {
      "text/plain": [
       "{'compound': -0.3412, 'neg': 0.376, 'neu': 0.624, 'pos': 0.0}"
      ]
     },
     "execution_count": 47,
     "metadata": {},
     "output_type": "execute_result"
    }
   ],
   "source": [
    "polarity(\"The book was not good\")"
   ]
  },
  {
   "cell_type": "code",
   "execution_count": 48,
   "metadata": {},
   "outputs": [
    {
     "data": {
      "text/plain": [
       "{'compound': -0.4494, 'neg': 0.424, 'neu': 0.576, 'pos': 0.0}"
      ]
     },
     "execution_count": 48,
     "metadata": {},
     "output_type": "execute_result"
    }
   ],
   "source": [
    "polarity(\"The book was not GOOD\")"
   ]
  },
  {
   "cell_type": "code",
   "execution_count": 49,
   "metadata": {},
   "outputs": [
    {
     "data": {
      "text/plain": [
       "{'compound': -0.5007, 'neg': 0.448, 'neu': 0.552, 'pos': 0.0}"
      ]
     },
     "execution_count": 49,
     "metadata": {},
     "output_type": "execute_result"
    }
   ],
   "source": [
    "polarity(\"The book was not GOOD!\")"
   ]
  },
  {
   "cell_type": "code",
   "execution_count": 50,
   "metadata": {},
   "outputs": [
    {
     "data": {
      "text/plain": [
       "{'compound': -0.5892, 'neg': 0.489, 'neu': 0.511, 'pos': 0.0}"
      ]
     },
     "execution_count": 50,
     "metadata": {},
     "output_type": "execute_result"
    }
   ],
   "source": [
    "polarity(\"The book was not GOOD!!!\")"
   ]
  },
  {
   "cell_type": "code",
   "execution_count": 52,
   "metadata": {},
   "outputs": [
    {
     "name": "stdout",
     "output_type": "stream",
     "text": [
      "#########################################################\n"
     ]
    }
   ],
   "source": [
    "print \"#########################################################\""
   ]
  },
  {
   "cell_type": "code",
   "execution_count": 53,
   "metadata": {},
   "outputs": [
    {
     "data": {
      "text/plain": [
       "{'compound': 0.6908, 'neg': 0.0, 'neu': 0.345, 'pos': 0.655}"
      ]
     },
     "execution_count": 53,
     "metadata": {},
     "output_type": "execute_result"
    }
   ],
   "source": [
    "polarity(\"The book was good lol\")"
   ]
  },
  {
   "cell_type": "code",
   "execution_count": null,
   "metadata": {},
   "outputs": [],
   "source": [
    ""
   ]
  }
 ],
 "metadata": {
  "kernelspec": {
   "display_name": "Python 2",
   "language": "python",
   "name": "python2"
  },
  "language_info": {
   "codemirror_mode": {
    "name": "ipython",
    "version": 2.0
   },
   "file_extension": ".py",
   "mimetype": "text/x-python",
   "name": "python",
   "nbconvert_exporter": "python",
   "pygments_lexer": "ipython2",
   "version": "2.7.6"
  }
 },
 "nbformat": 4,
 "nbformat_minor": 0
}